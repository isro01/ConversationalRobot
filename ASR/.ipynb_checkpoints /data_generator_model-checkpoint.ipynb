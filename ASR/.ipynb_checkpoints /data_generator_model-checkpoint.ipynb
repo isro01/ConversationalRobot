{
 "cells": [
  {
   "cell_type": "code",
   "execution_count": 1,
   "metadata": {},
   "outputs": [
    {
     "name": "stderr",
     "output_type": "stream",
     "text": [
      "/home/varun/.local/lib/python3.6/site-packages/librosa/util/decorators.py:9: NumbaDeprecationWarning: An import was requested from a module that has moved location.\n",
      "Import of 'jit' requested from: 'numba.decorators', please update to use 'numba.core.decorators' or pin to Numba version 0.48.0. This alias will not be present in Numba version 0.50.0.\n",
      "  from numba.decorators import jit as optional_jit\n"
     ]
    }
   ],
   "source": [
    "import numpy as np\n",
    "import matplotlib.pyplot as plt\n",
    "import librosa\n",
    "import os\n",
    "import soundfile as sf\n",
    "from scipy.io import wavfile #for audio processing\n",
    "import random"
   ]
  },
  {
   "cell_type": "code",
   "execution_count": 2,
   "metadata": {},
   "outputs": [
    {
     "name": "stdout",
     "output_type": "stream",
     "text": [
      "2.1.0\n"
     ]
    }
   ],
   "source": [
    "import tensorflow as tf\n",
    "print(tf.__version__)"
   ]
  },
  {
   "cell_type": "code",
   "execution_count": 3,
   "metadata": {},
   "outputs": [
    {
     "name": "stderr",
     "output_type": "stream",
     "text": [
      "Using TensorFlow backend.\n"
     ]
    }
   ],
   "source": [
    "from keras.models import Model , Sequential\n",
    "from keras.utils import Sequence\n",
    "import keras"
   ]
  },
  {
   "cell_type": "code",
   "execution_count": 4,
   "metadata": {},
   "outputs": [],
   "source": [
    "os.chdir('/home/varun/Desktop/speechReco')"
   ]
  },
  {
   "cell_type": "code",
   "execution_count": 5,
   "metadata": {},
   "outputs": [
    {
     "data": {
      "text/plain": [
       "'/home/varun/Desktop/speechReco'"
      ]
     },
     "execution_count": 5,
     "metadata": {},
     "output_type": "execute_result"
    }
   ],
   "source": [
    "os.getcwd()"
   ]
  },
  {
   "cell_type": "code",
   "execution_count": 6,
   "metadata": {},
   "outputs": [],
   "source": [
    "path = '/data1'\n",
    "os.chdir(os.getcwd() +path)"
   ]
  },
  {
   "cell_type": "code",
   "execution_count": 7,
   "metadata": {},
   "outputs": [
    {
     "data": {
      "text/plain": [
       "'/home/varun/Desktop/speechReco/data1'"
      ]
     },
     "execution_count": 7,
     "metadata": {},
     "output_type": "execute_result"
    }
   ],
   "source": [
    "os.getcwd()"
   ]
  },
  {
   "cell_type": "code",
   "execution_count": 8,
   "metadata": {},
   "outputs": [],
   "source": [
    "all_classes = ['yes', 'no', 'up', 'down', 'left', 'right', 'on', 'off', 'stop', 'go', 'silence', 'house', 'nine', 'four', 'happy', 'wow', 'five', 'zero', 'tree', 'six', 'one', 'three', 'eight', 'cat', 'two', 'seven', 'marvin', 'dog', 'sheila', 'bed', 'bird']"
   ]
  },
  {
   "cell_type": "code",
   "execution_count": 9,
   "metadata": {},
   "outputs": [
    {
     "data": {
      "text/plain": [
       "31"
      ]
     },
     "execution_count": 9,
     "metadata": {},
     "output_type": "execute_result"
    }
   ],
   "source": [
    "len(all_classes)"
   ]
  },
  {
   "cell_type": "code",
   "execution_count": 10,
   "metadata": {},
   "outputs": [],
   "source": [
    "max_label = 23 "
   ]
  },
  {
   "cell_type": "code",
   "execution_count": 11,
   "metadata": {},
   "outputs": [],
   "source": [
    "char_map_str = \"\"\"\n",
    "<SPACE> 0\n",
    "a 1\n",
    "b 2\n",
    "c 3\n",
    "d 4\n",
    "e 5\n",
    "f 6\n",
    "g 7\n",
    "h 8\n",
    "i 9\n",
    "j 10\n",
    "k 11\n",
    "l 12\n",
    "m 13\n",
    "n 14\n",
    "o 15\n",
    "p 16\n",
    "q 17\n",
    "r 18\n",
    "s 19\n",
    "t 20\n",
    "u 21\n",
    "v 22\n",
    "w 23\n",
    "x 24\n",
    "y 25\n",
    "z 26\n",
    "_ 27\n",
    "\"\"\"\n",
    "\n",
    "char_map = {}\n",
    "index_map = {}\n",
    "\n",
    "for line in char_map_str.strip().split('\\n'):\n",
    "    ch, index = line.split()\n",
    "    if ch == \"<SPACE>\":\n",
    "        ch = \" \"\n",
    "    char_map[ch] = int(index)\n",
    "    index_map[int(index)] = ch\n",
    "\n",
    "index_map[0] = ' '\n",
    "def get_label(Y , max_label):\n",
    "    new = [] \n",
    "    for c in Y:\n",
    "        if c not in char_map:\n",
    "            continue\n",
    "        elif c == \"_\":\n",
    "            continue\n",
    "        else:\n",
    "            ch = char_map[c]\n",
    "            new.append(ch)\n",
    " \n",
    "    while(len(new) < max_label):\n",
    "        new.append(27)\n",
    "    label = np.array(new)\n",
    "    \n",
    "    return label"
   ]
  },
  {
   "cell_type": "code",
   "execution_count": 12,
   "metadata": {},
   "outputs": [
    {
     "data": {
      "text/plain": [
       "{' ': 0,\n",
       " 'a': 1,\n",
       " 'b': 2,\n",
       " 'c': 3,\n",
       " 'd': 4,\n",
       " 'e': 5,\n",
       " 'f': 6,\n",
       " 'g': 7,\n",
       " 'h': 8,\n",
       " 'i': 9,\n",
       " 'j': 10,\n",
       " 'k': 11,\n",
       " 'l': 12,\n",
       " 'm': 13,\n",
       " 'n': 14,\n",
       " 'o': 15,\n",
       " 'p': 16,\n",
       " 'q': 17,\n",
       " 'r': 18,\n",
       " 's': 19,\n",
       " 't': 20,\n",
       " 'u': 21,\n",
       " 'v': 22,\n",
       " 'w': 23,\n",
       " 'x': 24,\n",
       " 'y': 25,\n",
       " 'z': 26,\n",
       " '_': 27}"
      ]
     },
     "execution_count": 12,
     "metadata": {},
     "output_type": "execute_result"
    }
   ],
   "source": [
    "char_map"
   ]
  },
  {
   "cell_type": "code",
   "execution_count": 13,
   "metadata": {
    "scrolled": false
   },
   "outputs": [
    {
     "name": "stdout",
     "output_type": "stream",
     "text": [
      "string : 64727\n",
      "go/a13e0a74_nohash_1.wav \n",
      " go/b0f24c9b_nohash_0.wav\n"
     ]
    }
   ],
   "source": [
    "list_IDs = []\n",
    "\n",
    "for direc in os.listdir():\n",
    "        file = [ f for f in os.listdir(os.getcwd() + '/' + direc ) if f.endswith('.wav')]\n",
    "        for f in file:\n",
    "            list_IDs.append(direc + '/' + f)\n",
    "\n",
    "print(\"string :\",len(list_IDs))\n",
    "print((list_IDs[0]),\"\\n\",(list_IDs[500]))"
   ]
  },
  {
   "cell_type": "code",
   "execution_count": null,
   "metadata": {},
   "outputs": [],
   "source": [
    " "
   ]
  },
  {
   "cell_type": "code",
   "execution_count": 14,
   "metadata": {},
   "outputs": [],
   "source": [
    "class DataGenerator(keras.utils.Sequence):\n",
    "    'Generates data for Keras'\n",
    "    def __init__(self, all_classes, list_IDs, max_label, char_map, total_timedistributed_output = 101, \n",
    "                 batch_size = 100, noise_factor = 0.1 , add_noise = False , normalise = False ,\n",
    "                 dim = (101,594) ,shuffle = True ):\n",
    "        'Initialization'\n",
    "        self.dim = dim\n",
    "        self.batch_size = batch_size\n",
    "        self.all_classes = all_classes\n",
    "        self.list_IDs = list_IDs\n",
    "        self.shuffle = shuffle\n",
    "        self.noise_factor = noise_factor\n",
    "        self.add_noise = add_noise\n",
    "        self.normalise = normalise\n",
    "        self.max_label = max_label\n",
    "        self.char_map  = char_map\n",
    "        self.total_timedistributed_output = total_timedistributed_output\n",
    "        self.on_epoch_end()\n",
    "\n",
    "    def __len__(self):\n",
    "        \n",
    "        'Denotes the number of batches per epoch'\n",
    "#         return int(np.floor(len(self.list_IDs) / self.batch_size))\n",
    "        return 100\n",
    "\n",
    "    def __getitem__(self, index):\n",
    "        'Generate one batch of data'\n",
    "        # Generate indexes of the batch\n",
    "        indexes = self.indexes[index*self.batch_size:(index+1)*self.batch_size]\n",
    "\n",
    "        # Find list of IDs\n",
    "        list_IDs_temp = [self.list_IDs[k] for k in indexes]\n",
    "\n",
    "        # Generate data\n",
    "        X, y = self.__data_generation(list_IDs_temp)\n",
    "        \n",
    "        input_length = np.array([self.total_timedistributed_output for _ in range(self.batch_size)])\n",
    "        label_length = np.array([self.max_label for _ in range(self.batch_size)])\n",
    "        \n",
    "        inputs = {\"the_inputs\": X, \"the_labels\": y, \"input_length\":input_length, \"label_length\": label_length}\n",
    "        outputs = {\"ctc\": y}\n",
    "        return (inputs, outputs)\n",
    "\n",
    "    def on_epoch_end(self):\n",
    "        'Updates indexes after each epoch'\n",
    "        self.indexes = np.arange(len(self.list_IDs))\n",
    "        if self.shuffle == True:\n",
    "            np.random.shuffle(self.indexes)\n",
    "\n",
    "    def __data_generation(self, list_IDs_temp):\n",
    "        'Generates data containing batch_size samples' # X : (n_samples, *dim, n_channels)\n",
    "        # Initialization\n",
    "        X = np.empty((self.batch_size, *self.dim))\n",
    "        y = np.empty((self.batch_size , max_label ), dtype=int)\n",
    "        \n",
    "\n",
    "        # Generate data\n",
    "        for i, ID in enumerate(list_IDs_temp):\n",
    "            # Store sample\n",
    "            \n",
    "            index_2 = random.randint(0,len(list_IDs_temp)-1)\n",
    "            index_3 = random.randint(0,len(list_IDs_temp)-1)\n",
    "            \n",
    "            sample_1 = self.__graph_spectrogram(os.getcwd() + '/' + ID)\n",
    "            sample_2 = self.__graph_spectrogram(os.getcwd() + '/' + list_IDs_temp[index_2])\n",
    "            sample_3 = self.__graph_spectrogram(os.getcwd() + '/' + list_IDs_temp[index_3])\n",
    "            \n",
    "            sample = np.concatenate([sample_1 , sample_2 , sample_3] , axis =1 )\n",
    "            \n",
    "            if(sample.shape != self.dim):\n",
    "                a = np.zeros(self.dim)\n",
    "                if(sample.shape[1] < 594):\n",
    "                    a[: , :sample.shape[1]] = sample\n",
    "                sample = a    \n",
    "            if(self.add_noise):\n",
    "                sample = self.__add_noise(sample , self.noise_factor)\n",
    "            if(self.normalise):\n",
    "                sample = self.__normalise_spectrogram(sample)\n",
    "                \n",
    "            X[i,] = sample\n",
    "\n",
    "            # Store label\n",
    "            y[i,] = self.__get_label((ID.split('/')[0] + ' '+ list_IDs_temp[index_2].split('/')[0] \n",
    "                                      + ' '+ list_IDs_temp[index_3].split('/')[0]) , self.max_label)\n",
    "\n",
    "        return X, y\n",
    "    \n",
    "    def __graph_spectrogram(self, wav_file):\n",
    "        rate, data = self.__get_wav_info(wav_file)\n",
    "        nfft = 200 # Length of each window segment\n",
    "        fs = 8000 # Sampling frequencies\n",
    "        noverlap = 120 # Overlap between windows\n",
    "        nchannels = data.ndim\n",
    "        if nchannels == 1:\n",
    "            pxx, freqs, bins, im = plt.specgram(data, nfft, fs, noverlap = noverlap)\n",
    "        elif nchannels == 2:\n",
    "            pxx, freqs, bins, im = plt.specgram(data[:,0], nfft, fs, noverlap = noverlap)\n",
    "        return pxx\n",
    "\n",
    "    # Load a wav file\n",
    "    def __get_wav_info(self, wav_file):\n",
    "        rate , data = wavfile.read(wav_file)\n",
    "        return rate, data\n",
    "\n",
    "    def __modify_spectrogram_shape(self, sample ,shape = (101,198) ):\n",
    "        a = np.zeros(shape)\n",
    "        a[: , :sample.shape[1]] = sample\n",
    "        return sample\n",
    "    \n",
    "    def __add_noise(self, sample , noise_factor):\n",
    "        noise = np.random.randn(sample.shape)\n",
    "        augmented_data = sample + noise_factor * noise\n",
    "        augmented_data = augmented_data.astype(type(sample[0]))\n",
    "        return augmented_data\n",
    "\n",
    "    def __normalise_spectrogram(self, sample):\n",
    "        mean = np.mean(sample, axis=0)\n",
    "        std = np.std(sample, axis=0)\n",
    "        sample = (sample - mean) / std\n",
    "\n",
    "        return sample\n",
    "    \n",
    "    def __get_label(self, Y , max_label):\n",
    "        new = [] \n",
    "        for c in Y:\n",
    "            if c not in self.char_map:\n",
    "                continue\n",
    "            elif c == \"_\":\n",
    "                continue\n",
    "            else:\n",
    "                ch = self.char_map[c]\n",
    "                new.append(ch)\n",
    "\n",
    "        while(len(new) < max_label):\n",
    "            new.append(27)\n",
    "        label = np.array(new)\n",
    "\n",
    "        return label"
   ]
  },
  {
   "cell_type": "code",
   "execution_count": 15,
   "metadata": {},
   "outputs": [
    {
     "name": "stderr",
     "output_type": "stream",
     "text": [
      "/usr/local/lib/python3.6/dist-packages/matplotlib/axes/_axes.py:7581: RuntimeWarning: divide by zero encountered in log10\n",
      "  Z = 10. * np.log10(spec)\n"
     ]
    },
    {
     "data": {
      "text/plain": [
       "({'the_inputs': array([[[2.14170419e+00, 3.29738135e+00, 4.52739782e+00, ...,\n",
       "           1.15238417e+01, 1.13817673e+02, 1.01925099e+02],\n",
       "          [5.47290284e+00, 9.03716794e+00, 1.50905115e+01, ...,\n",
       "           1.67810348e+02, 5.05525343e+01, 1.73119089e+01],\n",
       "          [4.38564298e+00, 4.49229402e+00, 4.29912101e+00, ...,\n",
       "           3.17921891e+01, 1.12822479e+02, 1.07439485e+02],\n",
       "          ...,\n",
       "          [7.53111139e-05, 1.14345022e-06, 9.26909173e-05, ...,\n",
       "           1.01198645e-04, 7.53625182e-06, 5.00273864e-06],\n",
       "          [9.35004628e-05, 1.99121030e-05, 8.57308399e-06, ...,\n",
       "           3.64888777e-05, 1.54774258e-05, 4.98984254e-05],\n",
       "          [8.55444450e-06, 1.82974584e-05, 1.29977595e-05, ...,\n",
       "           2.34552982e-05, 5.99478017e-10, 6.79916563e-05]],\n",
       "  \n",
       "         [[0.00000000e+00, 0.00000000e+00, 0.00000000e+00, ...,\n",
       "           3.37122051e+00, 4.32493893e+00, 3.19277481e+00],\n",
       "          [0.00000000e+00, 0.00000000e+00, 0.00000000e+00, ...,\n",
       "           7.32657528e+00, 1.17992649e+01, 1.19474394e+01],\n",
       "          [0.00000000e+00, 0.00000000e+00, 0.00000000e+00, ...,\n",
       "           3.83248973e+00, 3.13772042e+00, 1.29313224e+01],\n",
       "          ...,\n",
       "          [0.00000000e+00, 0.00000000e+00, 0.00000000e+00, ...,\n",
       "           2.32925977e-04, 7.65314984e-04, 5.66774523e-04],\n",
       "          [0.00000000e+00, 0.00000000e+00, 0.00000000e+00, ...,\n",
       "           1.21428412e-04, 9.88762847e-04, 6.27700825e-06],\n",
       "          [0.00000000e+00, 0.00000000e+00, 0.00000000e+00, ...,\n",
       "           6.09149216e-06, 4.00111148e-04, 1.05067664e-04]],\n",
       "  \n",
       "         [[6.23054525e-03, 3.90978762e-01, 7.41452633e-01, ...,\n",
       "           7.22440249e+01, 5.75800822e+02, 7.51239250e+02],\n",
       "          [2.51039893e+00, 1.04830630e+01, 1.90354123e+00, ...,\n",
       "           7.99694269e+01, 3.44296333e+02, 3.89346066e+02],\n",
       "          [4.22662332e+00, 1.31122541e+02, 9.51854495e+02, ...,\n",
       "           2.67662935e+01, 2.92860348e+00, 3.35148625e+00],\n",
       "          ...,\n",
       "          [8.10416967e-06, 2.70681347e-05, 5.37978472e-06, ...,\n",
       "           3.45069577e-05, 6.17913630e-06, 8.87646657e-06],\n",
       "          [4.05453355e-06, 1.29835704e-05, 7.84747885e-06, ...,\n",
       "           2.07153885e-06, 4.66919498e-05, 2.70149910e-05],\n",
       "          [7.69589081e-06, 3.16638642e-07, 4.58700259e-06, ...,\n",
       "           1.85904615e-05, 5.81435096e-05, 2.58461039e-05]],\n",
       "  \n",
       "         ...,\n",
       "  \n",
       "         [[1.18567786e-02, 2.63376343e-01, 1.51129699e-01, ...,\n",
       "           2.03616255e-01, 9.04299044e-03, 3.02771052e-02],\n",
       "          [3.27047495e-01, 4.51359083e+00, 9.35307808e+00, ...,\n",
       "           6.51624336e-01, 6.96134217e-02, 1.33495282e-01],\n",
       "          [2.60454293e+00, 1.43825915e+01, 2.19717340e+01, ...,\n",
       "           8.73188198e-02, 1.62561876e-02, 2.95706503e-01],\n",
       "          ...,\n",
       "          [6.76966717e-02, 3.94828890e-03, 1.71161657e-03, ...,\n",
       "           8.62932422e-06, 3.47241521e-05, 2.11233882e-05],\n",
       "          [2.86792278e-02, 4.77694470e-03, 5.79041019e-04, ...,\n",
       "           4.85574825e-05, 5.18816850e-05, 1.74540434e-06],\n",
       "          [6.07137016e-03, 4.90740979e-05, 2.73989089e-04, ...,\n",
       "           4.23450546e-07, 6.18168505e-06, 1.33164133e-06]],\n",
       "  \n",
       "         [[6.00764987e+02, 1.48748156e+02, 8.06673299e+02, ...,\n",
       "           1.28308083e+00, 2.95550799e-01, 3.74542154e-01],\n",
       "          [5.82053938e+02, 8.86444472e+02, 6.77072390e+02, ...,\n",
       "           1.02300585e+01, 3.79704238e-01, 9.97067645e+00],\n",
       "          [1.55521504e+01, 3.48895979e+02, 2.51488344e+01, ...,\n",
       "           1.79631539e+01, 1.44165880e+00, 1.86775796e+01],\n",
       "          ...,\n",
       "          [2.75166670e-05, 4.17557294e-05, 1.84406506e-04, ...,\n",
       "           6.83373479e-06, 6.77007116e-05, 9.32790969e-05],\n",
       "          [5.25159898e-05, 1.30757033e-07, 1.06320604e-04, ...,\n",
       "           3.64199989e-05, 1.25944020e-05, 3.01792944e-06],\n",
       "          [1.90223609e-05, 4.92384994e-06, 3.08704003e-05, ...,\n",
       "           6.14359711e-05, 2.13885362e-05, 2.70331099e-06]],\n",
       "  \n",
       "         [[5.10126136e-02, 2.44174165e-01, 2.72333521e-03, ...,\n",
       "           1.91812642e-03, 1.15709564e-03, 8.63157339e-04],\n",
       "          [7.36756560e-01, 8.62464731e-01, 3.77050918e-01, ...,\n",
       "           1.89470003e-03, 4.98408136e-04, 2.33119143e-03],\n",
       "          [2.82665491e-01, 3.55288649e-01, 5.12627322e-01, ...,\n",
       "           3.50815226e-03, 7.72552840e-04, 3.03564238e-03],\n",
       "          ...,\n",
       "          [6.99706549e-06, 2.58642306e-05, 8.38425992e-06, ...,\n",
       "           4.16472385e-06, 4.93111551e-06, 1.79572347e-05],\n",
       "          [3.71839534e-06, 3.26842035e-05, 2.51561125e-05, ...,\n",
       "           1.85048335e-06, 2.07697819e-05, 1.23278399e-05],\n",
       "          [1.47401335e-07, 1.14624615e-05, 6.74654641e-06, ...,\n",
       "           7.22818722e-07, 1.21541513e-05, 3.16982527e-06]]]),\n",
       "  'the_labels': array([[21, 16,  0, ..., 27, 27, 27],\n",
       "         [26,  5, 18, ..., 27, 27, 27],\n",
       "         [14, 15,  0, ..., 27, 27, 27],\n",
       "         ...,\n",
       "         [19,  8,  5, ..., 27, 27, 27],\n",
       "         [15, 14,  5, ..., 27, 27, 27],\n",
       "         [ 2,  5,  4, ..., 27, 27, 27]]),\n",
       "  'input_length': array([101, 101, 101, 101, 101, 101, 101, 101, 101, 101, 101, 101, 101,\n",
       "         101, 101, 101, 101, 101, 101, 101, 101, 101, 101, 101, 101, 101,\n",
       "         101, 101, 101, 101, 101, 101, 101, 101, 101, 101, 101, 101, 101,\n",
       "         101, 101, 101, 101, 101, 101, 101, 101, 101, 101, 101, 101, 101,\n",
       "         101, 101, 101, 101, 101, 101, 101, 101, 101, 101, 101, 101, 101,\n",
       "         101, 101, 101, 101, 101, 101, 101, 101, 101, 101, 101, 101, 101,\n",
       "         101, 101, 101, 101, 101, 101, 101, 101, 101, 101, 101, 101, 101,\n",
       "         101, 101, 101, 101, 101, 101, 101, 101, 101]),\n",
       "  'label_length': array([23, 23, 23, 23, 23, 23, 23, 23, 23, 23, 23, 23, 23, 23, 23, 23, 23,\n",
       "         23, 23, 23, 23, 23, 23, 23, 23, 23, 23, 23, 23, 23, 23, 23, 23, 23,\n",
       "         23, 23, 23, 23, 23, 23, 23, 23, 23, 23, 23, 23, 23, 23, 23, 23, 23,\n",
       "         23, 23, 23, 23, 23, 23, 23, 23, 23, 23, 23, 23, 23, 23, 23, 23, 23,\n",
       "         23, 23, 23, 23, 23, 23, 23, 23, 23, 23, 23, 23, 23, 23, 23, 23, 23,\n",
       "         23, 23, 23, 23, 23, 23, 23, 23, 23, 23, 23, 23, 23, 23, 23])},\n",
       " {'ctc': array([[21, 16,  0, ..., 27, 27, 27],\n",
       "         [26,  5, 18, ..., 27, 27, 27],\n",
       "         [14, 15,  0, ..., 27, 27, 27],\n",
       "         ...,\n",
       "         [19,  8,  5, ..., 27, 27, 27],\n",
       "         [15, 14,  5, ..., 27, 27, 27],\n",
       "         [ 2,  5,  4, ..., 27, 27, 27]])})"
      ]
     },
     "execution_count": 15,
     "metadata": {},
     "output_type": "execute_result"
    },
    {
     "data": {
      "image/png": "[encoded data removed]",
      "text/plain": [
       "<Figure size 432x288 with 1 Axes>"
      ]
     },
     "metadata": {
      "needs_background": "light"
     },
     "output_type": "display_data"
    }
   ],
   "source": [
    "training_generator = DataGenerator(all_classes ,list_IDs, 23, char_map)\n",
    "training_generator.__getitem__(3)"
   ]
  },
  {
   "cell_type": "code",
   "execution_count": 16,
   "metadata": {},
   "outputs": [],
   "source": [
    "from keras.layers import *\n",
    "from keras.layers.wrappers import TimeDistributed\n",
    "from keras.layers.merge import Add\n",
    "from keras.layers.normalization import BatchNormalization\n",
    "from keras.models import Model\n",
    "from keras import backend as K\n",
    "from keras.utils import plot_model\n",
    "\n",
    "def ctc_lambda_func(args):\n",
    "    y_pred, labels, input_length, label_length = args    \n",
    "    return K.ctc_batch_cost(labels, y_pred, input_length, label_length )    \n",
    "    \n",
    "class CTC():  \n",
    "    def __init__(self,\n",
    "                 input_size=None, \n",
    "                 output_size=None,\n",
    "                 initializer='glorot_uniform'):\n",
    "        self.input_size = input_size\n",
    "        self.output_size = output_size\n",
    "        self.initializer = initializer\n",
    "        self.m = None\n",
    "        self.tm = None\n",
    "                   \n",
    "    def build(self, \n",
    "              conv_filters = 200,\n",
    "              conv2d_filters = 13,\n",
    "              conv_size = 5,\n",
    "              conv2d_strides = 1,\n",
    "              conv_strides = 1,\n",
    "              act = 'relu',\n",
    "              rnn_layers = 2,\n",
    "              LSTM_units = 128,\n",
    "              drop_out = 0.8):\n",
    "           \n",
    "        input_data = Input(shape = self.input_size, name = 'the_inputs')\n",
    "        x = Conv1D(conv_filters, \n",
    "                   conv_size, \n",
    "                   strides = conv_strides,\n",
    "                   padding = \"same\", \n",
    "                   name = 'conv1d1')(input_data)\n",
    "        x = BatchNormalization()(x)\n",
    "        x = Activation(act)(x)\n",
    "        x = Conv1D(conv_filters, \n",
    "                   conv_size, \n",
    "                   strides = conv_strides,\n",
    "                   padding = \"same\", \n",
    "                   name = 'conv1d2')(x)\n",
    "        x = BatchNormalization()(x)\n",
    "        x = Activation(act)(x)\n",
    "        for _ in range(rnn_layers):          \n",
    "            x = Bidirectional(LSTM(LSTM_units, \n",
    "                                   return_sequences = True))(x)\n",
    "            x = Dropout(drop_out)(x)\n",
    "            x = BatchNormalization()(x)\n",
    "        y_pred = TimeDistributed(Dense(self.output_size, \n",
    "                                       activation = 'softmax'))(x)        \n",
    "        # ctc inputs\n",
    "        labels = Input(name='the_labels', shape=[None,], dtype='int32')\n",
    "        input_length = Input(name='input_length', shape=[1], dtype='int32')\n",
    "        label_length = Input(name='label_length', shape=[1], dtype='int32')    \n",
    "        loss_out = Lambda(ctc_lambda_func, \n",
    "                          output_shape=(1,), \n",
    "                          name='ctc')([y_pred,\n",
    "                                        labels,\n",
    "                                        input_length,\n",
    "                                        label_length])        \n",
    "        self.tm = Model(inputs = input_data,\n",
    "                        outputs = y_pred)\n",
    "        self.m = Model(inputs = [input_data, \n",
    "                                 labels, \n",
    "                                 input_length, \n",
    "                                 label_length], \n",
    "                        outputs = loss_out)\n",
    "        return self.m, self.tm\n"
   ]
  },
  {
   "cell_type": "code",
   "execution_count": 17,
   "metadata": {},
   "outputs": [],
   "source": [
    "def ctc(y_true, y_pred):\n",
    "    return y_pred"
   ]
  },
  {
   "cell_type": "code",
   "execution_count": 18,
   "metadata": {},
   "outputs": [
    {
     "name": "stdout",
     "output_type": "stream",
     "text": [
      "WARNING:tensorflow:Large dropout rate: 0.8 (>0.5). In TensorFlow 2.x, dropout() uses dropout rate instead of keep_prob. Please ensure that this is intended.\n",
      "WARNING:tensorflow:Large dropout rate: 0.8 (>0.5). In TensorFlow 2.x, dropout() uses dropout rate instead of keep_prob. Please ensure that this is intended.\n"
     ]
    },
    {
     "data": {
      "text/plain": [
       "(<keras.engine.training.Model at 0x7fe5b846fd68>,\n",
       " <keras.engine.training.Model at 0x7fe5b846fbe0>)"
      ]
     },
     "execution_count": 18,
     "metadata": {},
     "output_type": "execute_result"
    }
   ],
   "source": [
    "model_ctc = CTC((101,594), 28)\n",
    "model_ctc.build()"
   ]
  },
  {
   "cell_type": "code",
   "execution_count": 19,
   "metadata": {},
   "outputs": [
    {
     "name": "stdout",
     "output_type": "stream",
     "text": [
      "Model: \"model_2\"\n",
      "__________________________________________________________________________________________________\n",
      "Layer (type)                    Output Shape         Param #     Connected to                     \n",
      "==================================================================================================\n",
      "the_inputs (InputLayer)         (None, 101, 594)     0                                            \n",
      "__________________________________________________________________________________________________\n",
      "conv1d1 (Conv1D)                (None, 101, 200)     594200      the_inputs[0][0]                 \n",
      "__________________________________________________________________________________________________\n",
      "batch_normalization_1 (BatchNor (None, 101, 200)     800         conv1d1[0][0]                    \n",
      "__________________________________________________________________________________________________\n",
      "activation_1 (Activation)       (None, 101, 200)     0           batch_normalization_1[0][0]      \n",
      "__________________________________________________________________________________________________\n",
      "conv1d2 (Conv1D)                (None, 101, 200)     200200      activation_1[0][0]               \n",
      "__________________________________________________________________________________________________\n",
      "batch_normalization_2 (BatchNor (None, 101, 200)     800         conv1d2[0][0]                    \n",
      "__________________________________________________________________________________________________\n",
      "activation_2 (Activation)       (None, 101, 200)     0           batch_normalization_2[0][0]      \n",
      "__________________________________________________________________________________________________\n",
      "bidirectional_1 (Bidirectional) (None, 101, 256)     336896      activation_2[0][0]               \n",
      "__________________________________________________________________________________________________\n",
      "dropout_1 (Dropout)             (None, 101, 256)     0           bidirectional_1[0][0]            \n",
      "__________________________________________________________________________________________________\n",
      "batch_normalization_3 (BatchNor (None, 101, 256)     1024        dropout_1[0][0]                  \n",
      "__________________________________________________________________________________________________\n",
      "bidirectional_2 (Bidirectional) (None, 101, 256)     394240      batch_normalization_3[0][0]      \n",
      "__________________________________________________________________________________________________\n",
      "dropout_2 (Dropout)             (None, 101, 256)     0           bidirectional_2[0][0]            \n",
      "__________________________________________________________________________________________________\n",
      "batch_normalization_4 (BatchNor (None, 101, 256)     1024        dropout_2[0][0]                  \n",
      "__________________________________________________________________________________________________\n",
      "time_distributed_1 (TimeDistrib (None, 101, 28)      7196        batch_normalization_4[0][0]      \n",
      "__________________________________________________________________________________________________\n",
      "the_labels (InputLayer)         (None, None)         0                                            \n",
      "__________________________________________________________________________________________________\n",
      "input_length (InputLayer)       (None, 1)            0                                            \n",
      "__________________________________________________________________________________________________\n",
      "label_length (InputLayer)       (None, 1)            0                                            \n",
      "__________________________________________________________________________________________________\n",
      "ctc (Lambda)                    (None, 1)            0           time_distributed_1[0][0]         \n",
      "                                                                 the_labels[0][0]                 \n",
      "                                                                 input_length[0][0]               \n",
      "                                                                 label_length[0][0]               \n",
      "==================================================================================================\n",
      "Total params: 1,536,380\n",
      "Trainable params: 1,534,556\n",
      "Non-trainable params: 1,824\n",
      "__________________________________________________________________________________________________\n"
     ]
    }
   ],
   "source": [
    "model_ctc.m.summary()"
   ]
  },
  {
   "cell_type": "code",
   "execution_count": 20,
   "metadata": {},
   "outputs": [],
   "source": [
    "model_ctc.m.compile(loss = ctc, optimizer = 'adam', metrics = ['accuracy'])"
   ]
  },
  {
   "cell_type": "code",
   "execution_count": null,
   "metadata": {},
   "outputs": [
    {
     "name": "stdout",
     "output_type": "stream",
     "text": [
      "Epoch 1/1\n"
     ]
    },
    {
     "name": "stderr",
     "output_type": "stream",
     "text": [
      "/usr/local/lib/python3.6/dist-packages/matplotlib/axes/_axes.py:7581: RuntimeWarning: divide by zero encountered in log10\n",
      "  Z = 10. * np.log10(spec)\n"
     ]
    },
    {
     "name": "stdout",
     "output_type": "stream",
     "text": [
      " 86/100 [========================>.....] - ETA: 3:38 - loss: 76.8302 - accuracy: 5.7128e-04"
     ]
    },
    {
     "name": "stderr",
     "output_type": "stream",
     "text": [
      "/home/varun/.local/lib/python3.6/site-packages/keras/utils/data_utils.py:616: UserWarning: The input 20 could not be retrieved. It could be because a worker has died.\n",
      "  UserWarning)\n"
     ]
    }
   ],
   "source": [
    "history = model_ctc.m.fit_generator(training_generator, epochs=1)"
   ]
  },
  {
   "cell_type": "code",
   "execution_count": null,
   "metadata": {},
   "outputs": [],
   "source": [
    "import matplotlib.pyplot as plt\n",
    "\n",
    "plt.xlabel(\"EPOCHS\")\n",
    "plt.ylabel(\"ACCURACY\")\n",
    "plt.plot(history.history[\"accuracy\"])\n",
    "plt.title(\"accuray vs epochs\")\n",
    "\n"
   ]
  },
  {
   "cell_type": "code",
   "execution_count": null,
   "metadata": {},
   "outputs": [],
   "source": [
    "plt.xlabel(\"EPOCHS\")\n",
    "plt.ylabel(\"LOSS\")\n",
    "plt.plot(history.history[\"loss\"])\n",
    "plt.title(\"loss  vs epochs\")"
   ]
  },
  {
   "cell_type": "code",
   "execution_count": null,
   "metadata": {},
   "outputs": [],
   "source": [
    "model_ctc.m.save(\"model.h5\")\n",
    "print(\"Saved model to disk\")"
   ]
  },
  {
   "cell_type": "code",
   "execution_count": null,
   "metadata": {},
   "outputs": [],
   "source": []
  },
  {
   "cell_type": "code",
   "execution_count": null,
   "metadata": {},
   "outputs": [],
   "source": []
  },
  {
   "cell_type": "code",
   "execution_count": null,
   "metadata": {},
   "outputs": [],
   "source": []
  },
  {
   "cell_type": "code",
   "execution_count": null,
   "metadata": {},
   "outputs": [],
   "source": []
  }
 ],
 "metadata": {
  "kernelspec": {
   "display_name": "Python 3",
   "language": "python",
   "name": "python3"
  },
  "language_info": {
   "codemirror_mode": {
    "name": "ipython",
    "version": 3
   },
   "file_extension": ".py",
   "mimetype": "text/x-python",
   "name": "python",
   "nbconvert_exporter": "python",
   "pygments_lexer": "ipython3",
   "version": "3.6.9"
  }
 },
 "nbformat": 4,
 "nbformat_minor": 4
}
