{
 "cells": [
  {
   "cell_type": "code",
   "execution_count": 47,
   "metadata": {
    "colab": {},
    "colab_type": "code",
    "id": "R4tJOd7fw2ht"
   },
   "outputs": [],
   "source": [
    "import librosa   #for audio processing\n",
    "import IPython.display as ipd\n",
    "import matplotlib.pyplot as plt\n",
    "import os\n",
    "import soundfile as sf\n",
    "import numpy as np\n",
    "from scipy.io import wavfile #for audio processing\n",
    "import warnings\n",
    "warnings.filterwarnings(\"ignore\")"
   ]
  },
  {
   "cell_type": "code",
   "execution_count": 48,
   "metadata": {
    "colab": {
     "base_uri": "https://localhost:8080/",
     "height": 125
    },
    "colab_type": "code",
    "executionInfo": {
     "elapsed": 11013,
     "status": "ok",
     "timestamp": 1591087893351,
     "user": {
      "displayName": "Varun Khatri",
      "photoUrl": "https://lh3.googleusercontent.com/a-/AOh14GgNZKs5H2GANAWMcLPo9gyOyudU3gTuCoTvaoHx5g=s64",
      "userId": "04333460920277324581"
     },
     "user_tz": -330
    },
    "id": "lXEQ7py58dcs",
    "outputId": "73be8eb5-3619-4b57-c20f-dc27b155e790"
   },
   "outputs": [
    {
     "name": "stdout",
     "output_type": "stream",
     "text": [
      "Defaulting to user installation because normal site-packages is not writeable\n",
      "Requirement already satisfied: soundfile in /home/varun/.local/lib/python3.6/site-packages (0.10.3.post1)\n",
      "Requirement already satisfied: cffi>=1.0 in /home/varun/.local/lib/python3.6/site-packages (from soundfile) (1.14.0)\n",
      "Requirement already satisfied: pycparser in /home/varun/.local/lib/python3.6/site-packages (from cffi>=1.0->soundfile) (2.20)\n"
     ]
    }
   ],
   "source": [
    "!pip install soundfile"
   ]
  },
  {
   "cell_type": "code",
   "execution_count": 49,
   "metadata": {
    "colab": {
     "base_uri": "https://localhost:8080/",
     "height": 127
    },
    "colab_type": "code",
    "executionInfo": {
     "elapsed": 34798,
     "status": "ok",
     "timestamp": 1591087945513,
     "user": {
      "displayName": "Varun Khatri",
      "photoUrl": "https://lh3.googleusercontent.com/a-/AOh14GgNZKs5H2GANAWMcLPo9gyOyudU3gTuCoTvaoHx5g=s64",
      "userId": "04333460920277324581"
     },
     "user_tz": -330
    },
    "id": "pvRSWR-H3_bg",
    "outputId": "3402c64c-df18-4c2d-f64b-1ea7c1369bc6"
   },
   "outputs": [],
   "source": [
    "# from google.colab import drive\n",
    "# drive.mount(\"/content/gdrive\")"
   ]
  },
  {
   "cell_type": "code",
   "execution_count": 53,
   "metadata": {
    "colab": {
     "base_uri": "https://localhost:8080/",
     "height": 35
    },
    "colab_type": "code",
    "executionInfo": {
     "elapsed": 2654,
     "status": "ok",
     "timestamp": 1591087957223,
     "user": {
      "displayName": "Varun Khatri",
      "photoUrl": "https://lh3.googleusercontent.com/a-/AOh14GgNZKs5H2GANAWMcLPo9gyOyudU3gTuCoTvaoHx5g=s64",
      "userId": "04333460920277324581"
     },
     "user_tz": -330
    },
    "id": "7zyfQu4d4AJW",
    "outputId": "b927894e-7120-4cfc-a94e-683c752e0cb9"
   },
   "outputs": [
    {
     "data": {
      "text/plain": [
       "'/home/varun/Desktop/speechReco/data1'"
      ]
     },
     "execution_count": 53,
     "metadata": {},
     "output_type": "execute_result"
    }
   ],
   "source": [
    "os.getcwd()"
   ]
  },
  {
   "cell_type": "code",
   "execution_count": 51,
   "metadata": {
    "colab": {},
    "colab_type": "code",
    "id": "m-G3AfsQ4WFp"
   },
   "outputs": [
    {
     "ename": "FileNotFoundError",
     "evalue": "[Errno 2] No such file or directory: '/home/varun/Desktop/speechReco/data1/data1'",
     "output_type": "error",
     "traceback": [
      "\u001b[0;31m---------------------------------------------------------------------------\u001b[0m",
      "\u001b[0;31mFileNotFoundError\u001b[0m                         Traceback (most recent call last)",
      "\u001b[0;32m<ipython-input-51-788a6e197743>\u001b[0m in \u001b[0;36m<module>\u001b[0;34m\u001b[0m\n\u001b[1;32m      1\u001b[0m \u001b[0mpath\u001b[0m \u001b[0;34m=\u001b[0m \u001b[0;34m'/data1'\u001b[0m\u001b[0;34m\u001b[0m\u001b[0;34m\u001b[0m\u001b[0m\n\u001b[0;32m----> 2\u001b[0;31m \u001b[0mos\u001b[0m\u001b[0;34m.\u001b[0m\u001b[0mchdir\u001b[0m\u001b[0;34m(\u001b[0m\u001b[0mos\u001b[0m\u001b[0;34m.\u001b[0m\u001b[0mgetcwd\u001b[0m\u001b[0;34m(\u001b[0m\u001b[0;34m)\u001b[0m \u001b[0;34m+\u001b[0m\u001b[0mpath\u001b[0m\u001b[0;34m)\u001b[0m\u001b[0;34m\u001b[0m\u001b[0;34m\u001b[0m\u001b[0m\n\u001b[0m",
      "\u001b[0;31mFileNotFoundError\u001b[0m: [Errno 2] No such file or directory: '/home/varun/Desktop/speechReco/data1/data1'"
     ]
    }
   ],
   "source": [
    "path = '/data1'\n",
    "os.chdir(os.getcwd() +path)"
   ]
  },
  {
   "cell_type": "code",
   "execution_count": 54,
   "metadata": {
    "colab": {
     "base_uri": "https://localhost:8080/",
     "height": 35
    },
    "colab_type": "code",
    "executionInfo": {
     "elapsed": 2103,
     "status": "ok",
     "timestamp": 1591087957225,
     "user": {
      "displayName": "Varun Khatri",
      "photoUrl": "https://lh3.googleusercontent.com/a-/AOh14GgNZKs5H2GANAWMcLPo9gyOyudU3gTuCoTvaoHx5g=s64",
      "userId": "04333460920277324581"
     },
     "user_tz": -330
    },
    "id": "j-iTeeW_4hKU",
    "outputId": "efde3e63-795e-4066-d453-66887dd0ac33"
   },
   "outputs": [
    {
     "data": {
      "text/plain": [
       "'/home/varun/Desktop/speechReco/data1'"
      ]
     },
     "execution_count": 54,
     "metadata": {},
     "output_type": "execute_result"
    }
   ],
   "source": [
    "os.getcwd()"
   ]
  },
  {
   "cell_type": "code",
   "execution_count": 55,
   "metadata": {},
   "outputs": [
    {
     "data": {
      "text/plain": [
       "['go',\n",
       " 'four',\n",
       " 'happy',\n",
       " 'nine',\n",
       " 'bed',\n",
       " 'house',\n",
       " 'off',\n",
       " 'eight',\n",
       " 'down',\n",
       " 'no',\n",
       " 'dog',\n",
       " 'marvin',\n",
       " 'on',\n",
       " 'bird',\n",
       " 'cat',\n",
       " 'five',\n",
       " 'left']"
      ]
     },
     "execution_count": 55,
     "metadata": {},
     "output_type": "execute_result"
    }
   ],
   "source": [
    "os.listdir()"
   ]
  },
  {
   "cell_type": "code",
   "execution_count": 56,
   "metadata": {
    "colab": {},
    "colab_type": "code",
    "id": "pk4hXhbB4j8d"
   },
   "outputs": [],
   "source": [
    "import librosa   #for audio processing\n",
    "import IPython.display as ipd\n",
    "import matplotlib.pyplot as plt\n",
    "import soundfile as sf\n",
    "import numpy as np\n",
    "from scipy.io import wavfile #for audio processing\n",
    "import warnings\n",
    "warnings.filterwarnings(\"ignore\")"
   ]
  },
  {
   "cell_type": "code",
   "execution_count": 57,
   "metadata": {
    "colab": {},
    "colab_type": "code",
    "id": "-Kd5eT8f4n3J"
   },
   "outputs": [],
   "source": [
    "def graph_spectrogram(wav_file):\n",
    "    rate, data = get_wav_info(wav_file)\n",
    "    nfft = 200 # Length of each window segment\n",
    "    fs = 8000 # Sampling frequencies\n",
    "    noverlap = 120 # Overlap between windows\n",
    "    nchannels = data.ndim\n",
    "    if nchannels == 1:\n",
    "        pxx, freqs, bins, im = plt.specgram(data, nfft, fs, noverlap = noverlap)\n",
    "    elif nchannels == 2:\n",
    "        pxx, freqs, bins, im = plt.specgram(data[:,0], nfft, fs, noverlap = noverlap)\n",
    "    return pxx\n",
    "\n",
    "# Load a wav file\n",
    "def get_wav_info(wav_file):\n",
    "    rate , data = wavfile.read(wav_file)\n",
    "    return rate, data\n"
   ]
  },
  {
   "cell_type": "code",
   "execution_count": 58,
   "metadata": {
    "colab": {
     "base_uri": "https://localhost:8080/",
     "height": 269
    },
    "colab_type": "code",
    "executionInfo": {
     "elapsed": 267023,
     "status": "ok",
     "timestamp": 1591088222297,
     "user": {
      "displayName": "Varun Khatri",
      "photoUrl": "https://lh3.googleusercontent.com/a-/AOh14GgNZKs5H2GANAWMcLPo9gyOyudU3gTuCoTvaoHx5g=s64",
      "userId": "04333460920277324581"
     },
     "user_tz": -330
    },
    "id": "NubaRb-74sAp",
    "outputId": "3b2e131b-19ab-45eb-81d3-9dcfcd780cde"
   },
   "outputs": [
    {
     "data": {
      "image/png": "[encoded data removed]",
      "text/plain": [
       "<Figure size 432x288 with 1 Axes>"
      ]
     },
     "metadata": {
      "needs_background": "light"
     },
     "output_type": "display_data"
    }
   ],
   "source": [
    "labels = []\n",
    "file_names = []\n",
    "samples = []\n",
    "\n",
    "for direc in os.listdir():\n",
    "        file = [ f for f in os.listdir(os.getcwd() + '/' + direc ) if f.endswith('.wav')]\n",
    "        for f in file:\n",
    "            sample = graph_spectrogram(os.getcwd() + \"/\" + direc + \"/\" + f)\n",
    "            samples.append(sample)\n",
    "            labels.append(direc)\n",
    "        if(len(samples)) > 500:\n",
    "          break\n",
    "                        "
   ]
  },
  {
   "cell_type": "code",
   "execution_count": 59,
   "metadata": {
    "colab": {
     "base_uri": "https://localhost:8080/",
     "height": 35
    },
    "colab_type": "code",
    "executionInfo": {
     "elapsed": 266967,
     "status": "ok",
     "timestamp": 1591088222299,
     "user": {
      "displayName": "Varun Khatri",
      "photoUrl": "https://lh3.googleusercontent.com/a-/AOh14GgNZKs5H2GANAWMcLPo9gyOyudU3gTuCoTvaoHx5g=s64",
      "userId": "04333460920277324581"
     },
     "user_tz": -330
    },
    "id": "RG6Io_Nj4xrU",
    "outputId": "aeae7025-c5b2-474f-aa3d-3a96d41925c3"
   },
   "outputs": [
    {
     "data": {
      "text/plain": [
       "520"
      ]
     },
     "execution_count": 59,
     "metadata": {},
     "output_type": "execute_result"
    }
   ],
   "source": [
    "len(labels)"
   ]
  },
  {
   "cell_type": "code",
   "execution_count": 60,
   "metadata": {
    "colab": {
     "base_uri": "https://localhost:8080/",
     "height": 35
    },
    "colab_type": "code",
    "executionInfo": {
     "elapsed": 266917,
     "status": "ok",
     "timestamp": 1591088222300,
     "user": {
      "displayName": "Varun Khatri",
      "photoUrl": "https://lh3.googleusercontent.com/a-/AOh14GgNZKs5H2GANAWMcLPo9gyOyudU3gTuCoTvaoHx5g=s64",
      "userId": "04333460920277324581"
     },
     "user_tz": -330
    },
    "id": "NiiHIf2K5vp7",
    "outputId": "155d5c3a-b1a9-4e95-fe1d-2382f2b3dde6"
   },
   "outputs": [
    {
     "data": {
      "text/plain": [
       "520"
      ]
     },
     "execution_count": 60,
     "metadata": {},
     "output_type": "execute_result"
    }
   ],
   "source": [
    "len(samples)"
   ]
  },
  {
   "cell_type": "code",
   "execution_count": 61,
   "metadata": {
    "colab": {
     "base_uri": "https://localhost:8080/",
     "height": 35
    },
    "colab_type": "code",
    "executionInfo": {
     "elapsed": 266870,
     "status": "ok",
     "timestamp": 1591088222301,
     "user": {
      "displayName": "Varun Khatri",
      "photoUrl": "https://lh3.googleusercontent.com/a-/AOh14GgNZKs5H2GANAWMcLPo9gyOyudU3gTuCoTvaoHx5g=s64",
      "userId": "04333460920277324581"
     },
     "user_tz": -330
    },
    "id": "_KfgrroF6WI_",
    "outputId": "6cd39d84-7957-4f1d-cefc-adfa988ed839"
   },
   "outputs": [
    {
     "name": "stdout",
     "output_type": "stream",
     "text": [
      "198\n"
     ]
    }
   ],
   "source": [
    "max_len = 0\n",
    "for sam in samples:\n",
    "  if sam.shape[1] > max_len:\n",
    "    max_len = sam.shape[1]\n",
    "\n",
    "print(max_len)\n"
   ]
  },
  {
   "cell_type": "code",
   "execution_count": 62,
   "metadata": {
    "colab": {
     "base_uri": "https://localhost:8080/",
     "height": 55
    },
    "colab_type": "code",
    "executionInfo": {
     "elapsed": 266827,
     "status": "ok",
     "timestamp": 1591088222302,
     "user": {
      "displayName": "Varun Khatri",
      "photoUrl": "https://lh3.googleusercontent.com/a-/AOh14GgNZKs5H2GANAWMcLPo9gyOyudU3gTuCoTvaoHx5g=s64",
      "userId": "04333460920277324581"
     },
     "user_tz": -330
    },
    "id": "wWP-k2U69i_j",
    "outputId": "682d02ba-fad0-4113-fd6f-55fd891b4624"
   },
   "outputs": [
    {
     "data": {
      "text/plain": [
       "'go'"
      ]
     },
     "execution_count": 62,
     "metadata": {},
     "output_type": "execute_result"
    }
   ],
   "source": [
    "labels[2]"
   ]
  },
  {
   "cell_type": "code",
   "execution_count": 63,
   "metadata": {
    "colab": {
     "base_uri": "https://localhost:8080/",
     "height": 35
    },
    "colab_type": "code",
    "executionInfo": {
     "elapsed": 266776,
     "status": "ok",
     "timestamp": 1591088222302,
     "user": {
      "displayName": "Varun Khatri",
      "photoUrl": "https://lh3.googleusercontent.com/a-/AOh14GgNZKs5H2GANAWMcLPo9gyOyudU3gTuCoTvaoHx5g=s64",
      "userId": "04333460920277324581"
     },
     "user_tz": -330
    },
    "id": "TXUfpd9E8lSO",
    "outputId": "dd223051-3a91-49c8-9442-3ceab036747f"
   },
   "outputs": [
    {
     "name": "stdout",
     "output_type": "stream",
     "text": [
      "520\n"
     ]
    }
   ],
   "source": [
    "new_samples = []\n",
    "count = 0\n",
    "for sam in samples:\n",
    "  a = np.zeros((101,max_len))\n",
    "  a[:,:sam.shape[1]] = sam\n",
    "  new_samples.append(a)\n",
    "  count +=1\n",
    "\n",
    "print(count)\n"
   ]
  },
  {
   "cell_type": "code",
   "execution_count": 64,
   "metadata": {
    "colab": {
     "base_uri": "https://localhost:8080/",
     "height": 35
    },
    "colab_type": "code",
    "executionInfo": {
     "elapsed": 266732,
     "status": "ok",
     "timestamp": 1591088222303,
     "user": {
      "displayName": "Varun Khatri",
      "photoUrl": "https://lh3.googleusercontent.com/a-/AOh14GgNZKs5H2GANAWMcLPo9gyOyudU3gTuCoTvaoHx5g=s64",
      "userId": "04333460920277324581"
     },
     "user_tz": -330
    },
    "id": "PHv0fuy2-B0h",
    "outputId": "4d5cd3c2-21e3-45f1-9d94-32aa42be085d"
   },
   "outputs": [
    {
     "name": "stdout",
     "output_type": "stream",
     "text": [
      "(520, 101, 198, 1)\n"
     ]
    }
   ],
   "source": [
    "new_samples = np.array(new_samples)\n",
    "new_samples = new_samples.reshape(520,101,198,1)\n",
    "print(new_samples.shape)\n",
    "\n",
    "\n"
   ]
  },
  {
   "cell_type": "code",
   "execution_count": 65,
   "metadata": {
    "colab": {},
    "colab_type": "code",
    "id": "Un2meWtw_mI5"
   },
   "outputs": [],
   "source": [
    "max_label = 0\n",
    "for label in labels:\n",
    "  if len(label) > max_label:\n",
    "    max_label = len(label) \n",
    "\n"
   ]
  },
  {
   "cell_type": "code",
   "execution_count": 66,
   "metadata": {
    "colab": {
     "base_uri": "https://localhost:8080/",
     "height": 35
    },
    "colab_type": "code",
    "executionInfo": {
     "elapsed": 266630,
     "status": "ok",
     "timestamp": 1591088222305,
     "user": {
      "displayName": "Varun Khatri",
      "photoUrl": "https://lh3.googleusercontent.com/a-/AOh14GgNZKs5H2GANAWMcLPo9gyOyudU3gTuCoTvaoHx5g=s64",
      "userId": "04333460920277324581"
     },
     "user_tz": -330
    },
    "id": "1X5TGoRnEPni",
    "outputId": "a1fed5e5-a0c0-4a61-98c6-14a14ecedfff"
   },
   "outputs": [
    {
     "name": "stdout",
     "output_type": "stream",
     "text": [
      "6\n"
     ]
    }
   ],
   "source": [
    "print(max_label)\n",
    "max_label = 23"
   ]
  },
  {
   "cell_type": "code",
   "execution_count": 75,
   "metadata": {
    "colab": {},
    "colab_type": "code",
    "id": "qq2gjns8ESGU"
   },
   "outputs": [],
   "source": [
    "import numpy as np\n",
    "\n",
    "#%%\n",
    "# From Baidu ba-dls-deepspeech - https://github.com/baidu-research/ba-dls-deepspeech\n",
    "# Character map list\n",
    "\n",
    "char_map_str = \"\"\"\n",
    "<SPACE> 0\n",
    "a 1\n",
    "b 2\n",
    "c 3\n",
    "d 4\n",
    "e 5\n",
    "f 6\n",
    "g 7\n",
    "h 8\n",
    "i 9\n",
    "j 10\n",
    "k 11\n",
    "l 12\n",
    "m 13\n",
    "n 14\n",
    "o 15\n",
    "p 16\n",
    "q 17\n",
    "r 18\n",
    "s 19\n",
    "t 20\n",
    "u 21\n",
    "v 22\n",
    "w 23\n",
    "x 24\n",
    "y 25\n",
    "z 26\n",
    "' 27\n",
    "\"\"\"\n",
    "\n",
    "char_map = {}\n",
    "index_map = {}\n",
    "\n",
    "for line in char_map_str.strip().split('\\n'):\n",
    "    ch, index = line.split()\n",
    "    char_map[ch] = int(index)\n",
    "    index_map[int(index)] = ch\n",
    "\n",
    "index_map[0] = ' '\n",
    "\n",
    "\n",
    "def get_param(Y):\n",
    "  labels = np.zeros((520,23))\n",
    "\n",
    "  for idx,label in enumerate(Y):\n",
    "    new = []\n",
    "    for word in label.split():\n",
    "      for c in word:\n",
    "        if c not in char_map:\n",
    "          continue\n",
    "        elif c == \"'\":\n",
    "          continue\n",
    "        else:\n",
    "          ch = char_map[c]\n",
    "          new.append(ch)\n",
    "#       if(len(new) < max_label):\n",
    "#         new.append(0)\n",
    "    while(len(new) < max_label):\n",
    "      new.append(27)\n",
    "    labels[idx,:] = np.array(new)\n",
    "\n",
    "  input_length = np.array([max_label for _ in Y])\n",
    "  label_length = np.array([max_label for _ in Y])\n",
    "\n",
    "\n",
    "  return labels , input_length , label_length           "
   ]
  },
  {
   "cell_type": "code",
   "execution_count": 76,
   "metadata": {
    "colab": {
     "base_uri": "https://localhost:8080/",
     "height": 521
    },
    "colab_type": "code",
    "executionInfo": {
     "elapsed": 266517,
     "status": "ok",
     "timestamp": 1591088222306,
     "user": {
      "displayName": "Varun Khatri",
      "photoUrl": "https://lh3.googleusercontent.com/a-/AOh14GgNZKs5H2GANAWMcLPo9gyOyudU3gTuCoTvaoHx5g=s64",
      "userId": "04333460920277324581"
     },
     "user_tz": -330
    },
    "id": "_6hsTG26Msd5",
    "outputId": "3748f8a4-ec19-4ebd-f554-217cfbe9cb52"
   },
   "outputs": [
    {
     "data": {
      "text/plain": [
       "{'<SPACE>': 0,\n",
       " 'a': 1,\n",
       " 'b': 2,\n",
       " 'c': 3,\n",
       " 'd': 4,\n",
       " 'e': 5,\n",
       " 'f': 6,\n",
       " 'g': 7,\n",
       " 'h': 8,\n",
       " 'i': 9,\n",
       " 'j': 10,\n",
       " 'k': 11,\n",
       " 'l': 12,\n",
       " 'm': 13,\n",
       " 'n': 14,\n",
       " 'o': 15,\n",
       " 'p': 16,\n",
       " 'q': 17,\n",
       " 'r': 18,\n",
       " 's': 19,\n",
       " 't': 20,\n",
       " 'u': 21,\n",
       " 'v': 22,\n",
       " 'w': 23,\n",
       " 'x': 24,\n",
       " 'y': 25,\n",
       " 'z': 26,\n",
       " \"'\": 27}"
      ]
     },
     "execution_count": 76,
     "metadata": {},
     "output_type": "execute_result"
    }
   ],
   "source": [
    "char_map\n"
   ]
  },
  {
   "cell_type": "code",
   "execution_count": 140,
   "metadata": {
    "colab": {
     "base_uri": "https://localhost:8080/",
     "height": 35
    },
    "colab_type": "code",
    "executionInfo": {
     "elapsed": 269119,
     "status": "ok",
     "timestamp": 1591088224950,
     "user": {
      "displayName": "Varun Khatri",
      "photoUrl": "https://lh3.googleusercontent.com/a-/AOh14GgNZKs5H2GANAWMcLPo9gyOyudU3gTuCoTvaoHx5g=s64",
      "userId": "04333460920277324581"
     },
     "user_tz": -330
    },
    "id": "LkYWl7LyEZe_",
    "outputId": "c76f4501-7974-4cf8-b75e-2ae3c631103b"
   },
   "outputs": [],
   "source": [
    "from keras.layers import *\n",
    "from keras.layers.wrappers import TimeDistributed\n",
    "from keras.layers.merge import Add\n",
    "from keras.layers.normalization import BatchNormalization\n",
    "from keras.models import Model\n",
    "from keras import backend as K\n",
    "from keras.utils import plot_model\n",
    "\n",
    "def ctc_lambda_func(args):\n",
    "    y_pred, labels, input_length, label_length = args    \n",
    "    return K.ctc_batch_cost(labels, y_pred, input_length, label_length )    \n",
    "    \n",
    "        \n",
    "#%%\n",
    "class CTC():\n",
    "    \"\"\"\n",
    "    Usage:\n",
    "        sr_ctc = CTC(enter input_size and output_size)\n",
    "        sr_ctc.build()\n",
    "        sr_ctc.m.compile()\n",
    "        sr_ctc.tm.compile()\n",
    "    \"\"\"       \n",
    "    def __init__(self,\n",
    "                 input_size=None, \n",
    "                 output_size=None,\n",
    "                 initializer='glorot_uniform'):\n",
    "        self.input_size = input_size\n",
    "        self.output_size = output_size\n",
    "        self.initializer = initializer\n",
    "        self.m = None\n",
    "        self.tm = None\n",
    "                   \n",
    "    def build(self, \n",
    "              conv_filters = 200,\n",
    "              conv2d_filters = 13,\n",
    "              conv_size = 5,\n",
    "              conv2d_strides = 1,\n",
    "              conv_strides = 4,\n",
    "              act = 'relu',\n",
    "              rnn_layers = 2,\n",
    "              LSTM_units = 128,\n",
    "              drop_out = 0.8):\n",
    "           \n",
    "        i = Input(shape = self.input_size, name = 'input')\n",
    "        x = Conv2D(conv2d_filters,\n",
    "                   conv_size,\n",
    "                   strides = (conv2d_strides, conv2d_strides),\n",
    "                   padding = \"same\",\n",
    "                   name = \"conv2d1\")(i)\n",
    "        x = BatchNormalization()(x)\n",
    "        x = Activation(act)(x)\n",
    "        x = Conv2D(conv2d_filters,\n",
    "                   conv_size,\n",
    "                   strides = (conv2d_strides , conv2d_strides),\n",
    "                   padding = \"same\",\n",
    "                   name = \"conv2d2\")(x)\n",
    "        x = BatchNormalization()(x)\n",
    "        x = Activation(act)(x)\n",
    "        x = Reshape([606,-1])(x)\n",
    "        x = Conv1D(conv_filters, \n",
    "                   conv_size, \n",
    "                   strides = conv_strides,\n",
    "                   padding = \"same\", \n",
    "                   name = 'conv1d1')(x)\n",
    "        x = BatchNormalization()(x)\n",
    "        x = Activation(act)(x)\n",
    "        x = Conv1D(conv_filters, \n",
    "                   conv_size, \n",
    "                   strides = conv_strides,\n",
    "                   padding = \"same\", \n",
    "                   name = 'conv1d2')(x)\n",
    "        x = BatchNormalization()(x)\n",
    "        x = Activation(act)(x)\n",
    "        x = Reshape([200,38])(x)\n",
    "        x = Dense(23 , activation=\"softmax\", name =\"dense\")(x)\n",
    "        x = Reshape([23,-1])(x)\n",
    "        for _ in range(rnn_layers):          \n",
    "            x = Bidirectional(LSTM(LSTM_units, \n",
    "                                   return_sequences = True))(x)\n",
    "            x = Dropout(drop_out)(x)\n",
    "            x = BatchNormalization()(x)\n",
    "        y_pred = TimeDistributed(Dense(self.output_size, \n",
    "                                       activation = 'softmax'))(x)        \n",
    "        # ctc inputs\n",
    "        labels = Input(name='the_labels', shape=[None,], dtype='int32')\n",
    "        input_length = Input(name='input_length', shape=[1], dtype='int32')\n",
    "        label_length = Input(name='label_length', shape=[1], dtype='int32')    \n",
    "        # Keras doesn't currently support loss funcs with extra parameters\n",
    "        # so CTC loss is implemented in a lambda layer\n",
    "        loss_out = Lambda(ctc_lambda_func, \n",
    "                          output_shape=(1,), \n",
    "                          name='ctc')([y_pred,\n",
    "                                        labels,\n",
    "                                        input_length,\n",
    "                                        label_length])        \n",
    "        self.tm = Model(inputs = i,\n",
    "                        outputs = y_pred)\n",
    "        self.m = Model(inputs = [i, \n",
    "                                 labels, \n",
    "                                 input_length, \n",
    "                                 label_length], \n",
    "                        outputs = loss_out)\n",
    "        return self.m, self.tm\n"
   ]
  },
  {
   "cell_type": "code",
   "execution_count": 141,
   "metadata": {
    "colab": {},
    "colab_type": "code",
    "id": "07YGUbcVF5SC"
   },
   "outputs": [],
   "source": [
    "def ctc(y_true, y_pred):\n",
    "    return y_pred"
   ]
  },
  {
   "cell_type": "code",
   "execution_count": 142,
   "metadata": {
    "colab": {
     "base_uri": "https://localhost:8080/",
     "height": 53
    },
    "colab_type": "code",
    "executionInfo": {
     "elapsed": 271396,
     "status": "ok",
     "timestamp": 1591088227317,
     "user": {
      "displayName": "Varun Khatri",
      "photoUrl": "https://lh3.googleusercontent.com/a-/AOh14GgNZKs5H2GANAWMcLPo9gyOyudU3gTuCoTvaoHx5g=s64",
      "userId": "04333460920277324581"
     },
     "user_tz": -330
    },
    "id": "9tHcDuciGKsg",
    "outputId": "ca74328b-20ce-4f1b-ec62-4625b556240b"
   },
   "outputs": [
    {
     "data": {
      "text/plain": [
       "(<keras.engine.training.Model at 0x7f7f95e156a0>,\n",
       " <keras.engine.training.Model at 0x7f7f95e157f0>)"
      ]
     },
     "execution_count": 142,
     "metadata": {},
     "output_type": "execute_result"
    }
   ],
   "source": [
    "sr_ctc = CTC((101,198,1), 28)\n",
    "sr_ctc.build()"
   ]
  },
  {
   "cell_type": "code",
   "execution_count": 143,
   "metadata": {
    "colab": {
     "base_uri": "https://localhost:8080/",
     "height": 1000
    },
    "colab_type": "code",
    "executionInfo": {
     "elapsed": 271345,
     "status": "ok",
     "timestamp": 1591088227318,
     "user": {
      "displayName": "Varun Khatri",
      "photoUrl": "https://lh3.googleusercontent.com/a-/AOh14GgNZKs5H2GANAWMcLPo9gyOyudU3gTuCoTvaoHx5g=s64",
      "userId": "04333460920277324581"
     },
     "user_tz": -330
    },
    "id": "z4C06XYvGQ9t",
    "outputId": "9adc37a5-a1d4-4efe-ae55-87071d596b0e"
   },
   "outputs": [
    {
     "name": "stdout",
     "output_type": "stream",
     "text": [
      "Model: \"model_22\"\n",
      "__________________________________________________________________________________________________\n",
      "Layer (type)                    Output Shape         Param #     Connected to                     \n",
      "==================================================================================================\n",
      "input (InputLayer)              (None, 101, 198, 1)  0                                            \n",
      "__________________________________________________________________________________________________\n",
      "conv2d1 (Conv2D)                (None, 101, 198, 13) 338         input[0][0]                      \n",
      "__________________________________________________________________________________________________\n",
      "batch_normalization_77 (BatchNo (None, 101, 198, 13) 52          conv2d1[0][0]                    \n",
      "__________________________________________________________________________________________________\n",
      "activation_57 (Activation)      (None, 101, 198, 13) 0           batch_normalization_77[0][0]     \n",
      "__________________________________________________________________________________________________\n",
      "conv2d2 (Conv2D)                (None, 101, 198, 13) 4238        activation_57[0][0]              \n",
      "__________________________________________________________________________________________________\n",
      "batch_normalization_78 (BatchNo (None, 101, 198, 13) 52          conv2d2[0][0]                    \n",
      "__________________________________________________________________________________________________\n",
      "activation_58 (Activation)      (None, 101, 198, 13) 0           batch_normalization_78[0][0]     \n",
      "__________________________________________________________________________________________________\n",
      "reshape_27 (Reshape)            (None, 606, 429)     0           activation_58[0][0]              \n",
      "__________________________________________________________________________________________________\n",
      "conv1d1 (Conv1D)                (None, 152, 200)     429200      reshape_27[0][0]                 \n",
      "__________________________________________________________________________________________________\n",
      "batch_normalization_79 (BatchNo (None, 152, 200)     800         conv1d1[0][0]                    \n",
      "__________________________________________________________________________________________________\n",
      "activation_59 (Activation)      (None, 152, 200)     0           batch_normalization_79[0][0]     \n",
      "__________________________________________________________________________________________________\n",
      "conv1d2 (Conv1D)                (None, 38, 200)      200200      activation_59[0][0]              \n",
      "__________________________________________________________________________________________________\n",
      "batch_normalization_80 (BatchNo (None, 38, 200)      800         conv1d2[0][0]                    \n",
      "__________________________________________________________________________________________________\n",
      "activation_60 (Activation)      (None, 38, 200)      0           batch_normalization_80[0][0]     \n",
      "__________________________________________________________________________________________________\n",
      "reshape_28 (Reshape)            (None, 200, 38)      0           activation_60[0][0]              \n",
      "__________________________________________________________________________________________________\n",
      "dense (Dense)                   (None, 200, 23)      897         reshape_28[0][0]                 \n",
      "__________________________________________________________________________________________________\n",
      "reshape_29 (Reshape)            (None, 23, 200)      0           dense[0][0]                      \n",
      "__________________________________________________________________________________________________\n",
      "bidirectional_21 (Bidirectional (None, 23, 256)      336896      reshape_29[0][0]                 \n",
      "__________________________________________________________________________________________________\n",
      "dropout_21 (Dropout)            (None, 23, 256)      0           bidirectional_21[0][0]           \n",
      "__________________________________________________________________________________________________\n",
      "batch_normalization_81 (BatchNo (None, 23, 256)      1024        dropout_21[0][0]                 \n",
      "__________________________________________________________________________________________________\n",
      "bidirectional_22 (Bidirectional (None, 23, 256)      394240      batch_normalization_81[0][0]     \n",
      "__________________________________________________________________________________________________\n",
      "dropout_22 (Dropout)            (None, 23, 256)      0           bidirectional_22[0][0]           \n",
      "__________________________________________________________________________________________________\n",
      "batch_normalization_82 (BatchNo (None, 23, 256)      1024        dropout_22[0][0]                 \n",
      "__________________________________________________________________________________________________\n",
      "time_distributed_11 (TimeDistri (None, 23, 28)       7196        batch_normalization_82[0][0]     \n",
      "__________________________________________________________________________________________________\n",
      "the_labels (InputLayer)         (None, None)         0                                            \n",
      "__________________________________________________________________________________________________\n",
      "input_length (InputLayer)       (None, 1)            0                                            \n",
      "__________________________________________________________________________________________________\n",
      "label_length (InputLayer)       (None, 1)            0                                            \n",
      "__________________________________________________________________________________________________\n",
      "ctc (Lambda)                    (None, 1)            0           time_distributed_11[0][0]        \n",
      "                                                                 the_labels[0][0]                 \n",
      "                                                                 input_length[0][0]               \n",
      "                                                                 label_length[0][0]               \n",
      "==================================================================================================\n",
      "Total params: 1,376,957\n",
      "Trainable params: 1,375,081\n",
      "Non-trainable params: 1,876\n",
      "__________________________________________________________________________________________________\n"
     ]
    }
   ],
   "source": [
    "sr_ctc.m.summary()"
   ]
  },
  {
   "cell_type": "code",
   "execution_count": 144,
   "metadata": {
    "colab": {},
    "colab_type": "code",
    "id": "VPLa5YjQGRit"
   },
   "outputs": [],
   "source": [
    "sr_ctc.m.compile(loss = ctc, optimizer = 'adam', metrics = ['accuracy'])\n",
    "sr_ctc.tm.compile(loss = ctc, optimizer = 'adam')\n"
   ]
  },
  {
   "cell_type": "code",
   "execution_count": 145,
   "metadata": {
    "colab": {},
    "colab_type": "code",
    "id": "doQF2mmGGjJ4"
   },
   "outputs": [],
   "source": [
    "labels_train, input_length, label_length = get_param(Y = labels)\n",
    "labels_val, input_length_val, label_length_val = get_param(Y = labels)"
   ]
  },
  {
   "cell_type": "code",
   "execution_count": 146,
   "metadata": {
    "colab": {
     "base_uri": "https://localhost:8080/",
     "height": 413
    },
    "colab_type": "code",
    "executionInfo": {
     "elapsed": 271209,
     "status": "ok",
     "timestamp": 1591088227320,
     "user": {
      "displayName": "Varun Khatri",
      "photoUrl": "https://lh3.googleusercontent.com/a-/AOh14GgNZKs5H2GANAWMcLPo9gyOyudU3gTuCoTvaoHx5g=s64",
      "userId": "04333460920277324581"
     },
     "user_tz": -330
    },
    "id": "gi0umybhND9v",
    "outputId": "752a1376-5936-46c0-c6ba-8f86bc754a15"
   },
   "outputs": [
    {
     "name": "stdout",
     "output_type": "stream",
     "text": [
      "[ 7. 15. 27. 27. 27. 27. 27. 27. 27. 27. 27. 27. 27. 27. 27. 27. 27. 27.\n",
      " 27. 27. 27. 27. 27.]\n"
     ]
    }
   ],
   "source": [
    "print(labels_train[0])"
   ]
  },
  {
   "cell_type": "code",
   "execution_count": 147,
   "metadata": {
    "colab": {
     "base_uri": "https://localhost:8080/",
     "height": 53
    },
    "colab_type": "code",
    "executionInfo": {
     "elapsed": 271162,
     "status": "ok",
     "timestamp": 1591088227321,
     "user": {
      "displayName": "Varun Khatri",
      "photoUrl": "https://lh3.googleusercontent.com/a-/AOh14GgNZKs5H2GANAWMcLPo9gyOyudU3gTuCoTvaoHx5g=s64",
      "userId": "04333460920277324581"
     },
     "user_tz": -330
    },
    "id": "vVXDFyVN4Afl",
    "outputId": "2d1df9bf-1c45-4ab6-e3e4-20e46d410fdc"
   },
   "outputs": [
    {
     "name": "stdout",
     "output_type": "stream",
     "text": [
      "<class 'numpy.ndarray'>\n",
      "labels (520, 23)   (520,)   (520,)\n"
     ]
    }
   ],
   "source": [
    "print(type(labels_train[1]))\n",
    "print(\"labels\" ,labels_train.shape ,\" \",input_length.shape ,\" \", label_length.shape)"
   ]
  },
  {
   "cell_type": "code",
   "execution_count": 149,
   "metadata": {
    "colab": {
     "base_uri": "https://localhost:8080/",
     "height": 215
    },
    "colab_type": "code",
    "id": "Lt22pIaxGlxS",
    "outputId": "b6f73556-4a9d-482b-c992-f8db4dc7032c"
   },
   "outputs": [
    {
     "name": "stdout",
     "output_type": "stream",
     "text": [
      "Train on 520 samples, validate on 520 samples\n",
      "Epoch 1/100\n",
      "520/520 [==============================] - 20s 38ms/step - loss: 2.5899 - accuracy: 0.0404 - val_loss: 9.8343 - val_accuracy: 0.1000\n",
      "Epoch 2/100\n",
      "520/520 [==============================] - 26s 50ms/step - loss: 2.3391 - accuracy: 0.0558 - val_loss: 8.2928 - val_accuracy: 0.1173\n",
      "Epoch 3/100\n",
      "520/520 [==============================] - 26s 50ms/step - loss: 2.2132 - accuracy: 0.0769 - val_loss: 7.7738 - val_accuracy: 0.1423\n",
      "Epoch 4/100\n",
      "520/520 [==============================] - 26s 50ms/step - loss: 1.8838 - accuracy: 0.0942 - val_loss: 8.7378 - val_accuracy: 0.1712\n",
      "Epoch 5/100\n",
      "520/520 [==============================] - 26s 50ms/step - loss: 1.7839 - accuracy: 0.1462 - val_loss: 5.1463 - val_accuracy: 0.2942\n",
      "Epoch 6/100\n",
      "520/520 [==============================] - 26s 50ms/step - loss: 1.7051 - accuracy: 0.1750 - val_loss: 3.7324 - val_accuracy: 0.4212\n",
      "Epoch 7/100\n",
      "520/520 [==============================] - 27s 53ms/step - loss: 2.0129 - accuracy: 0.1615 - val_loss: 7.1262 - val_accuracy: 0.2462\n",
      "Epoch 8/100\n",
      "520/520 [==============================] - 30s 58ms/step - loss: 1.8181 - accuracy: 0.1981 - val_loss: 8.6503 - val_accuracy: 0.2462\n",
      "Epoch 9/100\n",
      "520/520 [==============================] - 28s 53ms/step - loss: 1.5827 - accuracy: 0.2346 - val_loss: 11.3372 - val_accuracy: 0.2346\n",
      "Epoch 10/100\n",
      "520/520 [==============================] - 24s 47ms/step - loss: 1.4622 - accuracy: 0.2615 - val_loss: 11.1081 - val_accuracy: 0.2615\n",
      "Epoch 11/100\n",
      "520/520 [==============================] - 25s 47ms/step - loss: 2.3754 - accuracy: 0.1962 - val_loss: 9.6065 - val_accuracy: 0.2019\n",
      "Epoch 12/100\n",
      "520/520 [==============================] - 24s 46ms/step - loss: 2.0185 - accuracy: 0.2577 - val_loss: 6.2223 - val_accuracy: 0.2346\n",
      "Epoch 13/100\n",
      "520/520 [==============================] - 24s 46ms/step - loss: 2.7931 - accuracy: 0.2058 - val_loss: 8.0590 - val_accuracy: 0.1846\n",
      "Epoch 14/100\n",
      "520/520 [==============================] - 24s 47ms/step - loss: 2.2246 - accuracy: 0.1942 - val_loss: 6.0744 - val_accuracy: 0.4019\n",
      "Epoch 15/100\n",
      "520/520 [==============================] - 25s 47ms/step - loss: 1.5938 - accuracy: 0.2692 - val_loss: 7.0664 - val_accuracy: 0.4077\n",
      "Epoch 16/100\n",
      "520/520 [==============================] - 24s 47ms/step - loss: 1.4107 - accuracy: 0.2962 - val_loss: 8.2174 - val_accuracy: 0.4250\n",
      "Epoch 17/100\n",
      "520/520 [==============================] - 24s 46ms/step - loss: 1.0411 - accuracy: 0.4058 - val_loss: 10.4052 - val_accuracy: 0.4308\n",
      "Epoch 18/100\n",
      "520/520 [==============================] - 24s 47ms/step - loss: 0.9052 - accuracy: 0.4615 - val_loss: 6.1300 - val_accuracy: 0.5308\n",
      "Epoch 19/100\n",
      "520/520 [==============================] - 25s 49ms/step - loss: 0.7760 - accuracy: 0.5212 - val_loss: 9.3473 - val_accuracy: 0.4500\n",
      "Epoch 20/100\n",
      " 30/520 [>.............................] - ETA: 19s - loss: 0.6141 - accuracy: 0.5333"
     ]
    },
    {
     "ename": "KeyboardInterrupt",
     "evalue": "",
     "output_type": "error",
     "traceback": [
      "\u001b[0;31m---------------------------------------------------------------------------\u001b[0m",
      "\u001b[0;31mKeyboardInterrupt\u001b[0m                         Traceback (most recent call last)",
      "\u001b[0;32m<ipython-input-149-1ec7fb4a5cd3>\u001b[0m in \u001b[0;36m<module>\u001b[0;34m\u001b[0m\n\u001b[1;32m     12\u001b[0m                                          np.zeros([len(labels_val)])), \n\u001b[1;32m     13\u001b[0m                      \u001b[0;31m#  callbacks = [checkpointer],\u001b[0m\u001b[0;34m\u001b[0m\u001b[0;34m\u001b[0m\u001b[0;34m\u001b[0m\u001b[0m\n\u001b[0;32m---> 14\u001b[0;31m                       \u001b[0mverbose\u001b[0m \u001b[0;34m=\u001b[0m \u001b[0;36m1\u001b[0m\u001b[0;34m\u001b[0m\u001b[0;34m\u001b[0m\u001b[0m\n\u001b[0m\u001b[1;32m     15\u001b[0m                      \u001b[0;31m#  , shuffle = True\u001b[0m\u001b[0;34m\u001b[0m\u001b[0;34m\u001b[0m\u001b[0;34m\u001b[0m\u001b[0m\n\u001b[1;32m     16\u001b[0m                       )\n",
      "\u001b[0;32m~/.local/lib/python3.6/site-packages/keras/engine/training.py\u001b[0m in \u001b[0;36mfit\u001b[0;34m(self, x, y, batch_size, epochs, verbose, callbacks, validation_split, validation_data, shuffle, class_weight, sample_weight, initial_epoch, steps_per_epoch, validation_steps, validation_freq, max_queue_size, workers, use_multiprocessing, **kwargs)\u001b[0m\n\u001b[1;32m   1237\u001b[0m                                         \u001b[0msteps_per_epoch\u001b[0m\u001b[0;34m=\u001b[0m\u001b[0msteps_per_epoch\u001b[0m\u001b[0;34m,\u001b[0m\u001b[0;34m\u001b[0m\u001b[0;34m\u001b[0m\u001b[0m\n\u001b[1;32m   1238\u001b[0m                                         \u001b[0mvalidation_steps\u001b[0m\u001b[0;34m=\u001b[0m\u001b[0mvalidation_steps\u001b[0m\u001b[0;34m,\u001b[0m\u001b[0;34m\u001b[0m\u001b[0;34m\u001b[0m\u001b[0m\n\u001b[0;32m-> 1239\u001b[0;31m                                         validation_freq=validation_freq)\n\u001b[0m\u001b[1;32m   1240\u001b[0m \u001b[0;34m\u001b[0m\u001b[0m\n\u001b[1;32m   1241\u001b[0m     def evaluate(self,\n",
      "\u001b[0;32m~/.local/lib/python3.6/site-packages/keras/engine/training_arrays.py\u001b[0m in \u001b[0;36mfit_loop\u001b[0;34m(model, fit_function, fit_inputs, out_labels, batch_size, epochs, verbose, callbacks, val_function, val_inputs, shuffle, initial_epoch, steps_per_epoch, validation_steps, validation_freq)\u001b[0m\n\u001b[1;32m    194\u001b[0m                     \u001b[0mins_batch\u001b[0m\u001b[0;34m[\u001b[0m\u001b[0mi\u001b[0m\u001b[0;34m]\u001b[0m \u001b[0;34m=\u001b[0m \u001b[0mins_batch\u001b[0m\u001b[0;34m[\u001b[0m\u001b[0mi\u001b[0m\u001b[0;34m]\u001b[0m\u001b[0;34m.\u001b[0m\u001b[0mtoarray\u001b[0m\u001b[0;34m(\u001b[0m\u001b[0;34m)\u001b[0m\u001b[0;34m\u001b[0m\u001b[0;34m\u001b[0m\u001b[0m\n\u001b[1;32m    195\u001b[0m \u001b[0;34m\u001b[0m\u001b[0m\n\u001b[0;32m--> 196\u001b[0;31m                 \u001b[0mouts\u001b[0m \u001b[0;34m=\u001b[0m \u001b[0mfit_function\u001b[0m\u001b[0;34m(\u001b[0m\u001b[0mins_batch\u001b[0m\u001b[0;34m)\u001b[0m\u001b[0;34m\u001b[0m\u001b[0;34m\u001b[0m\u001b[0m\n\u001b[0m\u001b[1;32m    197\u001b[0m                 \u001b[0mouts\u001b[0m \u001b[0;34m=\u001b[0m \u001b[0mto_list\u001b[0m\u001b[0;34m(\u001b[0m\u001b[0mouts\u001b[0m\u001b[0;34m)\u001b[0m\u001b[0;34m\u001b[0m\u001b[0;34m\u001b[0m\u001b[0m\n\u001b[1;32m    198\u001b[0m                 \u001b[0;32mfor\u001b[0m \u001b[0ml\u001b[0m\u001b[0;34m,\u001b[0m \u001b[0mo\u001b[0m \u001b[0;32min\u001b[0m \u001b[0mzip\u001b[0m\u001b[0;34m(\u001b[0m\u001b[0mout_labels\u001b[0m\u001b[0;34m,\u001b[0m \u001b[0mouts\u001b[0m\u001b[0;34m)\u001b[0m\u001b[0;34m:\u001b[0m\u001b[0;34m\u001b[0m\u001b[0;34m\u001b[0m\u001b[0m\n",
      "\u001b[0;32m~/.local/lib/python3.6/site-packages/tensorflow_core/python/keras/backend.py\u001b[0m in \u001b[0;36m__call__\u001b[0;34m(self, inputs)\u001b[0m\n\u001b[1;32m   3725\u001b[0m         \u001b[0mvalue\u001b[0m \u001b[0;34m=\u001b[0m \u001b[0mmath_ops\u001b[0m\u001b[0;34m.\u001b[0m\u001b[0mcast\u001b[0m\u001b[0;34m(\u001b[0m\u001b[0mvalue\u001b[0m\u001b[0;34m,\u001b[0m \u001b[0mtensor\u001b[0m\u001b[0;34m.\u001b[0m\u001b[0mdtype\u001b[0m\u001b[0;34m)\u001b[0m\u001b[0;34m\u001b[0m\u001b[0;34m\u001b[0m\u001b[0m\n\u001b[1;32m   3726\u001b[0m       \u001b[0mconverted_inputs\u001b[0m\u001b[0;34m.\u001b[0m\u001b[0mappend\u001b[0m\u001b[0;34m(\u001b[0m\u001b[0mvalue\u001b[0m\u001b[0;34m)\u001b[0m\u001b[0;34m\u001b[0m\u001b[0;34m\u001b[0m\u001b[0m\n\u001b[0;32m-> 3727\u001b[0;31m     \u001b[0moutputs\u001b[0m \u001b[0;34m=\u001b[0m \u001b[0mself\u001b[0m\u001b[0;34m.\u001b[0m\u001b[0m_graph_fn\u001b[0m\u001b[0;34m(\u001b[0m\u001b[0;34m*\u001b[0m\u001b[0mconverted_inputs\u001b[0m\u001b[0;34m)\u001b[0m\u001b[0;34m\u001b[0m\u001b[0;34m\u001b[0m\u001b[0m\n\u001b[0m\u001b[1;32m   3728\u001b[0m \u001b[0;34m\u001b[0m\u001b[0m\n\u001b[1;32m   3729\u001b[0m     \u001b[0;31m# EagerTensor.numpy() will often make a copy to ensure memory safety.\u001b[0m\u001b[0;34m\u001b[0m\u001b[0;34m\u001b[0m\u001b[0;34m\u001b[0m\u001b[0m\n",
      "\u001b[0;32m~/.local/lib/python3.6/site-packages/tensorflow_core/python/eager/function.py\u001b[0m in \u001b[0;36m__call__\u001b[0;34m(self, *args, **kwargs)\u001b[0m\n\u001b[1;32m   1549\u001b[0m       \u001b[0mTypeError\u001b[0m\u001b[0;34m:\u001b[0m \u001b[0mFor\u001b[0m \u001b[0minvalid\u001b[0m \u001b[0mpositional\u001b[0m\u001b[0;34m/\u001b[0m\u001b[0mkeyword\u001b[0m \u001b[0margument\u001b[0m \u001b[0mcombinations\u001b[0m\u001b[0;34m.\u001b[0m\u001b[0;34m\u001b[0m\u001b[0;34m\u001b[0m\u001b[0m\n\u001b[1;32m   1550\u001b[0m     \"\"\"\n\u001b[0;32m-> 1551\u001b[0;31m     \u001b[0;32mreturn\u001b[0m \u001b[0mself\u001b[0m\u001b[0;34m.\u001b[0m\u001b[0m_call_impl\u001b[0m\u001b[0;34m(\u001b[0m\u001b[0margs\u001b[0m\u001b[0;34m,\u001b[0m \u001b[0mkwargs\u001b[0m\u001b[0;34m)\u001b[0m\u001b[0;34m\u001b[0m\u001b[0;34m\u001b[0m\u001b[0m\n\u001b[0m\u001b[1;32m   1552\u001b[0m \u001b[0;34m\u001b[0m\u001b[0m\n\u001b[1;32m   1553\u001b[0m   \u001b[0;32mdef\u001b[0m \u001b[0m_call_impl\u001b[0m\u001b[0;34m(\u001b[0m\u001b[0mself\u001b[0m\u001b[0;34m,\u001b[0m \u001b[0margs\u001b[0m\u001b[0;34m,\u001b[0m \u001b[0mkwargs\u001b[0m\u001b[0;34m,\u001b[0m \u001b[0mcancellation_manager\u001b[0m\u001b[0;34m=\u001b[0m\u001b[0;32mNone\u001b[0m\u001b[0;34m)\u001b[0m\u001b[0;34m:\u001b[0m\u001b[0;34m\u001b[0m\u001b[0;34m\u001b[0m\u001b[0m\n",
      "\u001b[0;32m~/.local/lib/python3.6/site-packages/tensorflow_core/python/eager/function.py\u001b[0m in \u001b[0;36m_call_impl\u001b[0;34m(self, args, kwargs, cancellation_manager)\u001b[0m\n\u001b[1;32m   1589\u001b[0m       raise TypeError(\"Keyword arguments {} unknown. Expected {}.\".format(\n\u001b[1;32m   1590\u001b[0m           list(kwargs.keys()), list(self._arg_keywords)))\n\u001b[0;32m-> 1591\u001b[0;31m     \u001b[0;32mreturn\u001b[0m \u001b[0mself\u001b[0m\u001b[0;34m.\u001b[0m\u001b[0m_call_flat\u001b[0m\u001b[0;34m(\u001b[0m\u001b[0margs\u001b[0m\u001b[0;34m,\u001b[0m \u001b[0mself\u001b[0m\u001b[0;34m.\u001b[0m\u001b[0mcaptured_inputs\u001b[0m\u001b[0;34m,\u001b[0m \u001b[0mcancellation_manager\u001b[0m\u001b[0;34m)\u001b[0m\u001b[0;34m\u001b[0m\u001b[0;34m\u001b[0m\u001b[0m\n\u001b[0m\u001b[1;32m   1592\u001b[0m \u001b[0;34m\u001b[0m\u001b[0m\n\u001b[1;32m   1593\u001b[0m   \u001b[0;32mdef\u001b[0m \u001b[0m_filtered_call\u001b[0m\u001b[0;34m(\u001b[0m\u001b[0mself\u001b[0m\u001b[0;34m,\u001b[0m \u001b[0margs\u001b[0m\u001b[0;34m,\u001b[0m \u001b[0mkwargs\u001b[0m\u001b[0;34m)\u001b[0m\u001b[0;34m:\u001b[0m\u001b[0;34m\u001b[0m\u001b[0;34m\u001b[0m\u001b[0m\n",
      "\u001b[0;32m~/.local/lib/python3.6/site-packages/tensorflow_core/python/eager/function.py\u001b[0m in \u001b[0;36m_call_flat\u001b[0;34m(self, args, captured_inputs, cancellation_manager)\u001b[0m\n\u001b[1;32m   1690\u001b[0m       \u001b[0;31m# No tape is watching; skip to running the function.\u001b[0m\u001b[0;34m\u001b[0m\u001b[0;34m\u001b[0m\u001b[0;34m\u001b[0m\u001b[0m\n\u001b[1;32m   1691\u001b[0m       return self._build_call_outputs(self._inference_function.call(\n\u001b[0;32m-> 1692\u001b[0;31m           ctx, args, cancellation_manager=cancellation_manager))\n\u001b[0m\u001b[1;32m   1693\u001b[0m     forward_backward = self._select_forward_and_backward_functions(\n\u001b[1;32m   1694\u001b[0m         \u001b[0margs\u001b[0m\u001b[0;34m,\u001b[0m\u001b[0;34m\u001b[0m\u001b[0;34m\u001b[0m\u001b[0m\n",
      "\u001b[0;32m~/.local/lib/python3.6/site-packages/tensorflow_core/python/eager/function.py\u001b[0m in \u001b[0;36mcall\u001b[0;34m(self, ctx, args, cancellation_manager)\u001b[0m\n\u001b[1;32m    543\u001b[0m               \u001b[0minputs\u001b[0m\u001b[0;34m=\u001b[0m\u001b[0margs\u001b[0m\u001b[0;34m,\u001b[0m\u001b[0;34m\u001b[0m\u001b[0;34m\u001b[0m\u001b[0m\n\u001b[1;32m    544\u001b[0m               \u001b[0mattrs\u001b[0m\u001b[0;34m=\u001b[0m\u001b[0;34m(\u001b[0m\u001b[0;34m\"executor_type\"\u001b[0m\u001b[0;34m,\u001b[0m \u001b[0mexecutor_type\u001b[0m\u001b[0;34m,\u001b[0m \u001b[0;34m\"config_proto\"\u001b[0m\u001b[0;34m,\u001b[0m \u001b[0mconfig\u001b[0m\u001b[0;34m)\u001b[0m\u001b[0;34m,\u001b[0m\u001b[0;34m\u001b[0m\u001b[0;34m\u001b[0m\u001b[0m\n\u001b[0;32m--> 545\u001b[0;31m               ctx=ctx)\n\u001b[0m\u001b[1;32m    546\u001b[0m         \u001b[0;32melse\u001b[0m\u001b[0;34m:\u001b[0m\u001b[0;34m\u001b[0m\u001b[0;34m\u001b[0m\u001b[0m\n\u001b[1;32m    547\u001b[0m           outputs = execute.execute_with_cancellation(\n",
      "\u001b[0;32m~/.local/lib/python3.6/site-packages/tensorflow_core/python/eager/execute.py\u001b[0m in \u001b[0;36mquick_execute\u001b[0;34m(op_name, num_outputs, inputs, attrs, ctx, name)\u001b[0m\n\u001b[1;32m     59\u001b[0m     tensors = pywrap_tensorflow.TFE_Py_Execute(ctx._handle, device_name,\n\u001b[1;32m     60\u001b[0m                                                \u001b[0mop_name\u001b[0m\u001b[0;34m,\u001b[0m \u001b[0minputs\u001b[0m\u001b[0;34m,\u001b[0m \u001b[0mattrs\u001b[0m\u001b[0;34m,\u001b[0m\u001b[0;34m\u001b[0m\u001b[0;34m\u001b[0m\u001b[0m\n\u001b[0;32m---> 61\u001b[0;31m                                                num_outputs)\n\u001b[0m\u001b[1;32m     62\u001b[0m   \u001b[0;32mexcept\u001b[0m \u001b[0mcore\u001b[0m\u001b[0;34m.\u001b[0m\u001b[0m_NotOkStatusException\u001b[0m \u001b[0;32mas\u001b[0m \u001b[0me\u001b[0m\u001b[0;34m:\u001b[0m\u001b[0;34m\u001b[0m\u001b[0;34m\u001b[0m\u001b[0m\n\u001b[1;32m     63\u001b[0m     \u001b[0;32mif\u001b[0m \u001b[0mname\u001b[0m \u001b[0;32mis\u001b[0m \u001b[0;32mnot\u001b[0m \u001b[0;32mNone\u001b[0m\u001b[0;34m:\u001b[0m\u001b[0;34m\u001b[0m\u001b[0;34m\u001b[0m\u001b[0m\n",
      "\u001b[0;31mKeyboardInterrupt\u001b[0m: "
     ]
    }
   ],
   "source": [
    " history = sr_ctc.m.fit([new_samples, \n",
    "                            labels_train, \n",
    "                            input_length, \n",
    "                            label_length], \n",
    "                       np.zeros([len(labels_train)]), \n",
    "                       batch_size = 10, \n",
    "                       epochs = 100, \n",
    "                       validation_data = ([new_samples, \n",
    "                                           labels_val, \n",
    "                                           input_length_val, \n",
    "                                           label_length_val],\n",
    "                                          np.zeros([len(labels_val)])), \n",
    "                      #  callbacks = [checkpointer], \n",
    "                       verbose = 1\n",
    "                      #  , shuffle = True\n",
    "                       )"
   ]
  },
  {
   "cell_type": "code",
   "execution_count": null,
   "metadata": {
    "colab": {},
    "colab_type": "code",
    "id": "GIySXxfleDqp"
   },
   "outputs": [],
   "source": []
  },
  {
   "cell_type": "code",
   "execution_count": 0,
   "metadata": {
    "colab": {},
    "colab_type": "code",
    "id": "1W0Yv-COrdvm"
   },
   "outputs": [],
   "source": []
  },
  {
   "cell_type": "code",
   "execution_count": 0,
   "metadata": {
    "colab": {},
    "colab_type": "code",
    "id": "pLIbaQOijDzz"
   },
   "outputs": [],
   "source": [
    "   "
   ]
  }
 ],
 "metadata": {
  "colab": {
   "authorship_tag": "ABX9TyP5RAz/e0naXa61sCkRsZ7t",
   "collapsed_sections": [],
   "name": "largecorpus.ipynb",
   "provenance": []
  },
  "kernelspec": {
   "display_name": "Python 3",
   "language": "python",
   "name": "python3"
  },
  "language_info": {
   "codemirror_mode": {
    "name": "ipython",
    "version": 3
   },
   "file_extension": ".py",
   "mimetype": "text/x-python",
   "name": "python",
   "nbconvert_exporter": "python",
   "pygments_lexer": "ipython3",
   "version": "3.6.9"
  }
 },
 "nbformat": 4,
 "nbformat_minor": 1
}
