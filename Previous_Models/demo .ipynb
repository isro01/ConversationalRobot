{
 "cells": [
  {
   "cell_type": "code",
   "execution_count": 202,
   "metadata": {
    "colab": {
     "base_uri": "https://localhost:8080/",
     "height": 35
    },
    "colab_type": "code",
    "executionInfo": {
     "elapsed": 2108,
     "status": "ok",
     "timestamp": 1591038670714,
     "user": {
      "displayName": "Varun Khatri",
      "photoUrl": "https://lh3.googleusercontent.com/a-/AOh14GgNZKs5H2GANAWMcLPo9gyOyudU3gTuCoTvaoHx5g=s64",
      "userId": "04333460920277324581"
     },
     "user_tz": -330
    },
    "id": "i6hEH0Curr9P",
    "outputId": "ead45019-136c-4b9a-c94d-806adc5b6e92"
   },
   "outputs": [
    {
     "name": "stdout",
     "output_type": "stream",
     "text": [
      "2.2.0\n"
     ]
    }
   ],
   "source": [
    "import librosa\n",
    "import tensorflow as tf\n",
    "print(tf.__version__)\n",
    "import csv\n",
    "import numpy as np\n",
    "import matplotlib.pyplot as plt\n",
    "import nltk\n",
    "import os\n",
    "import sys\n",
    "from IPython.display import Audio"
   ]
  },
  {
   "cell_type": "code",
   "execution_count": 203,
   "metadata": {
    "colab": {
     "base_uri": "https://localhost:8080/",
     "height": 35
    },
    "colab_type": "code",
    "executionInfo": {
     "elapsed": 2096,
     "status": "ok",
     "timestamp": 1591038670716,
     "user": {
      "displayName": "Varun Khatri",
      "photoUrl": "https://lh3.googleusercontent.com/a-/AOh14GgNZKs5H2GANAWMcLPo9gyOyudU3gTuCoTvaoHx5g=s64",
      "userId": "04333460920277324581"
     },
     "user_tz": -330
    },
    "id": "PSLuO4uwsXCJ",
    "outputId": "c4aaa9e9-042e-4f2c-edcc-e89fc9cff4e1"
   },
   "outputs": [
    {
     "name": "stdout",
     "output_type": "stream",
     "text": [
      "Drive already mounted at /content/gdrive; to attempt to forcibly remount, call drive.mount(\"/content/gdrive\", force_remount=True).\n"
     ]
    }
   ],
   "source": [
    "from google.colab import drive\n",
    "drive.mount(\"/content/gdrive\")"
   ]
  },
  {
   "cell_type": "code",
   "execution_count": 204,
   "metadata": {
    "colab": {
     "base_uri": "https://localhost:8080/",
     "height": 35
    },
    "colab_type": "code",
    "executionInfo": {
     "elapsed": 2085,
     "status": "ok",
     "timestamp": 1591038670717,
     "user": {
      "displayName": "Varun Khatri",
      "photoUrl": "https://lh3.googleusercontent.com/a-/AOh14GgNZKs5H2GANAWMcLPo9gyOyudU3gTuCoTvaoHx5g=s64",
      "userId": "04333460920277324581"
     },
     "user_tz": -330
    },
    "id": "MtMHi3Sew6jU",
    "outputId": "becddef3-0a5d-430b-b300-5a69eae74b87"
   },
   "outputs": [
    {
     "data": {
      "text/plain": [
       "'/content'"
      ]
     },
     "execution_count": 204,
     "metadata": {
      "tags": []
     },
     "output_type": "execute_result"
    }
   ],
   "source": [
    "os.getcwd()"
   ]
  },
  {
   "cell_type": "code",
   "execution_count": 0,
   "metadata": {
    "colab": {},
    "colab_type": "code",
    "id": "tJoUhoUMxX8f"
   },
   "outputs": [],
   "source": [
    "filepath = \"/content/gdrive/My Drive/cat/\"\n",
    "sound_path = filepath + '0ab3b47d_nohash_0.wav'"
   ]
  },
  {
   "cell_type": "code",
   "execution_count": 0,
   "metadata": {
    "colab": {},
    "colab_type": "code",
    "id": "pPu7S3vsxjta"
   },
   "outputs": [],
   "source": [
    "\n",
    "import os\n",
    "import librosa   #for audio processing\n",
    "import IPython.display as ipd\n",
    "import matplotlib.pyplot as plt\n",
    "import numpy as np\n",
    "from scipy.io import wavfile #for audio processing\n",
    "import warnings\n",
    "warnings.filterwarnings(\"ignore\")"
   ]
  },
  {
   "cell_type": "code",
   "execution_count": 208,
   "metadata": {
    "colab": {
     "base_uri": "https://localhost:8080/",
     "height": 35
    },
    "colab_type": "code",
    "executionInfo": {
     "elapsed": 2243,
     "status": "ok",
     "timestamp": 1591038676439,
     "user": {
      "displayName": "Varun Khatri",
      "photoUrl": "https://lh3.googleusercontent.com/a-/AOh14GgNZKs5H2GANAWMcLPo9gyOyudU3gTuCoTvaoHx5g=s64",
      "userId": "04333460920277324581"
     },
     "user_tz": -330
    },
    "id": "vrFps5Kfxs0S",
    "outputId": "ad21ed6a-24b6-4237-8cf0-fd76be886383"
   },
   "outputs": [
    {
     "data": {
      "text/plain": [
       "(16000, 16000)"
      ]
     },
     "execution_count": 208,
     "metadata": {
      "tags": []
     },
     "output_type": "execute_result"
    }
   ],
   "source": [
    "\n",
    "samples , sampling_rate = librosa.load(filepath+'0ab3b47d_nohash_0.wav',sr =None , mono =True , offset = 0.0 ,duration = None)\n",
    "\n",
    "len(samples) , sampling_rate"
   ]
  },
  {
   "cell_type": "code",
   "execution_count": 209,
   "metadata": {
    "colab": {
     "base_uri": "https://localhost:8080/",
     "height": 35
    },
    "colab_type": "code",
    "executionInfo": {
     "elapsed": 1816,
     "status": "ok",
     "timestamp": 1591038676440,
     "user": {
      "displayName": "Varun Khatri",
      "photoUrl": "https://lh3.googleusercontent.com/a-/AOh14GgNZKs5H2GANAWMcLPo9gyOyudU3gTuCoTvaoHx5g=s64",
      "userId": "04333460920277324581"
     },
     "user_tz": -330
    },
    "id": "05lWYziFx8TJ",
    "outputId": "715d2806-425f-4cfd-c378-549e64fad230"
   },
   "outputs": [
    {
     "data": {
      "text/plain": [
       "1.0"
      ]
     },
     "execution_count": 209,
     "metadata": {
      "tags": []
     },
     "output_type": "execute_result"
    }
   ],
   "source": [
    "duration = len(samples)/sampling_rate\n",
    "duration"
   ]
  },
  {
   "cell_type": "code",
   "execution_count": 210,
   "metadata": {
    "colab": {
     "base_uri": "https://localhost:8080/",
     "height": 74
    },
    "colab_type": "code",
    "executionInfo": {
     "elapsed": 1666,
     "status": "ok",
     "timestamp": 1591038676440,
     "user": {
      "displayName": "Varun Khatri",
      "photoUrl": "https://lh3.googleusercontent.com/a-/AOh14GgNZKs5H2GANAWMcLPo9gyOyudU3gTuCoTvaoHx5g=s64",
      "userId": "04333460920277324581"
     },
     "user_tz": -330
    },
    "id": "ZOlEDNms186h",
    "outputId": "303b0b1b-efdc-4457-8d7f-561befbebf0d"
   },
   "outputs": [
    {
     "data": {
      "text/html": [
       "\n",
       "                <audio controls=\"controls\" >\n",
       "                    <source src=\"data:audio/x-wav;base64,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\" type=\"audio/x-wav\" />\n",
       "                    Your browser does not support the audio element.\n",
       "                </audio>\n",
       "              "
      ],
      "text/plain": [
       "<IPython.lib.display.Audio object>"
      ]
     },
     "execution_count": 210,
     "metadata": {
      "tags": []
     },
     "output_type": "execute_result"
    }
   ],
   "source": [
    "Audio(sound_path)"
   ]
  },
  {
   "cell_type": "code",
   "execution_count": 0,
   "metadata": {
    "colab": {},
    "colab_type": "code",
    "id": "qAzFLpdvyFB8"
   },
   "outputs": [],
   "source": [
    "# ipd.Audio(samples, rate=sample_rate)\n",
    "# print(sample_rate)"
   ]
  },
  {
   "cell_type": "code",
   "execution_count": 212,
   "metadata": {
    "colab": {
     "base_uri": "https://localhost:8080/",
     "height": 283
    },
    "colab_type": "code",
    "executionInfo": {
     "elapsed": 1961,
     "status": "ok",
     "timestamp": 1591038677118,
     "user": {
      "displayName": "Varun Khatri",
      "photoUrl": "https://lh3.googleusercontent.com/a-/AOh14GgNZKs5H2GANAWMcLPo9gyOyudU3gTuCoTvaoHx5g=s64",
      "userId": "04333460920277324581"
     },
     "user_tz": -330
    },
    "id": "--tUBnB5yqGJ",
    "outputId": "83676082-c519-4891-baa6-d20792745258"
   },
   "outputs": [
    {
     "data": {
      "image/png": "[encoded data removed]",
      "text/plain": [
       "<Figure size 432x288 with 1 Axes>"
      ]
     },
     "metadata": {
      "needs_background": "light",
      "tags": []
     },
     "output_type": "display_data"
    }
   ],
   "source": [
    "from librosa import display\n",
    "plt.figure()\n",
    "librosa.display.waveplot(y = samples , sr = sampling_rate)\n",
    "plt.xlabel(\"Time(sec)\")\n",
    "plt.ylabel(\"Amplitude\")\n",
    "plt.show()"
   ]
  },
  {
   "cell_type": "code",
   "execution_count": 0,
   "metadata": {
    "colab": {},
    "colab_type": "code",
    "id": "lCU8XShL2rvn"
   },
   "outputs": [],
   "source": [
    "#this figure only tells us about time domain and its relation with loudness(amplitude) while which is morepronounced to get that frequency domain plot \n",
    "#so we need to use fourier transform"
   ]
  },
  {
   "cell_type": "code",
   "execution_count": 0,
   "metadata": {
    "colab": {},
    "colab_type": "code",
    "id": "LJyW2TML3QWE"
   },
   "outputs": [],
   "source": [
    "\n",
    "# def spectrogram(samples, sample_rate, stride_ms = 10.0, \n",
    "#                           window_ms = 20.0, max_freq = None, eps = 1e-14):\n",
    "\n",
    "#     stride_size = int(0.001 * sample_rate * stride_ms)\n",
    "#     window_size = int(0.001 * sample_rate * window_ms)\n",
    "\n",
    "#     # Extract strided windows\n",
    "#     truncate_size = (len(samples) - window_size) % stride_size\n",
    "#     samples = samples[:len(samples) - truncate_size]\n",
    "#     nshape = (window_size, (len(samples) - window_size) // stride_size + 1)\n",
    "#     nstrides = (samples.strides[0], samples.strides[0] * stride_size)\n",
    "#     windows = np.lib.stride_tricks.as_strided(samples, \n",
    "#                                           shape = nshape, strides = nstrides)\n",
    "    \n",
    "#     assert np.all(windows[:, 1] == samples[stride_size:(stride_size + window_size)])\n",
    "\n",
    "#     # Window weighting, squared Fast Fourier Transform (fft), scaling\n",
    "#     weighting = np.hanning(window_size)[:, None]\n",
    "    \n",
    "#     fft = np.fft.rfft(windows * weighting, axis=0)\n",
    "#     fft = np.absolute(fft)\n",
    "#     fft = fft**2\n",
    "    \n",
    "#     scale = np.sum(weighting**2) * sample_rate\n",
    "#     fft[1:-1, :] *= (2.0 / scale)\n",
    "#     fft[(0, -1), :] /= scale\n",
    "    \n",
    "#     # Prepare fft frequency list'0ab3b47d_nohash_0.wav'\n",
    "#     freqs = float(sample_rate) / window_size * np.arange(fft.shape[0])\n",
    "    \n",
    "#     # Compute spectrogram feature\n",
    "#     ind = np.where(freqs <= max_freq)[0][-1] + 1\n",
    "#     specgram = np.log(fft[:ind, :] + eps)\n",
    "#     return specgram"
   ]
  },
  {
   "cell_type": "code",
   "execution_count": 0,
   "metadata": {
    "colab": {},
    "colab_type": "code",
    "id": "w4G1qa2fEIUm"
   },
   "outputs": [],
   "source": [
    "# ppx = spectrogram(samples , sample_rate, max_freq = 8000)"
   ]
  },
  {
   "cell_type": "code",
   "execution_count": 0,
   "metadata": {
    "colab": {},
    "colab_type": "code",
    "id": "xmMrvDLhERrm"
   },
   "outputs": [],
   "source": [
    "def graph_spectrogram(wav_file):\n",
    "    rate, data = get_wav_info(wav_file)\n",
    "    nfft = 200 # Length of each window segment\n",
    "    fs = 8000 # Sampling frequencies\n",
    "    noverlap = 120 # Overlap between windows\n",
    "    nchannels = data.ndim\n",
    "    if nchannels == 1:\n",
    "        pxx, freqs, bins, im = plt.specgram(data, nfft, fs, noverlap = noverlap)\n",
    "    elif nchannels == 2:\n",
    "        pxx, freqs, bins, im = plt.specgram(data[:,0], nfft, fs, noverlap = noverlap)\n",
    "    return pxx\n",
    "\n",
    "# Load a wav file\n",
    "def get_wav_info(wav_file):\n",
    "    rate, data = wavfile.read(wav_file)\n",
    "    return rate, data"
   ]
  },
  {
   "cell_type": "code",
   "execution_count": 217,
   "metadata": {
    "colab": {
     "base_uri": "https://localhost:8080/",
     "height": 269
    },
    "colab_type": "code",
    "executionInfo": {
     "elapsed": 1862,
     "status": "ok",
     "timestamp": 1591038693618,
     "user": {
      "displayName": "Varun Khatri",
      "photoUrl": "https://lh3.googleusercontent.com/a-/AOh14GgNZKs5H2GANAWMcLPo9gyOyudU3gTuCoTvaoHx5g=s64",
      "userId": "04333460920277324581"
     },
     "user_tz": -330
    },
    "id": "642K0cOoEct7",
    "outputId": "51503b61-81af-4cc9-aff5-daf71301cecd"
   },
   "outputs": [
    {
     "data": {
      "image/png": "[encoded data removed]",
      "text/plain": [
       "<Figure size 432x288 with 1 Axes>"
      ]
     },
     "metadata": {
      "needs_background": "light",
      "tags": []
     },
     "output_type": "display_data"
    }
   ],
   "source": [
    "x = graph_spectrogram(sound_path)"
   ]
  },
  {
   "cell_type": "code",
   "execution_count": 218,
   "metadata": {
    "colab": {
     "base_uri": "https://localhost:8080/",
     "height": 251
    },
    "colab_type": "code",
    "executionInfo": {
     "elapsed": 1943,
     "status": "ok",
     "timestamp": 1591038694126,
     "user": {
      "displayName": "Varun Khatri",
      "photoUrl": "https://lh3.googleusercontent.com/a-/AOh14GgNZKs5H2GANAWMcLPo9gyOyudU3gTuCoTvaoHx5g=s64",
      "userId": "04333460920277324581"
     },
     "user_tz": -330
    },
    "id": "epyk4avXFV-8",
    "outputId": "ea02dfd3-573b-4841-b183-5f2f4dbcfd93"
   },
   "outputs": [
    {
     "data": {
      "text/plain": [
       "array([[1.08256922e-01, 2.28514548e-01, 1.08146758e-02, ...,\n",
       "        6.79253741e-04, 2.40382843e-02, 8.35361382e-03],\n",
       "       [1.18224309e-02, 3.50786769e-01, 1.23174517e-02, ...,\n",
       "        4.48241640e-03, 3.38748005e-02, 9.83433411e-02],\n",
       "       [8.90209563e-02, 1.06816699e-01, 8.24569958e-03, ...,\n",
       "        1.56592871e-02, 3.55607877e-02, 5.26908699e-02],\n",
       "       ...,\n",
       "       [1.19994583e-04, 4.06695552e-05, 4.76853381e-06, ...,\n",
       "        7.72045348e-06, 6.56591853e-06, 4.37169015e-05],\n",
       "       [2.93025579e-05, 3.92375471e-05, 1.38934190e-05, ...,\n",
       "        5.65130519e-06, 1.53565730e-05, 2.14599380e-05],\n",
       "       [2.22466994e-06, 2.42859093e-05, 1.12464717e-07, ...,\n",
       "        2.56375732e-06, 2.71802397e-06, 2.09314236e-07]])"
      ]
     },
     "execution_count": 218,
     "metadata": {
      "tags": []
     },
     "output_type": "execute_result"
    }
   ],
   "source": [
    "np.array(x)"
   ]
  },
  {
   "cell_type": "code",
   "execution_count": 0,
   "metadata": {
    "colab": {},
    "colab_type": "code",
    "id": "LQUTUOumBJAv"
   },
   "outputs": [],
   "source": [
    "word_to_idx = {\"a\":1 ,\"b\":2 ,\"c\":3 ,\"d\":4 ,\"e\":5 ,\"f\":6 ,\"g\":7 ,\"h\":8 ,\"i\":9 ,\"j\": 10, \"k\" :11,\"l\":12 ,\"m\":13 ,\"n\":14 ,\"o\":15 ,\"p\":16 ,\"q\":17 ,\"r\":18 ,\"s\":19 ,\"t\":20 ,\"u\":21,\"v\":22,\"w\":23 ,\"x\":24 ,\"y\":25 ,\"z\":26 ,\"_\":27 ,\" \": 28 }\n",
    "idx_to_word = dict([(key , value) for (value ,key) in word_to_idx.items() ])"
   ]
  },
  {
   "cell_type": "code",
   "execution_count": 220,
   "metadata": {
    "colab": {
     "base_uri": "https://localhost:8080/",
     "height": 269
    },
    "colab_type": "code",
    "executionInfo": {
     "elapsed": 11748,
     "status": "ok",
     "timestamp": 1591038704785,
     "user": {
      "displayName": "Varun Khatri",
      "photoUrl": "https://lh3.googleusercontent.com/a-/AOh14GgNZKs5H2GANAWMcLPo9gyOyudU3gTuCoTvaoHx5g=s64",
      "userId": "04333460920277324581"
     },
     "user_tz": -330
    },
    "id": "rzMMsm9bFeWC",
    "outputId": "7f252afd-3633-4d81-a2a8-f3fe400b7a4a"
   },
   "outputs": [
    {
     "data": {
      "image/png": "[encoded data removed]",
      "text/plain": [
       "<Figure size 432x288 with 1 Axes>"
      ]
     },
     "metadata": {
      "needs_background": "light",
      "tags": []
     },
     "output_type": "display_data"
    }
   ],
   "source": [
    "##now import training example \n",
    "\n",
    "X_Train = []\n",
    "Y_Train = []\n",
    "\n",
    "waves = [f for f in os.listdir(filepath) if f.endswith('.wav')]\n",
    "for wav in waves:\n",
    "  sample = graph_spectrogram(filepath + wav)\n",
    "  if sample.shape == (101,198):\n",
    "\n",
    "    # sample = sample.reshape(101*198,1)\n",
    "    X_Train.append(sample)\n",
    "    Y_Train.append(0)"
   ]
  },
  {
   "cell_type": "code",
   "execution_count": 0,
   "metadata": {
    "colab": {},
    "colab_type": "code",
    "id": "wH8e0CsuGr4M"
   },
   "outputs": [],
   "source": [
    "# Y_Train = np.array(Y_Train)\n",
    "# X_Train = np.array(X_Train)\n",
    "# print(len(X_Train),len(Y_Train))\n",
    "# input_length = 198\n",
    "# label_length = 3\n",
    "# import keras.backend as K\n",
    "# def ctc_loss(y_true, y_pred):\n",
    "#     print(y_pred)\n",
    "#     return K.ctc_batch_cost(y_true, y_pred, input_length, label_length)\n",
    "\n",
    "# eos_index = 28\n",
    "# def ctc_find_eos(y_true, y_pred):\n",
    "\n",
    "#     #convert y_pred from one-hot to label indices\n",
    "#     y_pred_ind = K.argmax(y_pred, axis=-1)\n",
    "\n",
    "#     #to make sure y_pred has one end_of_sentence (to avoid errors)\n",
    "#     y_pred_end = K.concatenate([\n",
    "#                                   y_pred_ind[:,:-1], \n",
    "#                                   eos_index * K.ones_like(y_pred_ind[:,-1:])\n",
    "#                                ], axis = 1)\n",
    "\n",
    "#     #to make sure the first occurrence of the char is more important than subsequent ones\n",
    "#     occurrence_weights = K.arange(start = max_length, stop=0, dtype=K.floatx())\n",
    "\n",
    "#     #is eos?\n",
    "#     is_eos_true = K.cast_to_floatx(K.equal(y_true, eos_index))\n",
    "#     is_eos_pred = K.cast_to_floatx(K.equal(y_pred_end, eos_index))\n",
    "\n",
    "#     #lengths\n",
    "#     true_lengths = 1 + K.argmax(occurrence_weights * is_eos_true, axis=1)\n",
    "#     pred_lengths = 1 + K.argmax(occurrence_weights * is_eos_pred, axis=1)\n",
    "\n",
    "#     #reshape\n",
    "#     true_lengths = K.reshape(true_lengths, (-1,1))\n",
    "#     pred_lengths = K.reshape(pred_lengths, (-1,1))\n",
    "\n",
    "#     return K.ctc_batch_cost(y_true, y_pred, pred_lengths, true_lengths)"
   ]
  },
  {
   "cell_type": "code",
   "execution_count": 0,
   "metadata": {
    "colab": {},
    "colab_type": "code",
    "id": "beXS7vowIKFe"
   },
   "outputs": [],
   "source": [
    "from keras.callbacks import ModelCheckpoint\n",
    "from keras.models import Model, load_model, Sequential\n",
    "from keras.layers import Dense, Activation, Dropout, Input, Masking, TimeDistributed, LSTM, Conv1D\n",
    "from keras.layers import GRU, Bidirectional, BatchNormalization, Reshape\n",
    "from keras.optimizers import Adam"
   ]
  },
  {
   "cell_type": "code",
   "execution_count": 223,
   "metadata": {
    "colab": {
     "base_uri": "https://localhost:8080/",
     "height": 35
    },
    "colab_type": "code",
    "executionInfo": {
     "elapsed": 10559,
     "status": "ok",
     "timestamp": 1591038704790,
     "user": {
      "displayName": "Varun Khatri",
      "photoUrl": "https://lh3.googleusercontent.com/a-/AOh14GgNZKs5H2GANAWMcLPo9gyOyudU3gTuCoTvaoHx5g=s64",
      "userId": "04333460920277324581"
     },
     "user_tz": -330
    },
    "id": "WocFRXeDIM79",
    "outputId": "0f052733-34b7-4426-da58-68d725007489"
   },
   "outputs": [
    {
     "data": {
      "text/plain": [
       "264"
      ]
     },
     "execution_count": 223,
     "metadata": {
      "tags": []
     },
     "output_type": "execute_result"
    }
   ],
   "source": [
    "len(Y_Train)"
   ]
  },
  {
   "cell_type": "code",
   "execution_count": 224,
   "metadata": {
    "colab": {
     "base_uri": "https://localhost:8080/",
     "height": 35
    },
    "colab_type": "code",
    "executionInfo": {
     "elapsed": 10386,
     "status": "ok",
     "timestamp": 1591038704792,
     "user": {
      "displayName": "Varun Khatri",
      "photoUrl": "https://lh3.googleusercontent.com/a-/AOh14GgNZKs5H2GANAWMcLPo9gyOyudU3gTuCoTvaoHx5g=s64",
      "userId": "04333460920277324581"
     },
     "user_tz": -330
    },
    "id": "EjrdTogxIOnN",
    "outputId": "939b6517-332d-49aa-b0ac-3c7b0d290e3a"
   },
   "outputs": [
    {
     "data": {
      "text/plain": [
       "(101, 198)"
      ]
     },
     "execution_count": 224,
     "metadata": {
      "tags": []
     },
     "output_type": "execute_result"
    }
   ],
   "source": [
    "X_Train[112].shape"
   ]
  },
  {
   "cell_type": "code",
   "execution_count": 225,
   "metadata": {
    "colab": {
     "base_uri": "https://localhost:8080/",
     "height": 35
    },
    "colab_type": "code",
    "executionInfo": {
     "elapsed": 10218,
     "status": "ok",
     "timestamp": 1591038704792,
     "user": {
      "displayName": "Varun Khatri",
      "photoUrl": "https://lh3.googleusercontent.com/a-/AOh14GgNZKs5H2GANAWMcLPo9gyOyudU3gTuCoTvaoHx5g=s64",
      "userId": "04333460920277324581"
     },
     "user_tz": -330
    },
    "id": "YRFLQi2IRG75",
    "outputId": "d84b2125-7b50-41e3-bb31-a91fcaf9f297"
   },
   "outputs": [
    {
     "name": "stdout",
     "output_type": "stream",
     "text": [
      "264\n"
     ]
    }
   ],
   "source": [
    "print(len(X_Train))"
   ]
  },
  {
   "cell_type": "code",
   "execution_count": 0,
   "metadata": {
    "colab": {},
    "colab_type": "code",
    "id": "lG8vX4c-IcHG"
   },
   "outputs": [],
   "source": [
    "# from keras.preprocessing import sequence\n",
    "# from keras.models import Sequential, Model\n",
    "# from keras.layers import Dense, Embedding , Activation, LSTM \n",
    "# from keras.initializers import glorot_uniform\n",
    "# from keras.utils import to_categorical\n",
    "# from keras.optimizers import Adam\n",
    "# from keras import backend as K\n",
    "# from keras.layers import Input,Lambda,Reshape,Flatten,Lambda\n",
    "\n",
    "# X_input = Input(shape = (101,198))\n",
    "\n",
    "# X =Conv1D(filters=196,kernel_size=15,strides=4)(X_input)                                  \n",
    "# X = BatchNormalization()(X)                                \n",
    "# X = Activation(\"relu\")(X)                                 \n",
    "# X = Dropout(rate = 0.8)(X)\n",
    "\n",
    "# X = GRU(units=128, return_sequences = True)(X)                                \n",
    "# X = Dropout(rate = 0.8)(X)                              \n",
    "# X = BatchNormalization()(X)\n",
    "\n",
    "# X = Dropout(rate = 0.8)(X)\n",
    "\n",
    "# # X = Flatten()(X)\n",
    "\n",
    "# # X = Lambda()\n",
    "\n",
    "# # X = Dense(1 , activation='sigmoid')(X)\n",
    "\n",
    "# X = TimeDistributed(Dense(30, activation = \"sigmoid\"))(X)\n",
    "\n",
    "# model = Model(inputs = X_input, outputs = X) \n",
    "\n",
    "# model.compile(loss= ctc_find_eos,optimizer='adam',metrics=['accuracy'])\n",
    "# model.summary()\n",
    "\n",
    "# num_epochs = 3\n",
    "# MODEL = model.fit(X_Train , Y_Train , epochs = num_epochs)"
   ]
  },
  {
   "cell_type": "code",
   "execution_count": 0,
   "metadata": {
    "colab": {},
    "colab_type": "code",
    "id": "MwwiOsXoJLjk"
   },
   "outputs": [],
   "source": [
    "import numpy as np\n",
    "\n",
    "#%%\n",
    "# From Baidu ba-dls-deepspeech - https://github.com/baidu-research/ba-dls-deepspeech\n",
    "# Character map list\n",
    "\n",
    "char_map_str = \"\"\"\n",
    "<SPACE> 0\n",
    "a 1\n",
    "b 2\n",
    "c 3\n",
    "d 4\n",
    "e 5\n",
    "f 6\n",
    "g 7\n",
    "h 8\n",
    "i 9\n",
    "j 10\n",
    "k 11\n",
    "l 12\n",
    "m 13\n",
    "n 14\n",
    "o 15\n",
    "p 16\n",
    "q 17\n",
    "r 18\n",
    "s 19\n",
    "t 20\n",
    "u 21\n",
    "v 22\n",
    "w 23\n",
    "x 24\n",
    "y 25\n",
    "z 26\n",
    "' 27\n",
    "\"\"\"\n",
    "\n",
    "char_map = {}\n",
    "index_map = {}\n",
    "\n",
    "for line in char_map_str.strip().split('\\n'):\n",
    "    ch, index = line.split()\n",
    "    char_map[ch] = int(index)\n",
    "    index_map[int(index)] = ch\n",
    "\n",
    "index_map[0] = ' '\n",
    "\n",
    "#%%\n",
    "def text_to_int(text):\n",
    "    \"\"\"\n",
    "    takes the character map and returns a series of \n",
    "    integers for the inserted text\n",
    "    the 'silence' class returns only 27's\n",
    "    \"\"\"\n",
    "    int_seq = []\n",
    "    if text == 'silence':\n",
    "        for r in range(8):\n",
    "            int_seq.append(27)\n",
    "    else:\n",
    "        for c in text:\n",
    "            ch = char_map[c]\n",
    "            int_seq.append(ch)\n",
    "    return int_seq\n",
    "        \n",
    "def get_intseq(trans, max_len = 23):\n",
    "    \"\"\"\n",
    "    pads integer list with 27's up to max length\n",
    "    \"\"\"\n",
    "    t = text_to_int(trans)\n",
    "    while (len(t) < max_len):\n",
    "        t.append(27)\n",
    "    return t\n",
    "\n",
    "def get_ctc_params(Y, classes_list, len_char_map = 28):\n",
    "    \"\"\"\n",
    "    Usage:\n",
    "        creates parameters required for K.ctc_batch_cost function \n",
    "    Args:\n",
    "        Y (ndarray): target set with all classes\n",
    "        classes_list (list): list with class names\n",
    "        len_char_map (int): length of the character map\n",
    "    Returns:\n",
    "        3 ndarrays\n",
    "    \"\"\"\n",
    "    labels = np.array([get_intseq(classes_list[Y[l]]) for l, _ in enumerate(Y)])\n",
    "    input_length = np.array([23 for _ in Y])\n",
    "    label_length = np.array([23 for _ in Y])\n",
    "    return labels, input_length, label_length\n"
   ]
  },
  {
   "cell_type": "code",
   "execution_count": 228,
   "metadata": {
    "colab": {
     "base_uri": "https://localhost:8080/",
     "height": 35
    },
    "colab_type": "code",
    "executionInfo": {
     "elapsed": 9730,
     "status": "ok",
     "timestamp": 1591038704795,
     "user": {
      "displayName": "Varun Khatri",
      "photoUrl": "https://lh3.googleusercontent.com/a-/AOh14GgNZKs5H2GANAWMcLPo9gyOyudU3gTuCoTvaoHx5g=s64",
      "userId": "04333460920277324581"
     },
     "user_tz": -330
    },
    "id": "hEeEiWYFvwt8",
    "outputId": "b611bef2-3bd2-44ee-ae4a-728ff042182a"
   },
   "outputs": [
    {
     "data": {
      "text/plain": [
       "(264, 23)"
      ]
     },
     "execution_count": 228,
     "metadata": {
      "tags": []
     },
     "output_type": "execute_result"
    }
   ],
   "source": [
    "# labels = np.array([get_intseq(all_classes[Y_Train[l]]) for l, _ in enumerate(Y_Train)])\n",
    "labels.shape"
   ]
  },
  {
   "cell_type": "code",
   "execution_count": 0,
   "metadata": {
    "colab": {},
    "colab_type": "code",
    "id": "SaaJJ0fbSlxe"
   },
   "outputs": [],
   "source": [
    "from keras.layers import *\n",
    "from keras.layers.wrappers import TimeDistributed\n",
    "from keras.layers.merge import Add\n",
    "from keras.layers.normalization import BatchNormalization\n",
    "from keras.models import Model\n",
    "from keras import backend as K\n",
    "from keras.utils import plot_model\n",
    "\n",
    "def ctc_lambda_func(args):\n",
    "    y_pred, labels, input_length, label_length = args    \n",
    "    return K.ctc_batch_cost(labels, y_pred, input_length, label_length )    \n",
    "    \n",
    "        \n",
    "#%%\n",
    "class CTC():\n",
    "    \"\"\"\n",
    "    Usage:\n",
    "        sr_ctc = CTC(enter input_size and output_size)\n",
    "        sr_ctc.build()\n",
    "        sr_ctc.m.compile()\n",
    "        sr_ctc.tm.compile()\n",
    "    \"\"\"       \n",
    "    def __init__(self,\n",
    "                 input_size=None, \n",
    "                 output_size=None,\n",
    "                 initializer='glorot_uniform'):\n",
    "        self.input_size = input_size\n",
    "        self.output_size = output_size\n",
    "        self.initializer = initializer\n",
    "        self.m = None\n",
    "        self.tm = None\n",
    "                   \n",
    "    def build(self, \n",
    "              conv_filters = 196,\n",
    "              conv_size = 13,\n",
    "              conv_strides = 4,\n",
    "              act = 'relu',\n",
    "              rnn_layers = 2,\n",
    "              LSTM_units = 128,\n",
    "              drop_out = 0.8):\n",
    "           \n",
    "        i = Input(shape = self.input_size, name = 'input')\n",
    "        x = Conv1D(conv_filters, \n",
    "                   conv_size, \n",
    "                   strides = conv_strides, \n",
    "                   name = 'conv1d')(i)\n",
    "        x = BatchNormalization()(x)\n",
    "        x = Activation(act)(x)\n",
    "        for _ in range(rnn_layers):          \n",
    "            x = Bidirectional(LSTM(LSTM_units, \n",
    "                                   return_sequences = True))(x)\n",
    "            x = Dropout(drop_out)(x)\n",
    "            x = BatchNormalization()(x)\n",
    "        y_pred = TimeDistributed(Dense(self.output_size, \n",
    "                                       activation = 'softmax'))(x)        \n",
    "        # ctc inputs\n",
    "        labels = Input(name='the_labels', shape=[None,], dtype='int32')\n",
    "        input_length = Input(name='input_length', shape=[1], dtype='int32')\n",
    "        label_length = Input(name='label_length', shape=[1], dtype='int32')    \n",
    "        # Keras doesn't currently support loss funcs with extra parameters\n",
    "        # so CTC loss is implemented in a lambda layer\n",
    "        loss_out = Lambda(ctc_lambda_func, \n",
    "                          output_shape=(1,), \n",
    "                          name='ctc')([y_pred,\n",
    "                                        labels,\n",
    "                                        input_length,\n",
    "                                        label_length])        \n",
    "        self.tm = Model(inputs = i,\n",
    "                        outputs = y_pred)\n",
    "        self.m = Model(inputs = [i, \n",
    "                                 labels, \n",
    "                                 input_length, \n",
    "                                 label_length], \n",
    "                        outputs = loss_out)\n",
    "        return self.m, self.tm\n"
   ]
  },
  {
   "cell_type": "code",
   "execution_count": 0,
   "metadata": {
    "colab": {},
    "colab_type": "code",
    "id": "2g42KhdFqmQa"
   },
   "outputs": [],
   "source": [
    "# from models import CTC, ctc_lambda_func #used in the CTC build method\n",
    "# from ctc_utils import char_map, index_map, text_to_int, get_intseq, get_ctc_params\n",
    "all_classes = [ 'cat','yes', 'no', 'up', 'down', 'left', 'right', 'on', 'off', 'stop', 'go', 'silence', 'house', 'nine', 'four', 'happy', 'wow', 'five', 'zero', 'tree', 'six', 'one', 'three', 'eight', 'two', 'seven', 'marvin', 'dog', 'sheila', 'bed', 'bird']\n"
   ]
  },
  {
   "cell_type": "code",
   "execution_count": 0,
   "metadata": {
    "colab": {},
    "colab_type": "code",
    "id": "Y7jZlPtJrKAV"
   },
   "outputs": [],
   "source": [
    "def ctc(y_true, y_pred):\n",
    "    return y_pred"
   ]
  },
  {
   "cell_type": "code",
   "execution_count": 232,
   "metadata": {
    "colab": {
     "base_uri": "https://localhost:8080/",
     "height": 53
    },
    "colab_type": "code",
    "executionInfo": {
     "elapsed": 10870,
     "status": "ok",
     "timestamp": 1591038706609,
     "user": {
      "displayName": "Varun Khatri",
      "photoUrl": "https://lh3.googleusercontent.com/a-/AOh14GgNZKs5H2GANAWMcLPo9gyOyudU3gTuCoTvaoHx5g=s64",
      "userId": "04333460920277324581"
     },
     "user_tz": -330
    },
    "id": "tvHsxPiZrKds",
    "outputId": "c42b9055-1be9-43c2-bcec-dee11ac9e024"
   },
   "outputs": [
    {
     "data": {
      "text/plain": [
       "(<keras.engine.training.Model at 0x7ffa0defbe10>,\n",
       " <keras.engine.training.Model at 0x7ffa0df00dd8>)"
      ]
     },
     "execution_count": 232,
     "metadata": {
      "tags": []
     },
     "output_type": "execute_result"
    }
   ],
   "source": [
    "sr_ctc = CTC((101,198), 28)\n",
    "sr_ctc.build()"
   ]
  },
  {
   "cell_type": "code",
   "execution_count": 233,
   "metadata": {
    "colab": {
     "base_uri": "https://localhost:8080/",
     "height": 755
    },
    "colab_type": "code",
    "executionInfo": {
     "elapsed": 10700,
     "status": "ok",
     "timestamp": 1591038706610,
     "user": {
      "displayName": "Varun Khatri",
      "photoUrl": "https://lh3.googleusercontent.com/a-/AOh14GgNZKs5H2GANAWMcLPo9gyOyudU3gTuCoTvaoHx5g=s64",
      "userId": "04333460920277324581"
     },
     "user_tz": -330
    },
    "id": "iHS_FthJsor5",
    "outputId": "02cd4e97-0e99-4f5f-c129-7472a9be01c3"
   },
   "outputs": [
    {
     "name": "stdout",
     "output_type": "stream",
     "text": [
      "Model: \"model_23\"\n",
      "__________________________________________________________________________________________________\n",
      "Layer (type)                    Output Shape         Param #     Connected to                     \n",
      "==================================================================================================\n",
      "input (InputLayer)              (None, 101, 198)     0                                            \n",
      "__________________________________________________________________________________________________\n",
      "conv1d (Conv1D)                 (None, 23, 196)      504700      input[0][0]                      \n",
      "__________________________________________________________________________________________________\n",
      "batch_normalization_33 (BatchNo (None, 23, 196)      784         conv1d[0][0]                     \n",
      "__________________________________________________________________________________________________\n",
      "activation_12 (Activation)      (None, 23, 196)      0           batch_normalization_33[0][0]     \n",
      "__________________________________________________________________________________________________\n",
      "bidirectional_21 (Bidirectional (None, 23, 256)      332800      activation_12[0][0]              \n",
      "__________________________________________________________________________________________________\n",
      "dropout_24 (Dropout)            (None, 23, 256)      0           bidirectional_21[0][0]           \n",
      "__________________________________________________________________________________________________\n",
      "batch_normalization_34 (BatchNo (None, 23, 256)      1024        dropout_24[0][0]                 \n",
      "__________________________________________________________________________________________________\n",
      "bidirectional_22 (Bidirectional (None, 23, 256)      394240      batch_normalization_34[0][0]     \n",
      "__________________________________________________________________________________________________\n",
      "dropout_25 (Dropout)            (None, 23, 256)      0           bidirectional_22[0][0]           \n",
      "__________________________________________________________________________________________________\n",
      "batch_normalization_35 (BatchNo (None, 23, 256)      1024        dropout_25[0][0]                 \n",
      "__________________________________________________________________________________________________\n",
      "time_distributed_12 (TimeDistri (None, 23, 28)       7196        batch_normalization_35[0][0]     \n",
      "__________________________________________________________________________________________________\n",
      "the_labels (InputLayer)         (None, None)         0                                            \n",
      "__________________________________________________________________________________________________\n",
      "input_length (InputLayer)       (None, 1)            0                                            \n",
      "__________________________________________________________________________________________________\n",
      "label_length (InputLayer)       (None, 1)            0                                            \n",
      "__________________________________________________________________________________________________\n",
      "ctc (Lambda)                    (None, 1)            0           time_distributed_12[0][0]        \n",
      "                                                                 the_labels[0][0]                 \n",
      "                                                                 input_length[0][0]               \n",
      "                                                                 label_length[0][0]               \n",
      "==================================================================================================\n",
      "Total params: 1,241,768\n",
      "Trainable params: 1,240,352\n",
      "Non-trainable params: 1,416\n",
      "__________________________________________________________________________________________________\n"
     ]
    }
   ],
   "source": [
    "sr_ctc.m.summary()"
   ]
  },
  {
   "cell_type": "code",
   "execution_count": 0,
   "metadata": {
    "colab": {},
    "colab_type": "code",
    "id": "8gNlKbhPrKfp"
   },
   "outputs": [],
   "source": [
    "sr_ctc.m.compile(loss = ctc, optimizer = 'adam', metrics = ['accuracy'])\n",
    "sr_ctc.tm.compile(loss = ctc, optimizer = 'adam')\n"
   ]
  },
  {
   "cell_type": "code",
   "execution_count": 235,
   "metadata": {
    "colab": {
     "base_uri": "https://localhost:8080/",
     "height": 395
    },
    "colab_type": "code",
    "executionInfo": {
     "elapsed": 10346,
     "status": "ok",
     "timestamp": 1591038706611,
     "user": {
      "displayName": "Varun Khatri",
      "photoUrl": "https://lh3.googleusercontent.com/a-/AOh14GgNZKs5H2GANAWMcLPo9gyOyudU3gTuCoTvaoHx5g=s64",
      "userId": "04333460920277324581"
     },
     "user_tz": -330
    },
    "id": "lWjJqteVrbqz",
    "outputId": "7459d8f1-041b-4ebd-eba8-a7dbef79c7b2"
   },
   "outputs": [
    {
     "name": "stdout",
     "output_type": "stream",
     "text": [
      "labels (264, 23)   [23 23 23 23 23 23 23 23 23 23 23 23 23 23 23 23 23 23 23 23 23 23 23 23\n",
      " 23 23 23 23 23 23 23 23 23 23 23 23 23 23 23 23 23 23 23 23 23 23 23 23\n",
      " 23 23 23 23 23 23 23 23 23 23 23 23 23 23 23 23 23 23 23 23 23 23 23 23\n",
      " 23 23 23 23 23 23 23 23 23 23 23 23 23 23 23 23 23 23 23 23 23 23 23 23\n",
      " 23 23 23 23 23 23 23 23 23 23 23 23 23 23 23 23 23 23 23 23 23 23 23 23\n",
      " 23 23 23 23 23 23 23 23 23 23 23 23 23 23 23 23 23 23 23 23 23 23 23 23\n",
      " 23 23 23 23 23 23 23 23 23 23 23 23 23 23 23 23 23 23 23 23 23 23 23 23\n",
      " 23 23 23 23 23 23 23 23 23 23 23 23 23 23 23 23 23 23 23 23 23 23 23 23\n",
      " 23 23 23 23 23 23 23 23 23 23 23 23 23 23 23 23 23 23 23 23 23 23 23 23\n",
      " 23 23 23 23 23 23 23 23 23 23 23 23 23 23 23 23 23 23 23 23 23 23 23 23\n",
      " 23 23 23 23 23 23 23 23 23 23 23 23 23 23 23 23 23 23 23 23 23 23 23 23]   [23 23 23 23 23 23 23 23 23 23 23 23 23 23 23 23 23 23 23 23 23 23 23 23\n",
      " 23 23 23 23 23 23 23 23 23 23 23 23 23 23 23 23 23 23 23 23 23 23 23 23\n",
      " 23 23 23 23 23 23 23 23 23 23 23 23 23 23 23 23 23 23 23 23 23 23 23 23\n",
      " 23 23 23 23 23 23 23 23 23 23 23 23 23 23 23 23 23 23 23 23 23 23 23 23\n",
      " 23 23 23 23 23 23 23 23 23 23 23 23 23 23 23 23 23 23 23 23 23 23 23 23\n",
      " 23 23 23 23 23 23 23 23 23 23 23 23 23 23 23 23 23 23 23 23 23 23 23 23\n",
      " 23 23 23 23 23 23 23 23 23 23 23 23 23 23 23 23 23 23 23 23 23 23 23 23\n",
      " 23 23 23 23 23 23 23 23 23 23 23 23 23 23 23 23 23 23 23 23 23 23 23 23\n",
      " 23 23 23 23 23 23 23 23 23 23 23 23 23 23 23 23 23 23 23 23 23 23 23 23\n",
      " 23 23 23 23 23 23 23 23 23 23 23 23 23 23 23 23 23 23 23 23 23 23 23 23\n",
      " 23 23 23 23 23 23 23 23 23 23 23 23 23 23 23 23 23 23 23 23 23 23 23 23]\n"
     ]
    }
   ],
   "source": [
    "labels, input_length, label_length = get_ctc_params(Y = Y_Train, classes_list = all_classes)\n",
    "labels_val, input_length_val, label_length_val = get_ctc_params(Y = Y_Train, classes_list = all_classes)\n",
    "print(\"labels\" ,labels.shape ,\" \",input_length ,\" \", label_length)"
   ]
  },
  {
   "cell_type": "code",
   "execution_count": 0,
   "metadata": {
    "colab": {},
    "colab_type": "code",
    "id": "D8H6Z8esxc3e"
   },
   "outputs": [],
   "source": []
  },
  {
   "cell_type": "code",
   "execution_count": 0,
   "metadata": {
    "colab": {},
    "colab_type": "code",
    "id": "dUfs3WnPxcvG"
   },
   "outputs": [],
   "source": []
  },
  {
   "cell_type": "code",
   "execution_count": 0,
   "metadata": {
    "colab": {},
    "colab_type": "code",
    "id": "lbOKtBP8xXiw"
   },
   "outputs": [],
   "source": []
  },
  {
   "cell_type": "code",
   "execution_count": 0,
   "metadata": {
    "colab": {
     "base_uri": "https://localhost:8080/",
     "height": 1000
    },
    "colab_type": "code",
    "id": "X4Gfkv7RrbtO",
    "outputId": "920cde86-dbc8-4360-da7e-7895b2235d5a"
   },
   "outputs": [
    {
     "name": "stdout",
     "output_type": "stream",
     "text": [
      "Train on 264 samples, validate on 264 samples\n",
      "Epoch 1/100\n",
      "264/264 [==============================] - 4s 16ms/step - loss: 67.4256 - accuracy: 0.0000e+00 - val_loss: 55.1902 - val_accuracy: 0.0000e+00\n",
      "Epoch 2/100\n",
      "264/264 [==============================] - 2s 7ms/step - loss: 44.7116 - accuracy: 0.0000e+00 - val_loss: 44.1512 - val_accuracy: 0.0000e+00\n",
      "Epoch 3/100\n",
      "264/264 [==============================] - 2s 7ms/step - loss: 27.1834 - accuracy: 0.0000e+00 - val_loss: 34.9466 - val_accuracy: 0.0000e+00\n",
      "Epoch 4/100\n",
      "264/264 [==============================] - 2s 7ms/step - loss: 16.9577 - accuracy: 0.0000e+00 - val_loss: 28.5675 - val_accuracy: 0.0000e+00\n",
      "Epoch 5/100\n",
      "264/264 [==============================] - 2s 7ms/step - loss: 11.2690 - accuracy: 0.0000e+00 - val_loss: 23.8237 - val_accuracy: 0.0000e+00\n",
      "Epoch 6/100\n",
      "264/264 [==============================] - 2s 7ms/step - loss: 8.3546 - accuracy: 0.0000e+00 - val_loss: 20.1783 - val_accuracy: 0.0000e+00\n",
      "Epoch 7/100\n",
      "264/264 [==============================] - 2s 7ms/step - loss: 6.4887 - accuracy: 0.0000e+00 - val_loss: 15.3831 - val_accuracy: 0.0000e+00\n",
      "Epoch 8/100\n",
      "264/264 [==============================] - 2s 7ms/step - loss: 5.3287 - accuracy: 0.0000e+00 - val_loss: 11.8691 - val_accuracy: 0.0000e+00\n",
      "Epoch 9/100\n",
      "264/264 [==============================] - 2s 7ms/step - loss: 4.5892 - accuracy: 0.0000e+00 - val_loss: 9.4577 - val_accuracy: 0.0000e+00\n",
      "Epoch 10/100\n",
      "264/264 [==============================] - 2s 7ms/step - loss: 3.9431 - accuracy: 0.0000e+00 - val_loss: 7.6936 - val_accuracy: 0.0000e+00\n",
      "Epoch 11/100\n",
      "264/264 [==============================] - 2s 7ms/step - loss: 3.5182 - accuracy: 0.0000e+00 - val_loss: 6.1223 - val_accuracy: 0.0000e+00\n",
      "Epoch 12/100\n",
      "264/264 [==============================] - 2s 7ms/step - loss: 3.0649 - accuracy: 0.0000e+00 - val_loss: 5.0935 - val_accuracy: 0.0000e+00\n",
      "Epoch 13/100\n",
      "264/264 [==============================] - 2s 7ms/step - loss: 2.6015 - accuracy: 0.0000e+00 - val_loss: 4.2541 - val_accuracy: 0.0000e+00\n",
      "Epoch 14/100\n",
      "264/264 [==============================] - 2s 7ms/step - loss: 2.4162 - accuracy: 0.0038 - val_loss: 3.6569 - val_accuracy: 0.0000e+00\n",
      "Epoch 15/100\n",
      "264/264 [==============================] - 2s 7ms/step - loss: 2.0809 - accuracy: 0.0189 - val_loss: 3.3272 - val_accuracy: 0.0000e+00\n",
      "Epoch 16/100\n",
      "264/264 [==============================] - 2s 7ms/step - loss: 1.9680 - accuracy: 0.0341 - val_loss: 2.7521 - val_accuracy: 0.0000e+00\n",
      "Epoch 17/100\n",
      "264/264 [==============================] - 2s 7ms/step - loss: 1.7947 - accuracy: 0.0795 - val_loss: 2.4050 - val_accuracy: 0.0000e+00\n",
      "Epoch 18/100\n",
      "264/264 [==============================] - 2s 7ms/step - loss: 1.6525 - accuracy: 0.1288 - val_loss: 2.2233 - val_accuracy: 0.0000e+00\n",
      "Epoch 19/100\n",
      "264/264 [==============================] - 2s 7ms/step - loss: 1.4701 - accuracy: 0.1212 - val_loss: 2.1761 - val_accuracy: 0.0000e+00\n",
      "Epoch 20/100\n",
      "264/264 [==============================] - 2s 7ms/step - loss: 1.3702 - accuracy: 0.1515 - val_loss: 2.0862 - val_accuracy: 0.0000e+00\n",
      "Epoch 21/100\n",
      "264/264 [==============================] - 2s 7ms/step - loss: 1.3266 - accuracy: 0.1477 - val_loss: 1.7540 - val_accuracy: 0.0152\n",
      "Epoch 22/100\n",
      "264/264 [==============================] - 2s 7ms/step - loss: 1.1952 - accuracy: 0.2386 - val_loss: 1.4850 - val_accuracy: 0.2462\n",
      "Epoch 23/100\n",
      "264/264 [==============================] - 2s 7ms/step - loss: 1.0524 - accuracy: 0.2576 - val_loss: 1.4107 - val_accuracy: 0.3523\n",
      "Epoch 24/100\n",
      "264/264 [==============================] - 2s 7ms/step - loss: 1.0362 - accuracy: 0.2917 - val_loss: 1.3371 - val_accuracy: 0.4129\n",
      "Epoch 25/100\n",
      "264/264 [==============================] - 2s 7ms/step - loss: 0.9704 - accuracy: 0.3144 - val_loss: 1.1000 - val_accuracy: 0.4962\n",
      "Epoch 26/100\n",
      "264/264 [==============================] - 2s 7ms/step - loss: 0.8321 - accuracy: 0.3712 - val_loss: 0.9079 - val_accuracy: 0.5227\n",
      "Epoch 27/100\n",
      "264/264 [==============================] - 2s 7ms/step - loss: 0.7921 - accuracy: 0.3788 - val_loss: 0.7829 - val_accuracy: 0.5379\n",
      "Epoch 28/100\n",
      "264/264 [==============================] - 2s 7ms/step - loss: 0.7567 - accuracy: 0.4697 - val_loss: 0.7110 - val_accuracy: 0.5606\n",
      "Epoch 29/100\n",
      "264/264 [==============================] - 2s 7ms/step - loss: 0.6569 - accuracy: 0.4811 - val_loss: 0.6326 - val_accuracy: 0.6061\n",
      "Epoch 30/100\n",
      "264/264 [==============================] - 2s 7ms/step - loss: 0.6587 - accuracy: 0.5795 - val_loss: 0.5430 - val_accuracy: 0.9432\n",
      "Epoch 31/100\n",
      "264/264 [==============================] - 2s 7ms/step - loss: 0.6102 - accuracy: 0.5947 - val_loss: 0.5241 - val_accuracy: 0.8864\n",
      "Epoch 32/100\n",
      "264/264 [==============================] - 2s 7ms/step - loss: 0.5901 - accuracy: 0.6515 - val_loss: 0.5812 - val_accuracy: 0.6136\n",
      "Epoch 33/100\n",
      "264/264 [==============================] - 2s 7ms/step - loss: 0.5725 - accuracy: 0.6136 - val_loss: 0.4492 - val_accuracy: 0.9659\n",
      "Epoch 34/100\n",
      "264/264 [==============================] - 2s 7ms/step - loss: 0.5150 - accuracy: 0.7235 - val_loss: 0.3471 - val_accuracy: 0.9735\n",
      "Epoch 35/100\n",
      "264/264 [==============================] - 2s 7ms/step - loss: 0.4990 - accuracy: 0.7083 - val_loss: 0.3155 - val_accuracy: 0.9773\n",
      "Epoch 36/100\n",
      "264/264 [==============================] - 2s 7ms/step - loss: 0.5268 - accuracy: 0.6742 - val_loss: 0.2893 - val_accuracy: 0.9773\n",
      "Epoch 37/100\n",
      "264/264 [==============================] - 2s 7ms/step - loss: 0.5207 - accuracy: 0.6894 - val_loss: 0.2574 - val_accuracy: 0.9773\n",
      "Epoch 38/100\n",
      "264/264 [==============================] - 2s 7ms/step - loss: 0.4801 - accuracy: 0.7576 - val_loss: 0.2365 - val_accuracy: 0.9811\n",
      "Epoch 39/100\n",
      "264/264 [==============================] - 2s 7ms/step - loss: 0.4371 - accuracy: 0.8030 - val_loss: 0.2161 - val_accuracy: 0.9848\n",
      "Epoch 40/100\n",
      "264/264 [==============================] - 2s 7ms/step - loss: 0.3732 - accuracy: 0.8447 - val_loss: 0.1971 - val_accuracy: 0.9886\n",
      "Epoch 41/100\n",
      "264/264 [==============================] - 2s 7ms/step - loss: 0.3398 - accuracy: 0.8902 - val_loss: 0.1843 - val_accuracy: 0.9886\n",
      "Epoch 42/100\n",
      "264/264 [==============================] - 2s 7ms/step - loss: 0.3841 - accuracy: 0.8674 - val_loss: 0.1756 - val_accuracy: 0.9886\n",
      "Epoch 43/100\n",
      "264/264 [==============================] - 2s 7ms/step - loss: 0.3563 - accuracy: 0.8826 - val_loss: 0.1684 - val_accuracy: 0.9886\n",
      "Epoch 44/100\n",
      "264/264 [==============================] - 2s 7ms/step - loss: 0.3534 - accuracy: 0.8977 - val_loss: 0.1640 - val_accuracy: 0.9886\n",
      "Epoch 45/100\n",
      "264/264 [==============================] - 2s 7ms/step - loss: 0.3497 - accuracy: 0.8902 - val_loss: 0.1571 - val_accuracy: 0.9886\n",
      "Epoch 46/100\n",
      "264/264 [==============================] - 2s 7ms/step - loss: 0.2976 - accuracy: 0.9129 - val_loss: 0.1528 - val_accuracy: 0.9886\n",
      "Epoch 47/100\n",
      "264/264 [==============================] - 2s 7ms/step - loss: 0.2917 - accuracy: 0.9356 - val_loss: 0.1448 - val_accuracy: 0.9886\n",
      "Epoch 48/100\n",
      "264/264 [==============================] - 2s 7ms/step - loss: 0.2695 - accuracy: 0.9205 - val_loss: 0.1388 - val_accuracy: 0.9886\n",
      "Epoch 49/100\n",
      "264/264 [==============================] - 2s 7ms/step - loss: 0.2744 - accuracy: 0.9545 - val_loss: 0.1353 - val_accuracy: 0.9886\n",
      "Epoch 50/100\n",
      "264/264 [==============================] - 2s 7ms/step - loss: 0.2754 - accuracy: 0.9470 - val_loss: 0.1312 - val_accuracy: 0.9886\n",
      "Epoch 51/100\n",
      "264/264 [==============================] - 2s 7ms/step - loss: 0.2662 - accuracy: 0.9508 - val_loss: 0.1231 - val_accuracy: 0.9886\n",
      "Epoch 52/100\n",
      "264/264 [==============================] - 2s 7ms/step - loss: 0.2485 - accuracy: 0.9583 - val_loss: 0.1147 - val_accuracy: 0.9886\n",
      "Epoch 53/100\n",
      "264/264 [==============================] - 2s 7ms/step - loss: 0.2379 - accuracy: 0.9659 - val_loss: 0.1082 - val_accuracy: 0.9886\n",
      "Epoch 54/100\n",
      "264/264 [==============================] - 2s 7ms/step - loss: 0.2236 - accuracy: 0.9545 - val_loss: 0.1009 - val_accuracy: 0.9886\n",
      "Epoch 55/100\n",
      "264/264 [==============================] - 2s 7ms/step - loss: 0.2339 - accuracy: 0.9621 - val_loss: 0.0991 - val_accuracy: 0.9886\n",
      "Epoch 56/100\n",
      "264/264 [==============================] - 2s 7ms/step - loss: 0.2142 - accuracy: 0.9848 - val_loss: 0.1000 - val_accuracy: 0.9886\n",
      "Epoch 57/100\n",
      "264/264 [==============================] - 2s 7ms/step - loss: 0.2238 - accuracy: 0.9583 - val_loss: 0.0951 - val_accuracy: 0.9886\n",
      "Epoch 58/100\n",
      "264/264 [==============================] - 2s 7ms/step - loss: 0.2008 - accuracy: 0.9621 - val_loss: 0.0888 - val_accuracy: 0.9886\n",
      "Epoch 59/100\n",
      "264/264 [==============================] - 2s 7ms/step - loss: 0.1920 - accuracy: 0.9735 - val_loss: 0.0838 - val_accuracy: 0.9886\n",
      "Epoch 60/100\n",
      "264/264 [==============================] - 2s 7ms/step - loss: 0.1938 - accuracy: 0.9735 - val_loss: 0.0800 - val_accuracy: 0.9886\n",
      "Epoch 61/100\n",
      "264/264 [==============================] - 2s 7ms/step - loss: 0.2104 - accuracy: 0.9621 - val_loss: 0.0766 - val_accuracy: 0.9886\n",
      "Epoch 62/100\n",
      "264/264 [==============================] - 2s 7ms/step - loss: 0.1983 - accuracy: 0.9773 - val_loss: 0.0758 - val_accuracy: 0.9886\n",
      "Epoch 63/100\n",
      "264/264 [==============================] - 2s 7ms/step - loss: 0.1808 - accuracy: 0.9735 - val_loss: 0.0706 - val_accuracy: 0.9886\n",
      "Epoch 64/100\n",
      "264/264 [==============================] - 2s 7ms/step - loss: 0.1666 - accuracy: 0.9773 - val_loss: 0.0606 - val_accuracy: 0.9886\n",
      "Epoch 65/100\n",
      "264/264 [==============================] - 2s 7ms/step - loss: 0.1812 - accuracy: 0.9773 - val_loss: 0.0545 - val_accuracy: 0.9886\n",
      "Epoch 66/100\n",
      "264/264 [==============================] - 2s 7ms/step - loss: 0.1518 - accuracy: 0.9735 - val_loss: 0.0503 - val_accuracy: 0.9924\n",
      "Epoch 67/100\n",
      "264/264 [==============================] - 2s 7ms/step - loss: 0.1547 - accuracy: 0.9773 - val_loss: 0.0469 - val_accuracy: 0.9924\n",
      "Epoch 68/100\n",
      "264/264 [==============================] - 2s 7ms/step - loss: 0.1498 - accuracy: 0.9773 - val_loss: 0.0439 - val_accuracy: 0.9924\n",
      "Epoch 69/100\n",
      "264/264 [==============================] - 2s 7ms/step - loss: 0.1531 - accuracy: 0.9886 - val_loss: 0.0414 - val_accuracy: 0.9924\n",
      "Epoch 70/100\n",
      "264/264 [==============================] - 2s 7ms/step - loss: 0.1380 - accuracy: 0.9735 - val_loss: 0.0408 - val_accuracy: 0.9924\n",
      "Epoch 71/100\n",
      "264/264 [==============================] - 2s 7ms/step - loss: 0.1556 - accuracy: 0.9924 - val_loss: 0.0398 - val_accuracy: 0.9924\n",
      "Epoch 72/100\n",
      "264/264 [==============================] - 2s 7ms/step - loss: 0.1356 - accuracy: 0.9886 - val_loss: 0.0372 - val_accuracy: 0.9924\n",
      "Epoch 73/100\n",
      "264/264 [==============================] - 2s 7ms/step - loss: 0.1320 - accuracy: 0.9962 - val_loss: 0.0355 - val_accuracy: 0.9924\n",
      "Epoch 74/100\n",
      "264/264 [==============================] - 2s 7ms/step - loss: 0.1361 - accuracy: 0.9848 - val_loss: 0.0340 - val_accuracy: 0.9924\n",
      "Epoch 75/100\n",
      "264/264 [==============================] - 2s 7ms/step - loss: 0.1411 - accuracy: 0.9811 - val_loss: 0.0330 - val_accuracy: 0.9924\n",
      "Epoch 76/100\n",
      "264/264 [==============================] - 2s 7ms/step - loss: 0.1259 - accuracy: 0.9924 - val_loss: 0.0312 - val_accuracy: 0.9962\n",
      "Epoch 77/100\n",
      "264/264 [==============================] - 2s 7ms/step - loss: 0.1277 - accuracy: 0.9848 - val_loss: 0.0297 - val_accuracy: 0.9962\n",
      "Epoch 78/100\n",
      "264/264 [==============================] - 2s 7ms/step - loss: 0.1088 - accuracy: 0.9924 - val_loss: 0.0289 - val_accuracy: 0.9962\n",
      "Epoch 79/100\n",
      "264/264 [==============================] - 2s 7ms/step - loss: 0.1010 - accuracy: 0.9962 - val_loss: 0.0282 - val_accuracy: 0.9962\n",
      "Epoch 80/100\n",
      "264/264 [==============================] - 2s 7ms/step - loss: 0.1178 - accuracy: 0.9924 - val_loss: 0.0273 - val_accuracy: 0.9962\n",
      "Epoch 81/100\n",
      "264/264 [==============================] - 2s 7ms/step - loss: 0.1109 - accuracy: 0.9924 - val_loss: 0.0262 - val_accuracy: 0.9962\n",
      "Epoch 82/100\n",
      "264/264 [==============================] - 2s 7ms/step - loss: 0.1056 - accuracy: 0.9924 - val_loss: 0.0252 - val_accuracy: 0.9962\n",
      "Epoch 83/100\n",
      "264/264 [==============================] - 2s 7ms/step - loss: 0.1056 - accuracy: 0.9924 - val_loss: 0.0240 - val_accuracy: 0.9962\n",
      "Epoch 84/100\n",
      "264/264 [==============================] - 2s 7ms/step - loss: 0.1112 - accuracy: 0.9848 - val_loss: 0.0230 - val_accuracy: 0.9962\n",
      "Epoch 85/100\n",
      "264/264 [==============================] - 2s 7ms/step - loss: 0.0979 - accuracy: 0.9886 - val_loss: 0.0221 - val_accuracy: 0.9962\n",
      "Epoch 86/100\n",
      "264/264 [==============================] - 2s 7ms/step - loss: 0.1013 - accuracy: 0.9886 - val_loss: 0.0215 - val_accuracy: 0.9962\n",
      "Epoch 87/100\n",
      "264/264 [==============================] - 2s 7ms/step - loss: 0.1026 - accuracy: 0.9848 - val_loss: 0.0210 - val_accuracy: 0.9962\n",
      "Epoch 88/100\n",
      "264/264 [==============================] - 2s 7ms/step - loss: 0.1052 - accuracy: 0.9886 - val_loss: 0.0207 - val_accuracy: 0.9962\n",
      "Epoch 89/100\n",
      "264/264 [==============================] - 2s 7ms/step - loss: 0.0983 - accuracy: 0.9962 - val_loss: 0.0212 - val_accuracy: 0.9962\n",
      "Epoch 90/100\n",
      "264/264 [==============================] - 2s 7ms/step - loss: 0.0859 - accuracy: 0.9962 - val_loss: 0.0226 - val_accuracy: 0.9924\n",
      "Epoch 91/100\n",
      "264/264 [==============================] - 2s 7ms/step - loss: 0.0904 - accuracy: 0.9962 - val_loss: 0.0243 - val_accuracy: 0.9924\n",
      "Epoch 92/100\n",
      "264/264 [==============================] - 2s 7ms/step - loss: 0.0956 - accuracy: 0.9924 - val_loss: 0.0244 - val_accuracy: 0.9924\n",
      "Epoch 93/100\n",
      "264/264 [==============================] - 2s 7ms/step - loss: 0.0887 - accuracy: 0.9924 - val_loss: 0.0206 - val_accuracy: 0.9924\n",
      "Epoch 94/100\n"
     ]
    }
   ],
   "source": [
    "history = sr_ctc.m.fit([X_Train, \n",
    "                            labels, \n",
    "                            input_length, \n",
    "                            label_length], \n",
    "                       np.zeros([len(labels)]), \n",
    "                       batch_size = 128, \n",
    "                       epochs = 100, \n",
    "                       validation_data = ([X_Train, \n",
    "                                           labels_val, \n",
    "                                           input_length_val, \n",
    "                                           label_length_val],\n",
    "                                          np.zeros([len(labels_val)])), \n",
    "                      #  callbacks = [checkpointer], \n",
    "                       verbose = 1\n",
    "                      #  , shuffle = True\n",
    "                       )"
   ]
  },
  {
   "cell_type": "code",
   "execution_count": 0,
   "metadata": {
    "colab": {},
    "colab_type": "code",
    "id": "GIexq6B5rbxv"
   },
   "outputs": [],
   "source": []
  },
  {
   "cell_type": "code",
   "execution_count": 0,
   "metadata": {
    "colab": {},
    "colab_type": "code",
    "id": "e81SBJ4erb8P"
   },
   "outputs": [],
   "source": []
  },
  {
   "cell_type": "code",
   "execution_count": 0,
   "metadata": {
    "colab": {},
    "colab_type": "code",
    "id": "1wcu2qT0rb-e"
   },
   "outputs": [],
   "source": []
  },
  {
   "cell_type": "code",
   "execution_count": 0,
   "metadata": {
    "colab": {},
    "colab_type": "code",
    "id": "C7yt4U2jrcA_"
   },
   "outputs": [],
   "source": []
  },
  {
   "cell_type": "code",
   "execution_count": 0,
   "metadata": {
    "colab": {},
    "colab_type": "code",
    "id": "9i7flnQ6rcLZ"
   },
   "outputs": [],
   "source": []
  },
  {
   "cell_type": "code",
   "execution_count": 0,
   "metadata": {
    "colab": {},
    "colab_type": "code",
    "id": "eTVnqKNLrcRV"
   },
   "outputs": [],
   "source": []
  },
  {
   "cell_type": "code",
   "execution_count": 0,
   "metadata": {
    "colab": {},
    "colab_type": "code",
    "id": "obILUw7kiB1W"
   },
   "outputs": [],
   "source": [
    "import os\n",
    "import itertools\n",
    "import codecs\n",
    "import re\n",
    "import datetime\n",
    "import cairocffi as cairo\n",
    "import editdistance\n",
    "import numpy as np\n",
    "from scipy import ndimage\n",
    "import pylab\n",
    "from keras import backend as K\n",
    "from keras.layers.convolutional import Conv2D, MaxPooling2D\n",
    "from keras.layers import Input, Dense, Activation\n",
    "from keras.layers import Reshape, Lambda\n",
    "from keras.layers.merge import add, concatenate\n",
    "from keras.models import Model\n",
    "from keras.layers.recurrent import GRU\n",
    "from keras.optimizers import SGD\n",
    "from keras.utils.data_utils import get_file\n",
    "from keras.preprocessing import image\n",
    "import keras.callbacks"
   ]
  },
  {
   "cell_type": "code",
   "execution_count": 0,
   "metadata": {
    "colab": {},
    "colab_type": "code",
    "id": "gzFbzPujrJW_"
   },
   "outputs": [],
   "source": []
  },
  {
   "cell_type": "code",
   "execution_count": 0,
   "metadata": {
    "colab": {},
    "colab_type": "code",
    "id": "apFRdvdmhtE9"
   },
   "outputs": [],
   "source": [
    "import tensorflow as tf\n",
    "from tensorflow.python.keras.models import Sequential, Model\n",
    "from tensorflow.python.keras.callbacks import Callback\n",
    "from tensorflow.python.keras.layers import *\n",
    "from tensorflow.python.keras.optimizers import Adam, SGD\n",
    "from tensorflow.python.keras.activations import relu\n",
    "from tensorflow.python.keras.metrics import categorical_accuracy, mean_squared_error\n",
    "from tensorflow.python.keras.callbacks import BaseLogger, ModelCheckpoint, EarlyStopping, TensorBoard, ReduceLROnPlateau\n",
    "from tensorflow.python.keras import backend as K\n",
    "from tensorflow.python.keras.initializers import Ones, Zeros, glorot_normal\n",
    "from tensorflow.python.framework import tensor_shape\n",
    "# from data_genration import DataGenerator\n",
    "\n",
    "import numpy as np\n"
   ]
  },
  {
   "cell_type": "code",
   "execution_count": 0,
   "metadata": {
    "colab": {},
    "colab_type": "code",
    "id": "G8UsfUNgR7nk"
   },
   "outputs": [],
   "source": [
    " def clipped_relu(x):\n",
    "     return relu(x, max_value=20)\n",
    "\n",
    "def ctc_lambda_func(args):\n",
    "    labels, y_pred, input_length, label_length = args\n",
    "    return K.ctc_batch_cost(labels, y_pred, input_length, label_length)\n",
    "\n",
    "def ctc(y_true, y_pred):\n",
    "    return y_pred\n",
    "\n",
    "\n",
    "\n",
    "def get_speech_model():\n",
    "    model = Sequential()\n",
    "    \n",
    "    # Batch normalize the input\n",
    "    model.add(BatchNormalization(axis=-1, input_shape=(None, 128), name='BN_1'))\n",
    "    \n",
    "    # 1D Convs\n",
    "    model.add(Conv1D(512, 5, strides=1, activation=clipped_relu, name='Conv1D_1'))\n",
    "    model.add(Conv1D(512, 5, strides=1, activation=clipped_relu, name='Conv1D_2'))\n",
    "    model.add(Conv1D(512, 5, strides=2, activation=clipped_relu, name='Conv1D_3'))\n",
    "    \n",
    "    # Batch Normalization\n",
    "    model.add(BatchNormalization(axis=-1, name='BN_2'))\n",
    "    \n",
    "    # BiRNNs\n",
    "    model.add(Bidirectional(SimpleRNN(1280, return_sequences=True, name='BiRNN_1'), merge_mode='sum'))\n",
    "    model.add(Bidirectional(SimpleRNN(1280, return_sequences=True, name='BiRNN_2'), merge_mode='sum'))\n",
    "    model.add(Bidirectional(SimpleRNN(1280, return_sequences=True, name='BiRNN_3'), merge_mode='sum'))\n",
    "    model.add(Bidirectional(SimpleRNN(1280, return_sequences=True, name='BiRNN_4'), merge_mode='sum'))\n",
    "    model.add(Bidirectional(SimpleRNN(1280, return_sequences=True, name='BiRNN_5'), merge_mode='sum'))\n",
    "    model.add(Bidirectional(SimpleRNN(1280, return_sequences=True, name='BiRNN_6'), merge_mode='sum'))\n",
    "    model.add(Bidirectional(SimpleRNN(1280, return_sequences=True, name='BiRNN_7'), merge_mode='sum'))\n",
    "    \n",
    "    # Batch Normalization\n",
    "    model.add(BatchNormalization(axis=-1, name='BN_3'))\n",
    "    \n",
    "    # FC\n",
    "    model.add(TimeDistributed(Dense(1024, activation=clipped_relu, name='FC1')))\n",
    "    model.add(TimeDistributed(Dense(29, activation='softmax', name='y_pred')))\n",
    "    return model\n",
    "\n",
    "def get_trainable_speech_model():\n",
    "    model = get_speech_model()\n",
    "    y_pred = model.outputs[0]\n",
    "    model_input = model.inputs[0]\n",
    "    \n",
    "    model.summary()\n",
    "    \n",
    "    labels = Input(name='the_labels', shape=[None,], dtype='int32')\n",
    "    input_length = Input(name='input_length', shape=[1], dtype='int32')\n",
    "    label_length = Input(name='label_length', shape=[1], dtype='int32')\n",
    "\n",
    "    loss_out = Lambda(ctc_lambda_func, name='ctc')([labels, y_pred, input_length, label_length])\n",
    "    trainable_model = Model(inputs=[model_input, labels, input_length, label_length], outputs=loss_out)\n",
    "    return trainable_model"
   ]
  },
  {
   "cell_type": "code",
   "execution_count": 0,
   "metadata": {
    "colab": {},
    "colab_type": "code",
    "id": "VuLSLJIPXUP5"
   },
   "outputs": [],
   "source": []
  },
  {
   "cell_type": "code",
   "execution_count": 0,
   "metadata": {
    "colab": {
     "base_uri": "https://localhost:8080/",
     "height": 1000
    },
    "colab_type": "code",
    "executionInfo": {
     "elapsed": 6581,
     "status": "ok",
     "timestamp": 1590874816079,
     "user": {
      "displayName": "Varun Khatri",
      "photoUrl": "https://lh3.googleusercontent.com/a-/AOh14GgNZKs5H2GANAWMcLPo9gyOyudU3gTuCoTvaoHx5g=s64",
      "userId": "04333460920277324581"
     },
     "user_tz": -330
    },
    "id": "Vag3mM0Wg5tP",
    "outputId": "f2d5ed74-e467-4850-87cb-89d79f1e576b"
   },
   "outputs": [
    {
     "name": "stdout",
     "output_type": "stream",
     "text": [
      "Model: \"sequential\"\n",
      "_________________________________________________________________\n",
      "Layer (type)                 Output Shape              Param #   \n",
      "=================================================================\n",
      "BN_1 (BatchNormalization)    (None, None, 128)         512       \n",
      "_________________________________________________________________\n",
      "Conv1D_1 (Conv1D)            (None, None, 512)         328192    \n",
      "_________________________________________________________________\n",
      "Conv1D_2 (Conv1D)            (None, None, 512)         1311232   \n",
      "_________________________________________________________________\n",
      "Conv1D_3 (Conv1D)            (None, None, 512)         1311232   \n",
      "_________________________________________________________________\n",
      "BN_2 (BatchNormalization)    (None, None, 512)         2048      \n",
      "_________________________________________________________________\n",
      "bidirectional (Bidirectional (None, None, 1280)        4590080   \n",
      "_________________________________________________________________\n",
      "bidirectional_1 (Bidirection (None, None, 1280)        6556160   \n",
      "_________________________________________________________________\n",
      "bidirectional_2 (Bidirection (None, None, 1280)        6556160   \n",
      "_________________________________________________________________\n",
      "bidirectional_3 (Bidirection (None, None, 1280)        6556160   \n",
      "_________________________________________________________________\n",
      "bidirectional_4 (Bidirection (None, None, 1280)        6556160   \n",
      "_________________________________________________________________\n",
      "bidirectional_5 (Bidirection (None, None, 1280)        6556160   \n",
      "_________________________________________________________________\n",
      "bidirectional_6 (Bidirection (None, None, 1280)        6556160   \n",
      "_________________________________________________________________\n",
      "BN_3 (BatchNormalization)    (None, None, 1280)        5120      \n",
      "_________________________________________________________________\n",
      "time_distributed (TimeDistri (None, None, 1024)        1311744   \n",
      "_________________________________________________________________\n",
      "time_distributed_1 (TimeDist (None, None, 29)          29725     \n",
      "=================================================================\n",
      "Total params: 48,226,845\n",
      "Trainable params: 48,223,005\n",
      "Non-trainable params: 3,840\n",
      "_________________________________________________________________\n",
      "Model: \"model\"\n",
      "__________________________________________________________________________________________________\n",
      "Layer (type)                    Output Shape         Param #     Connected to                     \n",
      "==================================================================================================\n",
      "BN_1_input (InputLayer)         [(None, None, 128)]  0                                            \n",
      "__________________________________________________________________________________________________\n",
      "BN_1 (BatchNormalization)       (None, None, 128)    512         BN_1_input[0][0]                 \n",
      "__________________________________________________________________________________________________\n",
      "Conv1D_1 (Conv1D)               (None, None, 512)    328192      BN_1[0][0]                       \n",
      "__________________________________________________________________________________________________\n",
      "Conv1D_2 (Conv1D)               (None, None, 512)    1311232     Conv1D_1[0][0]                   \n",
      "__________________________________________________________________________________________________\n",
      "Conv1D_3 (Conv1D)               (None, None, 512)    1311232     Conv1D_2[0][0]                   \n",
      "__________________________________________________________________________________________________\n",
      "BN_2 (BatchNormalization)       (None, None, 512)    2048        Conv1D_3[0][0]                   \n",
      "__________________________________________________________________________________________________\n",
      "bidirectional (Bidirectional)   (None, None, 1280)   4590080     BN_2[0][0]                       \n",
      "__________________________________________________________________________________________________\n",
      "bidirectional_1 (Bidirectional) (None, None, 1280)   6556160     bidirectional[0][0]              \n",
      "__________________________________________________________________________________________________\n",
      "bidirectional_2 (Bidirectional) (None, None, 1280)   6556160     bidirectional_1[0][0]            \n",
      "__________________________________________________________________________________________________\n",
      "bidirectional_3 (Bidirectional) (None, None, 1280)   6556160     bidirectional_2[0][0]            \n",
      "__________________________________________________________________________________________________\n",
      "bidirectional_4 (Bidirectional) (None, None, 1280)   6556160     bidirectional_3[0][0]            \n",
      "__________________________________________________________________________________________________\n",
      "bidirectional_5 (Bidirectional) (None, None, 1280)   6556160     bidirectional_4[0][0]            \n",
      "__________________________________________________________________________________________________\n",
      "bidirectional_6 (Bidirectional) (None, None, 1280)   6556160     bidirectional_5[0][0]            \n",
      "__________________________________________________________________________________________________\n",
      "BN_3 (BatchNormalization)       (None, None, 1280)   5120        bidirectional_6[0][0]            \n",
      "__________________________________________________________________________________________________\n",
      "time_distributed (TimeDistribut (None, None, 1024)   1311744     BN_3[0][0]                       \n",
      "__________________________________________________________________________________________________\n",
      "the_labels (InputLayer)         [(None, None)]       0                                            \n",
      "__________________________________________________________________________________________________\n",
      "time_distributed_1 (TimeDistrib (None, None, 29)     29725       time_distributed[0][0]           \n",
      "__________________________________________________________________________________________________\n",
      "input_length (InputLayer)       [(None, 1)]          0                                            \n",
      "__________________________________________________________________________________________________\n",
      "label_length (InputLayer)       [(None, 1)]          0                                            \n",
      "__________________________________________________________________________________________________\n",
      "ctc (Lambda)                    (None, 1)            0           the_labels[0][0]                 \n",
      "                                                                 time_distributed_1[0][0]         \n",
      "                                                                 input_length[0][0]               \n",
      "                                                                 label_length[0][0]               \n",
      "==================================================================================================\n",
      "Total params: 48,226,845\n",
      "Trainable params: 48,223,005\n",
      "Non-trainable params: 3,840\n",
      "__________________________________________________________________________________________________\n"
     ]
    }
   ],
   "source": [
    "model = get_trainable_speech_model()\n",
    "model.summary()"
   ]
  },
  {
   "cell_type": "code",
   "execution_count": 0,
   "metadata": {
    "colab": {},
    "colab_type": "code",
    "id": "hkSQXp1yg9MK"
   },
   "outputs": [],
   "source": [
    "OUTPUT_DIR = 'asr_model'\n",
    "\n",
    "class sequence_generator(keras.callbacks.Callback):\n",
    "  def __init__():\n",
    "    pass\n",
    "  def get_output_size(self):\n",
    "    pass\n",
    "  def get_batch(self, index , train):\n",
    "    inputs = {'the_input': X_data,\n",
    "                  'the_labels': labels,\n",
    "                  'input_length': input_length,\n",
    "                  'label_length': label_length,\n",
    "                  'source_str': source_str  # used for visualization only\n",
    "                  }\n",
    "    outputs = {'ctc': np.zeros([size])}  # dummy data for dummy loss function\n",
    "    return (inputs, outputs)\n",
    "\n",
    "  def next_train(self):\n",
    "    pass\n",
    "  \n",
    "  def next_val(self):\n",
    "    pass\n",
    "\n",
    "  def ctc_lambda_func(args):\n",
    "    y_pred, labels, input_length, label_length = args\n",
    "    # the 2 is critical here since the first couple outputs of the RNN\n",
    "    # tend to be garbage:\n",
    "    y_pred = y_pred[:, 2:, :]\n",
    "    return K.ctc_batch_cost(labels, y_pred, input_length, label_length)\n",
    "\n",
    "  def decode_batch(test_func, word_batch):\n",
    "      out = test_func([word_batch])[0]\n",
    "      ret = []\n",
    "      for j in range(out.shape[0]):\n",
    "          out_best = list(np.argmax(out[j, 2:], 1))\n",
    "          out_best = [k for k, g in itertools.groupby(out_best)]\n",
    "          outstr = labels_to_text(out_best)\n",
    "          ret.append(outstr)\n",
    "      return ret\n",
    "\n",
    "\n",
    "  \n",
    "  \n",
    "\n",
    "\n",
    "  \n",
    "\n"
   ]
  },
  {
   "cell_type": "code",
   "execution_count": 0,
   "metadata": {
    "colab": {
     "base_uri": "https://localhost:8080/",
     "height": 143
    },
    "colab_type": "code",
    "executionInfo": {
     "elapsed": 5830,
     "status": "ok",
     "timestamp": 1590879400616,
     "user": {
      "displayName": "Varun Khatri",
      "photoUrl": "https://lh3.googleusercontent.com/a-/AOh14GgNZKs5H2GANAWMcLPo9gyOyudU3gTuCoTvaoHx5g=s64",
      "userId": "04333460920277324581"
     },
     "user_tz": -330
    },
    "id": "FKfy4-2UmI8L",
    "outputId": "6b2c5ca1-17e0-449e-e898-ee7a4356ce32"
   },
   "outputs": [
    {
     "name": "stdout",
     "output_type": "stream",
     "text": [
      "Archive:  dev-clean.tar.gz\n",
      "  End-of-central-directory signature not found.  Either this file is not\n",
      "  a zipfile, or it constitutes one disk of a multi-part archive.  In the\n",
      "  latter case the central directory and zipfile comment will be found on\n",
      "  the last disk(s) of this archive.\n",
      "unzip:  cannot find zipfile directory in one of dev-clean.tar.gz or\n",
      "        dev-clean.tar.gz.zip, and cannot find dev-clean.tar.gz.ZIP, period.\n"
     ]
    }
   ],
   "source": [
    "os.chdir(\"/content/gdrive/My Drive\")\n",
    "!unzip dev-clean.tar.gz -d data/"
   ]
  },
  {
   "cell_type": "code",
   "execution_count": 0,
   "metadata": {
    "colab": {},
    "colab_type": "code",
    "id": "jYOzyqfQyQj7"
   },
   "outputs": [],
   "source": []
  },
  {
   "cell_type": "code",
   "execution_count": 0,
   "metadata": {
    "colab": {
     "base_uri": "https://localhost:8080/",
     "height": 1000
    },
    "colab_type": "code",
    "executionInfo": {
     "elapsed": 1005,
     "status": "ok",
     "timestamp": 1590879284830,
     "user": {
      "displayName": "Varun Khatri",
      "photoUrl": "https://lh3.googleusercontent.com/a-/AOh14GgNZKs5H2GANAWMcLPo9gyOyudU3gTuCoTvaoHx5g=s64",
      "userId": "04333460920277324581"
     },
     "user_tz": -330
    },
    "id": "7q330ucQysf3",
    "outputId": "9e45cf0c-c603-49d8-a169-7b51772da75a"
   },
   "outputs": [
    {
     "data": {
      "text/plain": [
       "['fingers.jpg',\n",
       " 'vk.jpg',\n",
       " '20140215_142633.jpg',\n",
       " 'IMG_20161111_184654.jpg',\n",
       " 'IMG_20161108_205430.jpg',\n",
       " 'IMG_20161029_164835.jpg',\n",
       " 'FB_IMG_14659731559508533.jpg',\n",
       " 'History.docx',\n",
       " 'https:  googlew.txt',\n",
       " 'Screenshot_2017-12-20-12-10-34-639_com.jio.join.png',\n",
       " 'FileHandler.pdf',\n",
       " '441441.pdf',\n",
       " 'IMG_20190822_141423.jpg',\n",
       " 'story (1).txt',\n",
       " 'eng112.pptm',\n",
       " 'eng112 (1).pptm',\n",
       " 'Friday, August 9, 2019(0)mth101a morning.gdoc',\n",
       " 'story.txt',\n",
       " 'Wednesday, September 4, 2019(MTH101A) moring.gdoc',\n",
       " 'IMG_20191102_134831_608.jpg',\n",
       " 'WhatsApp Image 2019-11-01 at 5.05.11 PM.jpeg',\n",
       " 'cv1190946.ipynb',\n",
       " 'Screenshot from 2019-12-15 08-49-44.png',\n",
       " 'husky_highlevel_controller.zip',\n",
       " 'husky_highlevel_controller - Varun Khatri.zip',\n",
       " 'talker.cpp',\n",
       " 'talker - Varun Khatri.cpp',\n",
       " 'Untitled Jam (3)',\n",
       " 'TA101A Course Material',\n",
       " 'web.cse.iitk.ac.in',\n",
       " 'AERIAL ROBOTICS PROJECT',\n",
       " 'AERIAL ROBOTICS ',\n",
       " 'Snapchat',\n",
       " 'ACA PROJECT',\n",
       " 'Untitled document (9).gdoc',\n",
       " 'ros files',\n",
       " 'iris_base.xacro',\n",
       " 'Untitled Jam (2)',\n",
       " 'Untitled Jam (1)',\n",
       " 'Untitled Jam',\n",
       " 'PHY 102',\n",
       " 'Lif101',\n",
       " 'offb_node.cpp',\n",
       " 'skin_detection.zip',\n",
       " 'skin_detection (1).zip',\n",
       " 'MINI_CAMP.gdoc',\n",
       " 'numpy_basic_2.py',\n",
       " 'Robo',\n",
       " 'Copy of Teacher Newsletter by Slidesgo.gslides',\n",
       " 'Copy of Use of Technology Thesis by Slidesgo .gslides',\n",
       " 'Copy of Economic Impact of Coronavirus by Slidesgo.gslides',\n",
       " 'Untitled document (8).gdoc',\n",
       " 'Untitled document (7).gdoc',\n",
       " 'Copy of Elegant Blue by Slidesgo.gslides',\n",
       " 'ROS PRESENTATATION.gslides',\n",
       " 'varun khatri.gdoc',\n",
       " 'Untitled document (6).gdoc',\n",
       " 'Untitled document (5).gdoc',\n",
       " 'Kholnaftvarun.mp4',\n",
       " 'Untitled document (4).gdoc',\n",
       " 'Untitled presentation.gslides',\n",
       " 'roboclub.png',\n",
       " 'robo1.jpg',\n",
       " 'robopng.png',\n",
       " 'matlab helpbook.gdoc',\n",
       " 'roboclubrecruitvarunk.gdoc',\n",
       " 'project.pdf',\n",
       " 'Untitled document (3).gdoc',\n",
       " 'Untitled document (2).gdoc',\n",
       " 'Colab Notebooks',\n",
       " 'wiki.png',\n",
       " 'Untitled document (1).gdoc',\n",
       " 'drone.gdoc',\n",
       " '5 Algorithm Analysis.gdoc',\n",
       " 'Untitled document.gdoc',\n",
       " 'data',\n",
       " 'blogs.zip',\n",
       " 'blog',\n",
       " 'cat',\n",
       " 'dev-clean.tar.gz']"
      ]
     },
     "execution_count": 131,
     "metadata": {
      "tags": []
     },
     "output_type": "execute_result"
    }
   ],
   "source": [
    "os.listdir()"
   ]
  },
  {
   "cell_type": "code",
   "execution_count": 0,
   "metadata": {
    "colab": {},
    "colab_type": "code",
    "id": "dgut841dyzDq"
   },
   "outputs": [],
   "source": []
  }
 ],
 "metadata": {
  "colab": {
   "authorship_tag": "ABX9TyMXOcuDelxX72BgzFdzX0SQ",
   "collapsed_sections": [],
   "name": "demo.ipynb",
   "provenance": []
  },
  "kernelspec": {
   "display_name": "Python 3",
   "language": "python",
   "name": "python3"
  },
  "language_info": {
   "codemirror_mode": {
    "name": "ipython",
    "version": 3
   },
   "file_extension": ".py",
   "mimetype": "text/x-python",
   "name": "python",
   "nbconvert_exporter": "python",
   "pygments_lexer": "ipython3",
   "version": "3.6.9"
  }
 },
 "nbformat": 4,
 "nbformat_minor": 1
}
