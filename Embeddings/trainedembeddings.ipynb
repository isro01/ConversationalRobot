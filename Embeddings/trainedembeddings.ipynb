{
  "nbformat": 4,
  "nbformat_minor": 0,
  "metadata": {
    "colab": {
      "name": "trainedembeddings.ipynb",
      "provenance": [],
      "collapsed_sections": []
    },
    "kernelspec": {
      "name": "python3",
      "display_name": "Python 3"
    }
  },
  "cells": [
    {
      "cell_type": "code",
      "metadata": {
        "id": "JH3Zw2uUV4Zz",
        "colab_type": "code",
        "colab": {
          "base_uri": "https://localhost:8080/",
          "height": 127
        },
        "outputId": "6ea1f221-97ec-41ca-f968-bc3afae52cec"
      },
      "source": [
        "from google.colab import drive\n",
        "drive.mount('/content/gdrive')"
      ],
      "execution_count": 2,
      "outputs": [
        {
          "output_type": "stream",
          "text": [
            "Go to this URL in a browser: https://accounts.google.com/o/oauth2/auth?client_id=947318989803-6bn6qk8qdgf4n4g3pfee6491hc0brc4i.apps.googleusercontent.com&redirect_uri=urn%3aietf%3awg%3aoauth%3a2.0%3aoob&response_type=code&scope=email%20https%3a%2f%2fwww.googleapis.com%2fauth%2fdocs.test%20https%3a%2f%2fwww.googleapis.com%2fauth%2fdrive%20https%3a%2f%2fwww.googleapis.com%2fauth%2fdrive.photos.readonly%20https%3a%2f%2fwww.googleapis.com%2fauth%2fpeopleapi.readonly\n",
            "\n",
            "Enter your authorization code:\n",
            "··········\n",
            "Mounted at /content/gdrive\n"
          ],
          "name": "stdout"
        }
      ]
    },
    {
      "cell_type": "code",
      "metadata": {
        "id": "vqzejocCX3AH",
        "colab_type": "code",
        "colab": {}
      },
      "source": [
        "import csv\n",
        "import io\n",
        "import pandas as pd\n",
        "import numpy as np\n",
        "import matplotlib.pyplot as plt\n",
        "import re\n",
        "import nltk\n",
        "import spacy\n",
        "from bs4 import BeautifulSoup\n",
        "import time"
      ],
      "execution_count": 0,
      "outputs": []
    },
    {
      "cell_type": "code",
      "metadata": {
        "id": "WqstjUZDYIOS",
        "colab_type": "code",
        "colab": {
          "base_uri": "https://localhost:8080/",
          "height": 71
        },
        "outputId": "1a7704ea-519c-43b3-f225-2cb5896b48c9"
      },
      "source": [
        "nltk.download('stopwords')"
      ],
      "execution_count": 44,
      "outputs": [
        {
          "output_type": "stream",
          "text": [
            "[nltk_data] Downloading package stopwords to /root/nltk_data...\n",
            "[nltk_data]   Package stopwords is already up-to-date!\n"
          ],
          "name": "stdout"
        },
        {
          "output_type": "execute_result",
          "data": {
            "text/plain": [
              "True"
            ]
          },
          "metadata": {
            "tags": []
          },
          "execution_count": 44
        }
      ]
    },
    {
      "cell_type": "code",
      "metadata": {
        "id": "O_GQo4jNf1dF",
        "colab_type": "code",
        "colab": {}
      },
      "source": [
        "file_1 = \"/content/gdrive/My Drive/data/data.csv\""
      ],
      "execution_count": 0,
      "outputs": []
    },
    {
      "cell_type": "code",
      "metadata": {
        "id": "PtvnPR1AgCl0",
        "colab_type": "code",
        "colab": {
          "base_uri": "https://localhost:8080/",
          "height": 55
        },
        "outputId": "b0340134-d8c5-4661-e9f4-12d89051ce57"
      },
      "source": [
        "from nltk.corpus import stopwords\n",
        "stopWords = set(stopwords.words('english'))\n",
        "print(stopWords)\n",
        "\n",
        "also_remove = ['  ' , '.' , '..' , '...' , '[' , ']', '}', '{', '(' , ')' ,',']"
      ],
      "execution_count": 46,
      "outputs": [
        {
          "output_type": "stream",
          "text": [
            "{'his', 'all', 'ourselves', 'wasn', 'or', 'with', 'as', 'i', 'to', 'yourselves', 'both', 'ma', 'shouldn', \"wouldn't\", \"should've\", 'from', 'yourself', 'why', 'other', 'these', 'd', 'they', \"won't\", \"hadn't\", 'then', 'not', 'been', 'themselves', 'of', 'be', 'has', 'most', 'during', 'you', 'your', 'her', 'more', 'he', 'does', 'wouldn', 'against', 'very', 'll', 'being', 'the', 'and', 'an', \"wasn't\", 'until', 'aren', 'didn', 'because', 'how', \"mustn't\", 'hadn', 'its', 'doesn', 'once', \"isn't\", 'was', 'when', 'hasn', 'so', 'who', 'this', 'will', 'nor', \"aren't\", 'over', 'here', 't', 'o', 'weren', 'theirs', 'while', 'do', 'those', \"hasn't\", 'again', 'mustn', 'couldn', \"you'd\", 'itself', 'too', 'me', 'our', \"haven't\", 've', \"didn't\", \"couldn't\", 'that', 'is', 'into', 'any', 'y', 'by', \"shouldn't\", 'some', \"you've\", 'on', 'off', 'him', 'have', 'having', 'for', 'at', 'hers', 'through', 'after', \"weren't\", 'it', 'what', 'had', 're', 'did', 'under', 'should', 'up', 'such', 'no', 'only', 'ours', 'in', 'own', 'can', 'ain', 'mightn', 'above', 'a', 'are', 'where', 'few', 'whom', 'them', 'm', 'than', 'we', 'each', 'herself', 'there', 'now', \"don't\", \"you'll\", 'below', 'doing', 'their', 'just', 'my', 'myself', \"that'll\", \"shan't\", 'yours', 'before', \"you're\", 'were', 's', 'out', 'down', \"she's\", \"needn't\", 'which', 'needn', 'won', 'same', 'haven', 'about', 'further', 'if', 'but', 'isn', \"it's\", 'am', \"mightn't\", 'shan', 'she', 'between', 'don', \"doesn't\", 'himself'}\n"
          ],
          "name": "stdout"
        }
      ]
    },
    {
      "cell_type": "code",
      "metadata": {
        "id": "AymMA6K5gGQm",
        "colab_type": "code",
        "colab": {
          "base_uri": "https://localhost:8080/",
          "height": 35
        },
        "outputId": "14779c6b-0e41-45ce-83c0-0f2929192cd8"
      },
      "source": [
        "reviews = []\n",
        "labels = []\n",
        "\n",
        "start_time = time.time()\n",
        "\n",
        "with open(file_1 , 'r') as csvfile:\n",
        "  reader = csv.reader(csvfile , delimiter = ',')\n",
        "  next(reader)\n",
        "  for row in reader:\n",
        "    if row[1] == \"positive\": labels.append(1)\n",
        "    if row[1] == \"negative\" : labels.append(0)\n",
        "    # labels.append(row[1])\n",
        "    review = row[0].lower()\n",
        "    BeautifulSoup(review, \"lxml\")                                               #remove html tags\n",
        "    review = review.replace('[^\\w\\s]','')                                       #remove puntuations\n",
        "    review = review.replace(\"<br /><br />\",\" \")                                 #remove particular tags\n",
        "    review = \"\".join([i for i in review if not i.isdigit()])                    #remove_digits\n",
        "    for word in stopWords:                                                      #remove stopwords\n",
        "      stopword = \" \" + word + \" \"\n",
        "      review = review.replace(stopword , \" \")\n",
        "    for i in also_remove:\n",
        "      review = review.replace(i,\"\")\n",
        "    reviews.append(review)\n",
        "\n",
        "print(f'Time taken : {(time.time() - start_time) / 60:.2f} mins')"
      ],
      "execution_count": 47,
      "outputs": [
        {
          "output_type": "stream",
          "text": [
            "Time taken : 0.73 mins\n"
          ],
          "name": "stdout"
        }
      ]
    },
    {
      "cell_type": "code",
      "metadata": {
        "id": "uYOOE2kthAZJ",
        "colab_type": "code",
        "colab": {
          "base_uri": "https://localhost:8080/",
          "height": 55
        },
        "outputId": "417058c2-23f7-4614-c600-4d88c3d2deca"
      },
      "source": [
        "print(\"review : \",reviews[0])"
      ],
      "execution_count": 48,
      "outputs": [
        {
          "output_type": "stream",
          "text": [
            "review :  one reviewers mentioned watchingoz episode hooked right exactly happened me first thing struck oz brutality unflinching scenes violence set right word go trust me show faint hearted timid show pulls punches regards drugs sex violence hardcore classic use word called oz nickname given oswald maximum security state penitentary focuses mainly emerald city experimental section prison cells glass fronts face inwards privacy high agenda em city home manyaryans muslims gangstas latinos christians italians irish moreso scuffles death stares dodgy dealings shady agreements never far away would say main appeal show due fact goes shows dare forget pretty pictures painted mainstream audiences forget charm forget romanceoz mess around first episode ever saw struck nasty surreal say ready it watched more developed taste oz got accustomed high levels graphic violence violence injustice crooked guards who'll sold nickel inmates who'll kill order get away it well mannered middle class inmates turned prison bitches due lack street skills prison experience watching oz may become comfortable uncomfortable viewingthats get touch darker side\n"
          ],
          "name": "stdout"
        }
      ]
    },
    {
      "cell_type": "code",
      "metadata": {
        "id": "sn-pH5D8hpxA",
        "colab_type": "code",
        "colab": {}
      },
      "source": [
        "#  stemming and lemmatization\n",
        "\n",
        "# from nltk.corpus import wordnet\n",
        "# from nltk.stem import WordNetLemmatizer\n",
        "\n",
        "# nltk.download('wordnet')\n",
        "# nltk.download('averaged_perceptron_tagger')\n",
        "\n",
        "# lemmatizer = WordNetLemmatizer()\n",
        "\n",
        "# wordnet_map = {\"N\":wordnet.NOUN, \"V\":wordnet.VERB, \"J\":wordnet.ADJ, \"R\":wordnet.ADV} # Pos tag, used Noun, Verb, Adjective and Adverb\n",
        "\n",
        "# for review in reviews:\n",
        "#   pos_tagged_text = nltk.pos_tag(review.split())\n",
        "#   review = \" \".join([lemmatizer.lemmatize(word, wordnet_map.get(pos[0], wordnet.NOUN)) for word, pos in pos_tagged_text])"
      ],
      "execution_count": 0,
      "outputs": []
    },
    {
      "cell_type": "code",
      "metadata": {
        "id": "E_H4l_lzj1Mg",
        "colab_type": "code",
        "colab": {
          "base_uri": "https://localhost:8080/",
          "height": 53
        },
        "outputId": "f23206d2-0fb6-4c77-ee20-607f272c1433"
      },
      "source": [
        "max_len = 0\n",
        "\n",
        "for review in reviews:\n",
        "  length = len(review)\n",
        "  if length>max_len : max_len = length\n",
        "\n",
        "print(\"max_len :\",max_len)\n",
        "print(\"total reviews: \", len(reviews))"
      ],
      "execution_count": 50,
      "outputs": [
        {
          "output_type": "stream",
          "text": [
            "max_len : 9452\n",
            "total reviews:  50000\n"
          ],
          "name": "stdout"
        }
      ]
    },
    {
      "cell_type": "code",
      "metadata": {
        "id": "q0toEpj3l5Kv",
        "colab_type": "code",
        "colab": {}
      },
      "source": [
        "from keras.preprocessing.text import Tokenizer\n",
        "from tensorflow.keras.preprocessing.sequence import pad_sequences\n",
        "oov_tok = \"<OOV>\"\n",
        "vocab_size = 10000\n",
        "max_len = 200\n",
        "\n",
        "tokenizer = Tokenizer(num_words = vocab_size, oov_token=oov_tok)\n",
        "tokenizer.fit_on_texts(reviews[:3000])\n",
        "word_index = tokenizer.word_index\n",
        "sequences = tokenizer.texts_to_sequences(reviews[:3000])\n",
        "padded = pad_sequences(sequences,maxlen=200, truncating=\"post\")"
      ],
      "execution_count": 0,
      "outputs": []
    },
    {
      "cell_type": "code",
      "metadata": {
        "id": "sbREDwtU_Fqq",
        "colab_type": "code",
        "colab": {
          "base_uri": "https://localhost:8080/",
          "height": 287
        },
        "outputId": "c36398a7-8001-4e44-a055-256c15bd4e2d"
      },
      "source": [
        "padded = padded[:3000]\n",
        "print(padded[0])\n",
        "            "
      ],
      "execution_count": 52,
      "outputs": [
        {
          "output_type": "stream",
          "text": [
            "[   0    0    0    0    0    0    0    0    0    0    0    0    0    0\n",
            "    0    0    0    0    0    0    0    0    0    0    0    0    0    0\n",
            "    0    0    0    0    0    0    4 1900  790    1  337 2529  109  534\n",
            "  659  141   19   66 2530 2094 7608    1   53  428  188  109  418   54\n",
            " 1901  141   47 6739 1740    1   47 2531 5072 3889 1043  297  428 3143\n",
            "  273  244  418  330 2094    1  240 8799 3450 3290 1254    1 2324 1131\n",
            "    1  446 4708 3890 1064 4374 2994 6060  316    1    1  214 6061 7609\n",
            "  446  232    1 4375    1    1 6062 6063 2238    1    1  295 5536 6064\n",
            " 5537    1    1   38  138  147    9   50  193 1184   47  579   99  179\n",
            "  202 2413  669   85 1383 3891 2414  928  669 1468  669    1 1008   94\n",
            "   19  337   46  125 2530 1227 1780   50 1255    8  189  602 1185 1132\n",
            " 2094   89 6740  214 2325 1841  428  428 7610 6741 5073    1 2640    1\n",
            "    1    1  508  603   16  147    8   14 8800  562  558    1  638 1064\n",
            "    1  579  395  985 2027 1064  410   58 2094  101  368 2641 3643    1\n",
            "   16 1256 4709  483]\n"
          ],
          "name": "stdout"
        }
      ]
    },
    {
      "cell_type": "code",
      "metadata": {
        "id": "8gAAivrTocvd",
        "colab_type": "code",
        "colab": {}
      },
      "source": [
        "training_set = []\n",
        "\n",
        "for row in range(padded.shape[0]):\n",
        "  train = []\n",
        "  for col in range(padded.shape[1]):\n",
        "    train.append(padded[row][col])\n",
        "  training_set.append(train)"
      ],
      "execution_count": 0,
      "outputs": []
    },
    {
      "cell_type": "code",
      "metadata": {
        "id": "9jnJdxqX1_4N",
        "colab_type": "code",
        "colab": {
          "base_uri": "https://localhost:8080/",
          "height": 73
        },
        "outputId": "7bc1f2f0-8709-4183-fef4-ce025de1ab0a"
      },
      "source": [
        "padded_train = training_set[:2000]\n",
        "padded_test = training_set[2000:3000]\n",
        "print(type(training_set))\n",
        "print(training_set[0])"
      ],
      "execution_count": 54,
      "outputs": [
        {
          "output_type": "stream",
          "text": [
            "<class 'list'>\n",
            "[0, 0, 0, 0, 0, 0, 0, 0, 0, 0, 0, 0, 0, 0, 0, 0, 0, 0, 0, 0, 0, 0, 0, 0, 0, 0, 0, 0, 0, 0, 0, 0, 0, 0, 4, 1900, 790, 1, 337, 2529, 109, 534, 659, 141, 19, 66, 2530, 2094, 7608, 1, 53, 428, 188, 109, 418, 54, 1901, 141, 47, 6739, 1740, 1, 47, 2531, 5072, 3889, 1043, 297, 428, 3143, 273, 244, 418, 330, 2094, 1, 240, 8799, 3450, 3290, 1254, 1, 2324, 1131, 1, 446, 4708, 3890, 1064, 4374, 2994, 6060, 316, 1, 1, 214, 6061, 7609, 446, 232, 1, 4375, 1, 1, 6062, 6063, 2238, 1, 1, 295, 5536, 6064, 5537, 1, 1, 38, 138, 147, 9, 50, 193, 1184, 47, 579, 99, 179, 202, 2413, 669, 85, 1383, 3891, 2414, 928, 669, 1468, 669, 1, 1008, 94, 19, 337, 46, 125, 2530, 1227, 1780, 50, 1255, 8, 189, 602, 1185, 1132, 2094, 89, 6740, 214, 2325, 1841, 428, 428, 7610, 6741, 5073, 1, 2640, 1, 1, 1, 508, 603, 16, 147, 8, 14, 8800, 562, 558, 1, 638, 1064, 1, 579, 395, 985, 2027, 1064, 410, 58, 2094, 101, 368, 2641, 3643, 1, 16, 1256, 4709, 483]\n"
          ],
          "name": "stdout"
        }
      ]
    },
    {
      "cell_type": "code",
      "metadata": {
        "id": "w0nb-zfAs6DO",
        "colab_type": "code",
        "colab": {}
      },
      "source": [
        "#CBOW_MODEL\n",
        "context_word = []\n",
        "target_word = []\n",
        "\n",
        "\n",
        "\n",
        "window_size = 2\n",
        "\n",
        "for sentence in padded_train:\n",
        "  for i,word in enumerate(sentence):\n",
        "    \n",
        "\n",
        "    if i- window_size >= 0 and i+ window_size < len(sentence):\n",
        "      # w = np.zeros((vocab_size+1,1))\n",
        "      # w[word] = 1\n",
        "      target_word.append(word)\n",
        "      context = []\n",
        "\n",
        "      for j in range(i-window_size ,i+window_size +1):\n",
        "        if j!= i: \n",
        "          # w = np.zeros((vocab_size+1,1))\n",
        "          # w[sentence[j]] = 1\n",
        "          context.append(sentence[j])\n",
        "\n",
        "      context_word.append(context)\n",
        "\n",
        "    "
      ],
      "execution_count": 0,
      "outputs": []
    },
    {
      "cell_type": "code",
      "metadata": {
        "id": "_nyn2oChGhW7",
        "colab_type": "code",
        "colab": {}
      },
      "source": [
        "test_context_word = []\n",
        "test_target_word = []\n",
        "\n",
        "window_size = 2\n",
        "\n",
        "for sentence in padded_test:\n",
        "  for i,word in enumerate(sentence):\n",
        "    # w = np.zeros((vocab_size+1,1))\n",
        "    # w[word] = 1\n",
        "    test_target_word.append(word)\n",
        "    test_context = []\n",
        "\n",
        "    if i- window_size >= 0 and i+ window_size < len(sentence):\n",
        "\n",
        "      for j in range(i-window_size ,i+window_size +1):\n",
        "        if j!= i: \n",
        "\n",
        "          # w = np.zeros((vocab_size+1,1))\n",
        "          # w[sentence[j]] = 1\n",
        "          test_context.append(sentence[j])\n",
        "\n",
        "      test_context_word.append(context)"
      ],
      "execution_count": 0,
      "outputs": []
    },
    {
      "cell_type": "code",
      "metadata": {
        "id": "ZRhR_Id2J8ip",
        "colab_type": "code",
        "colab": {
          "base_uri": "https://localhost:8080/",
          "height": 35
        },
        "outputId": "0631248d-ffeb-4059-ab24-d450f3786e46"
      },
      "source": [
        "len(test_context_word)"
      ],
      "execution_count": 67,
      "outputs": [
        {
          "output_type": "execute_result",
          "data": {
            "text/plain": [
              "196000"
            ]
          },
          "metadata": {
            "tags": []
          },
          "execution_count": 67
        }
      ]
    },
    {
      "cell_type": "code",
      "metadata": {
        "id": "Ap_6ombATq7x",
        "colab_type": "code",
        "colab": {
          "base_uri": "https://localhost:8080/",
          "height": 35
        },
        "outputId": "ecc883a0-3815-40e3-c659-25e718205fe3"
      },
      "source": [
        "type(test_target_word[0])"
      ],
      "execution_count": 71,
      "outputs": [
        {
          "output_type": "execute_result",
          "data": {
            "text/plain": [
              "numpy.int32"
            ]
          },
          "metadata": {
            "tags": []
          },
          "execution_count": 71
        }
      ]
    },
    {
      "cell_type": "code",
      "metadata": {
        "id": "1O-YL_P3vSpm",
        "colab_type": "code",
        "colab": {
          "base_uri": "https://localhost:8080/",
          "height": 269
        },
        "outputId": "8dc3aec3-f57f-4e52-ca7d-7603007ddf9f"
      },
      "source": [
        "import tensorflow as tf\n",
        "from keras.models import Sequential\n",
        "from keras.layers import Embedding , Dense\n",
        "from keras.losses import SparseCategoricalCrossentropy\n",
        "embedding_dim = 32\n",
        "max_length = 4\n",
        "model = tf.keras.Sequential([\n",
        "         tf.keras.layers.Embedding(vocab_size, embedding_dim, input_length=max_length),\n",
        "         tf.keras.layers.Flatten(),     \n",
        "         tf.keras.layers.Dense(vocab_size, activation='softmax')\n",
        "         ])\n",
        "\n",
        "model.compile(loss=\"SparseCategoricalCrossentropy\",optimizer='adam',metrics=['accuracy'])\n",
        "model.summary()"
      ],
      "execution_count": 61,
      "outputs": [
        {
          "output_type": "stream",
          "text": [
            "Model: \"sequential_4\"\n",
            "_________________________________________________________________\n",
            "Layer (type)                 Output Shape              Param #   \n",
            "=================================================================\n",
            "embedding_4 (Embedding)      (None, 4, 32)             320000    \n",
            "_________________________________________________________________\n",
            "flatten_4 (Flatten)          (None, 128)               0         \n",
            "_________________________________________________________________\n",
            "dense_4 (Dense)              (None, 10000)             1290000   \n",
            "=================================================================\n",
            "Total params: 1,610,000\n",
            "Trainable params: 1,610,000\n",
            "Non-trainable params: 0\n",
            "_________________________________________________________________\n"
          ],
          "name": "stdout"
        }
      ]
    },
    {
      "cell_type": "code",
      "metadata": {
        "id": "CA6byd3_-neu",
        "colab_type": "code",
        "colab": {}
      },
      "source": [
        "context_word = np.array(context_word)\n",
        "target_word = np.array(target_word)\n",
        "test_context_word = np.array(test_context_word)\n",
        "test_target_word = np.array(test_target_word)"
      ],
      "execution_count": 0,
      "outputs": []
    },
    {
      "cell_type": "code",
      "metadata": {
        "id": "qRWaJ-K87b9J",
        "colab_type": "code",
        "colab": {
          "base_uri": "https://localhost:8080/",
          "height": 197
        },
        "outputId": "2944ef2e-3d6e-45ca-df90-62886843b46d"
      },
      "source": [
        "num_epochs = 5\n",
        "MODEL = model.fit(context_word , target_word , epochs=num_epochs)"
      ],
      "execution_count": 72,
      "outputs": [
        {
          "output_type": "stream",
          "text": [
            "Epoch 1/5\n",
            "12250/12250 [==============================] - 254s 21ms/step - loss: 3.8176 - accuracy: 0.5221\n",
            "Epoch 2/5\n",
            "12250/12250 [==============================] - 253s 21ms/step - loss: 3.5364 - accuracy: 0.5278\n",
            "Epoch 3/5\n",
            "12250/12250 [==============================] - 245s 20ms/step - loss: 3.3039 - accuracy: 0.5333\n",
            "Epoch 4/5\n",
            "12250/12250 [==============================] - 242s 20ms/step - loss: 3.1260 - accuracy: 0.5385\n",
            "Epoch 5/5\n",
            "12250/12250 [==============================] - 241s 20ms/step - loss: 2.9913 - accuracy: 0.5433\n"
          ],
          "name": "stdout"
        }
      ]
    },
    {
      "cell_type": "code",
      "metadata": {
        "id": "HRIYBGNXCVHe",
        "colab_type": "code",
        "colab": {
          "base_uri": "https://localhost:8080/",
          "height": 506
        },
        "outputId": "58a6b708-cc2e-434f-e31a-f5e62021a40e"
      },
      "source": [
        "import matplotlib.pyplot as plt\n",
        "\n",
        "plt.xlabel(\"EPOCHS\")\n",
        "plt.ylabel(\"ACCURACY\")\n",
        "plt.plot(MODEL.history[\"accuracy\"])\n",
        "# plt.plot(MODEL.history[\"val_accuracy\"])\n",
        "# plt.legend(['accuracy','val_accuracy'])\n",
        "plt.title(\"accuray vs epochs\")\n"
      ],
      "execution_count": 73,
      "outputs": [
        {
          "output_type": "error",
          "ename": "KeyError",
          "evalue": "ignored",
          "traceback": [
            "\u001b[0;31m---------------------------------------------------------------------------\u001b[0m",
            "\u001b[0;31mKeyError\u001b[0m                                  Traceback (most recent call last)",
            "\u001b[0;32m<ipython-input-73-f317a5dc90c9>\u001b[0m in \u001b[0;36m<module>\u001b[0;34m()\u001b[0m\n\u001b[1;32m      4\u001b[0m \u001b[0mplt\u001b[0m\u001b[0;34m.\u001b[0m\u001b[0mylabel\u001b[0m\u001b[0;34m(\u001b[0m\u001b[0;34m\"ACCURACY\"\u001b[0m\u001b[0;34m)\u001b[0m\u001b[0;34m\u001b[0m\u001b[0;34m\u001b[0m\u001b[0m\n\u001b[1;32m      5\u001b[0m \u001b[0mplt\u001b[0m\u001b[0;34m.\u001b[0m\u001b[0mplot\u001b[0m\u001b[0;34m(\u001b[0m\u001b[0mMODEL\u001b[0m\u001b[0;34m.\u001b[0m\u001b[0mhistory\u001b[0m\u001b[0;34m[\u001b[0m\u001b[0;34m\"accuracy\"\u001b[0m\u001b[0;34m]\u001b[0m\u001b[0;34m)\u001b[0m\u001b[0;34m\u001b[0m\u001b[0;34m\u001b[0m\u001b[0m\n\u001b[0;32m----> 6\u001b[0;31m \u001b[0mplt\u001b[0m\u001b[0;34m.\u001b[0m\u001b[0mplot\u001b[0m\u001b[0;34m(\u001b[0m\u001b[0mMODEL\u001b[0m\u001b[0;34m.\u001b[0m\u001b[0mhistory\u001b[0m\u001b[0;34m[\u001b[0m\u001b[0;34m\"val_accuracy\"\u001b[0m\u001b[0;34m]\u001b[0m\u001b[0;34m)\u001b[0m\u001b[0;34m\u001b[0m\u001b[0;34m\u001b[0m\u001b[0m\n\u001b[0m\u001b[1;32m      7\u001b[0m \u001b[0mplt\u001b[0m\u001b[0;34m.\u001b[0m\u001b[0mlegend\u001b[0m\u001b[0;34m(\u001b[0m\u001b[0;34m[\u001b[0m\u001b[0;34m'accuracy'\u001b[0m\u001b[0;34m,\u001b[0m\u001b[0;34m'val_accuracy'\u001b[0m\u001b[0;34m]\u001b[0m\u001b[0;34m)\u001b[0m\u001b[0;34m\u001b[0m\u001b[0;34m\u001b[0m\u001b[0m\n\u001b[1;32m      8\u001b[0m \u001b[0mplt\u001b[0m\u001b[0;34m.\u001b[0m\u001b[0mtitle\u001b[0m\u001b[0;34m(\u001b[0m\u001b[0;34m\"accuray vs epochs\"\u001b[0m\u001b[0;34m)\u001b[0m\u001b[0;34m\u001b[0m\u001b[0;34m\u001b[0m\u001b[0m\n",
            "\u001b[0;31mKeyError\u001b[0m: 'val_accuracy'"
          ]
        },
        {
          "output_type": "display_data",
          "data": {
            "image/png": "[encoded data removed]",
            "text/plain": [
              "<Figure size 432x288 with 1 Axes>"
            ]
          },
          "metadata": {
            "tags": [],
            "needs_background": "light"
          }
        }
      ]
    },
    {
      "cell_type": "code",
      "metadata": {
        "id": "J9JtujY9XGSe",
        "colab_type": "code",
        "colab": {
          "base_uri": "https://localhost:8080/",
          "height": 313
        },
        "outputId": "34406e7e-badd-4efd-f504-7086e6c776a4"
      },
      "source": [
        "\n",
        "plt.xlabel(\"EPOCHS\")\n",
        "plt.ylabel(\"LOSS\")\n",
        "plt.plot(MODEL.history[\"loss\"])\n",
        "# plt.plot(MODEL.history[\"val_loss\"])\n",
        "# plt.legend([\"loss\",\"val_loss\"])\n",
        "plt.title(\"loss  vs epochs\")"
      ],
      "execution_count": 74,
      "outputs": [
        {
          "output_type": "execute_result",
          "data": {
            "text/plain": [
              "Text(0.5, 1.0, 'loss  vs epochs')"
            ]
          },
          "metadata": {
            "tags": []
          },
          "execution_count": 74
        },
        {
          "output_type": "display_data",
          "data": {
            "image/png": "[encoded data removed]",
            "text/plain": [
              "<Figure size 432x288 with 1 Axes>"
            ]
          },
          "metadata": {
            "tags": [],
            "needs_background": "light"
          }
        }
      ]
    },
    {
      "cell_type": "code",
      "metadata": {
        "id": "myO4mCgEhPcG",
        "colab_type": "code",
        "colab": {}
      },
      "source": [
        ""
      ],
      "execution_count": 0,
      "outputs": []
    }
  ]
}