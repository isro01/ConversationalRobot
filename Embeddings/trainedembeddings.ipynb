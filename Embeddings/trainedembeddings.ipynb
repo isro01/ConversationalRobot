{
  "nbformat": 4,
  "nbformat_minor": 0,
  "metadata": {
    "colab": {
      "name": "trainedembeddings.ipynb",
      "provenance": [],
      "collapsed_sections": []
    },
    "kernelspec": {
      "name": "python3",
      "display_name": "Python 3"
    }
  },
  "cells": [
    {
      "cell_type": "code",
      "metadata": {
        "id": "JH3Zw2uUV4Zz",
        "colab_type": "code",
        "colab": {
          "base_uri": "https://localhost:8080/",
          "height": 127
        },
        "outputId": "6ea1f221-97ec-41ca-f968-bc3afae52cec"
      },
      "source": [
        "from google.colab import drive\n",
        "drive.mount('/content/gdrive')"
      ],
      "execution_count": 2,
      "outputs": [
        {
          "output_type": "stream",
          "text": [
            "Go to this URL in a browser: https://accounts.google.com/o/oauth2/auth?client_id=947318989803-6bn6qk8qdgf4n4g3pfee6491hc0brc4i.apps.googleusercontent.com&redirect_uri=urn%3aietf%3awg%3aoauth%3a2.0%3aoob&response_type=code&scope=email%20https%3a%2f%2fwww.googleapis.com%2fauth%2fdocs.test%20https%3a%2f%2fwww.googleapis.com%2fauth%2fdrive%20https%3a%2f%2fwww.googleapis.com%2fauth%2fdrive.photos.readonly%20https%3a%2f%2fwww.googleapis.com%2fauth%2fpeopleapi.readonly\n",
            "\n",
            "Enter your authorization code:\n",
            "··········\n",
            "Mounted at /content/gdrive\n"
          ],
          "name": "stdout"
        }
      ]
    },
    {
      "cell_type": "code",
      "metadata": {
        "id": "vqzejocCX3AH",
        "colab_type": "code",
        "colab": {}
      },
      "source": [
        "import csv\n",
        "import io\n",
        "import pandas as pd\n",
        "import numpy as np\n",
        "import matplotlib.pyplot as plt\n",
        "import re\n",
        "import nltk\n",
        "import spacy\n",
        "from bs4 import BeautifulSoup\n",
        "import time"
      ],
      "execution_count": 0,
      "outputs": []
    },
    {
      "cell_type": "code",
      "metadata": {
        "id": "WqstjUZDYIOS",
        "colab_type": "code",
        "colab": {
          "base_uri": "https://localhost:8080/",
          "height": 71
        },
        "outputId": "9b2577ee-2e0a-4b3a-b337-dfda6662b74a"
      },
      "source": [
        "nltk.download('stopwords')"
      ],
      "execution_count": 76,
      "outputs": [
        {
          "output_type": "stream",
          "text": [
            "[nltk_data] Downloading package stopwords to /root/nltk_data...\n",
            "[nltk_data]   Package stopwords is already up-to-date!\n"
          ],
          "name": "stdout"
        },
        {
          "output_type": "execute_result",
          "data": {
            "text/plain": [
              "True"
            ]
          },
          "metadata": {
            "tags": []
          },
          "execution_count": 76
        }
      ]
    },
    {
      "cell_type": "code",
      "metadata": {
        "id": "O_GQo4jNf1dF",
        "colab_type": "code",
        "colab": {}
      },
      "source": [
        "file_1 = \"/content/gdrive/My Drive/data/data.csv\""
      ],
      "execution_count": 0,
      "outputs": []
    },
    {
      "cell_type": "code",
      "metadata": {
        "id": "PtvnPR1AgCl0",
        "colab_type": "code",
        "colab": {
          "base_uri": "https://localhost:8080/",
          "height": 55
        },
        "outputId": "3d7e8b09-dafd-4933-81ad-afd488fb775d"
      },
      "source": [
        "from nltk.corpus import stopwords\n",
        "stopWords = set(stopwords.words('english'))\n",
        "print(stopWords)\n",
        "\n",
        "also_remove = ['  ' , '.' , '..' , '...' , '[' , ']', '}', '{', '(' , ')' ,',']"
      ],
      "execution_count": 78,
      "outputs": [
        {
          "output_type": "stream",
          "text": [
            "{'his', 'all', 'ourselves', 'wasn', 'or', 'with', 'as', 'i', 'to', 'yourselves', 'both', 'ma', 'shouldn', \"wouldn't\", \"should've\", 'from', 'yourself', 'why', 'other', 'these', 'd', 'they', \"won't\", \"hadn't\", 'then', 'not', 'been', 'themselves', 'of', 'be', 'has', 'most', 'during', 'you', 'your', 'her', 'more', 'he', 'does', 'wouldn', 'against', 'very', 'll', 'being', 'the', 'and', 'an', \"wasn't\", 'until', 'aren', 'didn', 'because', 'how', \"mustn't\", 'hadn', 'its', 'doesn', 'once', \"isn't\", 'was', 'when', 'hasn', 'so', 'who', 'this', 'will', 'nor', \"aren't\", 'over', 'here', 't', 'o', 'weren', 'theirs', 'while', 'do', 'those', \"hasn't\", 'again', 'mustn', 'couldn', \"you'd\", 'itself', 'too', 'me', 'our', \"haven't\", 've', \"didn't\", \"couldn't\", 'that', 'is', 'into', 'any', 'y', 'by', \"shouldn't\", 'some', \"you've\", 'on', 'off', 'him', 'have', 'having', 'for', 'at', 'hers', 'through', 'after', \"weren't\", 'it', 'what', 'had', 're', 'did', 'under', 'should', 'up', 'such', 'no', 'only', 'ours', 'in', 'own', 'can', 'ain', 'mightn', 'above', 'a', 'are', 'where', 'few', 'whom', 'them', 'm', 'than', 'we', 'each', 'herself', 'there', 'now', \"don't\", \"you'll\", 'below', 'doing', 'their', 'just', 'my', 'myself', \"that'll\", \"shan't\", 'yours', 'before', \"you're\", 'were', 's', 'out', 'down', \"she's\", \"needn't\", 'which', 'needn', 'won', 'same', 'haven', 'about', 'further', 'if', 'but', 'isn', \"it's\", 'am', \"mightn't\", 'shan', 'she', 'between', 'don', \"doesn't\", 'himself'}\n"
          ],
          "name": "stdout"
        }
      ]
    },
    {
      "cell_type": "code",
      "metadata": {
        "id": "AymMA6K5gGQm",
        "colab_type": "code",
        "colab": {
          "base_uri": "https://localhost:8080/",
          "height": 35
        },
        "outputId": "529e165b-cd1c-422e-c015-4615dc4bd2b3"
      },
      "source": [
        "reviews = []\n",
        "labels = []\n",
        "\n",
        "start_time = time.time()\n",
        "\n",
        "with open(file_1 , 'r') as csvfile:\n",
        "  reader = csv.reader(csvfile , delimiter = ',')\n",
        "  next(reader)\n",
        "  for row in reader:\n",
        "    if row[1] == \"positive\": labels.append(1)\n",
        "    if row[1] == \"negative\" : labels.append(0)\n",
        "    # labels.append(row[1])\n",
        "    review = row[0].lower()\n",
        "    BeautifulSoup(review, \"lxml\")                                               #remove html tags\n",
        "    review = review.replace('[^\\w\\s]','')                                       #remove puntuations\n",
        "    review = review.replace(\"<br /><br />\",\" \")                                 #remove particular tags\n",
        "    review = \"\".join([i for i in review if not i.isdigit()])                    #remove_digits\n",
        "    for word in stopWords:                                                      #remove stopwords\n",
        "      stopword = \" \" + word + \" \"\n",
        "      review = review.replace(stopword , \" \")\n",
        "    for i in also_remove:\n",
        "      review = review.replace(i,\"\")\n",
        "    reviews.append(review)\n",
        "\n",
        "print(f'Time taken : {(time.time() - start_time) / 60:.2f} mins')"
      ],
      "execution_count": 79,
      "outputs": [
        {
          "output_type": "stream",
          "text": [
            "Time taken : 0.70 mins\n"
          ],
          "name": "stdout"
        }
      ]
    },
    {
      "cell_type": "code",
      "metadata": {
        "id": "uYOOE2kthAZJ",
        "colab_type": "code",
        "colab": {
          "base_uri": "https://localhost:8080/",
          "height": 55
        },
        "outputId": "df93be8c-0f97-4fa5-a069-0ac2e7a3826a"
      },
      "source": [
        "print(\"review : \",reviews[0])"
      ],
      "execution_count": 80,
      "outputs": [
        {
          "output_type": "stream",
          "text": [
            "review :  one reviewers mentioned watchingoz episode hooked right exactly happened me first thing struck oz brutality unflinching scenes violence set right word go trust me show faint hearted timid show pulls punches regards drugs sex violence hardcore classic use word called oz nickname given oswald maximum security state penitentary focuses mainly emerald city experimental section prison cells glass fronts face inwards privacy high agenda em city home manyaryans muslims gangstas latinos christians italians irish moreso scuffles death stares dodgy dealings shady agreements never far away would say main appeal show due fact goes shows dare forget pretty pictures painted mainstream audiences forget charm forget romanceoz mess around first episode ever saw struck nasty surreal say ready it watched more developed taste oz got accustomed high levels graphic violence violence injustice crooked guards who'll sold nickel inmates who'll kill order get away it well mannered middle class inmates turned prison bitches due lack street skills prison experience watching oz may become comfortable uncomfortable viewingthats get touch darker side\n"
          ],
          "name": "stdout"
        }
      ]
    },
    {
      "cell_type": "code",
      "metadata": {
        "id": "sn-pH5D8hpxA",
        "colab_type": "code",
        "colab": {}
      },
      "source": [
        "#  stemming and lemmatization\n",
        "\n",
        "# from nltk.corpus import wordnet\n",
        "# from nltk.stem import WordNetLemmatizer\n",
        "\n",
        "# nltk.download('wordnet')\n",
        "# nltk.download('averaged_perceptron_tagger')\n",
        "\n",
        "# lemmatizer = WordNetLemmatizer()\n",
        "\n",
        "# wordnet_map = {\"N\":wordnet.NOUN, \"V\":wordnet.VERB, \"J\":wordnet.ADJ, \"R\":wordnet.ADV} # Pos tag, used Noun, Verb, Adjective and Adverb\n",
        "\n",
        "# for review in reviews:\n",
        "#   pos_tagged_text = nltk.pos_tag(review.split())\n",
        "#   review = \" \".join([lemmatizer.lemmatize(word, wordnet_map.get(pos[0], wordnet.NOUN)) for word, pos in pos_tagged_text])"
      ],
      "execution_count": 0,
      "outputs": []
    },
    {
      "cell_type": "code",
      "metadata": {
        "id": "E_H4l_lzj1Mg",
        "colab_type": "code",
        "colab": {
          "base_uri": "https://localhost:8080/",
          "height": 53
        },
        "outputId": "7a2cc39d-486b-41be-8537-bbfbfd0ba535"
      },
      "source": [
        "max_len = 0\n",
        "\n",
        "for review in reviews:\n",
        "  length = len(review)\n",
        "  if length>max_len : max_len = length\n",
        "\n",
        "print(\"max_len :\",max_len)\n",
        "print(\"total reviews: \", len(reviews))"
      ],
      "execution_count": 82,
      "outputs": [
        {
          "output_type": "stream",
          "text": [
            "max_len : 9452\n",
            "total reviews:  50000\n"
          ],
          "name": "stdout"
        }
      ]
    },
    {
      "cell_type": "code",
      "metadata": {
        "id": "q0toEpj3l5Kv",
        "colab_type": "code",
        "colab": {}
      },
      "source": [
        "from keras.preprocessing.text import Tokenizer\n",
        "from tensorflow.keras.preprocessing.sequence import pad_sequences\n",
        "oov_tok = \"<OOV>\"\n",
        "vocab_size = 10000\n",
        "max_len = 200\n",
        "\n",
        "tokenizer = Tokenizer(num_words = vocab_size, oov_token=oov_tok)\n",
        "tokenizer.fit_on_texts(reviews[:4000])\n",
        "word_index = tokenizer.word_index\n",
        "sequences = tokenizer.texts_to_sequences(reviews[:3000])\n",
        "padded = pad_sequences(sequences,maxlen=200, truncating=\"post\")"
      ],
      "execution_count": 0,
      "outputs": []
    },
    {
      "cell_type": "code",
      "metadata": {
        "id": "sbREDwtU_Fqq",
        "colab_type": "code",
        "colab": {
          "base_uri": "https://localhost:8080/",
          "height": 287
        },
        "outputId": "85d14947-a87b-4603-8793-6eb4a58b81ec"
      },
      "source": [
        "padded = padded[:4000]\n",
        "print(padded[0])\n",
        "            "
      ],
      "execution_count": 84,
      "outputs": [
        {
          "output_type": "stream",
          "text": [
            "[   0    0    0    0    0    0    0    0    0    0    0    0    0    0\n",
            "    0    0    0    0    0    0    0    0    0    0    0    0    0    0\n",
            "    0    0    0    0    0    0    4 1682  839    1  332 2382  114  576\n",
            "  611  143   19   61 2628 2532 8127    1   54  462  177  114  434   53\n",
            " 1827  143   46 8128 1861    1   46 2199 5754 4306 1118  312  462 3201\n",
            "  264  246  434  323 2532    1  248    1 3739 2707 1199    1 2902 1133\n",
            "    1  493 5380 4102 1101 5057 3593 7358  302    1    1  199 5058 9218\n",
            "  493  219    1 4782    1    1 7359 6726 2200    1    1  280 5059 5755\n",
            " 6727    1    1   33  135  142    9   52  178 1255   46  592  101  169\n",
            "  181 2629  704   82 1290 4534 2630  984  704 1498  704    1  891   87\n",
            "   19  332   45  126 2628 1272 2082   52 1441    7  193  556 1340 1200\n",
            " 2532   91 5756  199 2036 1942  462  462 8129 6193 4535    1 2708    1\n",
            " 8130    1  438  568   16  142    7   14 8131  580  605 8130  606 1101\n",
            "    1  592  420  937 2533 1101  421   58 2532  102  337 2534 3081    1\n",
            "   16 1167 4307  446]\n"
          ],
          "name": "stdout"
        }
      ]
    },
    {
      "cell_type": "code",
      "metadata": {
        "id": "8gAAivrTocvd",
        "colab_type": "code",
        "colab": {}
      },
      "source": [
        "training_set = []\n",
        "\n",
        "for row in range(padded.shape[0]):\n",
        "  train = []\n",
        "  for col in range(padded.shape[1]):\n",
        "    train.append(padded[row][col])\n",
        "  training_set.append(train)"
      ],
      "execution_count": 0,
      "outputs": []
    },
    {
      "cell_type": "code",
      "metadata": {
        "id": "9jnJdxqX1_4N",
        "colab_type": "code",
        "colab": {
          "base_uri": "https://localhost:8080/",
          "height": 73
        },
        "outputId": "d1087935-740d-4288-a26e-0adac7250595"
      },
      "source": [
        "padded_train = training_set[:4000]\n",
        "padded_test = training_set[2000:3000]\n",
        "print(type(training_set))\n",
        "print(training_set[0])"
      ],
      "execution_count": 86,
      "outputs": [
        {
          "output_type": "stream",
          "text": [
            "<class 'list'>\n",
            "[0, 0, 0, 0, 0, 0, 0, 0, 0, 0, 0, 0, 0, 0, 0, 0, 0, 0, 0, 0, 0, 0, 0, 0, 0, 0, 0, 0, 0, 0, 0, 0, 0, 0, 4, 1682, 839, 1, 332, 2382, 114, 576, 611, 143, 19, 61, 2628, 2532, 8127, 1, 54, 462, 177, 114, 434, 53, 1827, 143, 46, 8128, 1861, 1, 46, 2199, 5754, 4306, 1118, 312, 462, 3201, 264, 246, 434, 323, 2532, 1, 248, 1, 3739, 2707, 1199, 1, 2902, 1133, 1, 493, 5380, 4102, 1101, 5057, 3593, 7358, 302, 1, 1, 199, 5058, 9218, 493, 219, 1, 4782, 1, 1, 7359, 6726, 2200, 1, 1, 280, 5059, 5755, 6727, 1, 1, 33, 135, 142, 9, 52, 178, 1255, 46, 592, 101, 169, 181, 2629, 704, 82, 1290, 4534, 2630, 984, 704, 1498, 704, 1, 891, 87, 19, 332, 45, 126, 2628, 1272, 2082, 52, 1441, 7, 193, 556, 1340, 1200, 2532, 91, 5756, 199, 2036, 1942, 462, 462, 8129, 6193, 4535, 1, 2708, 1, 8130, 1, 438, 568, 16, 142, 7, 14, 8131, 580, 605, 8130, 606, 1101, 1, 592, 420, 937, 2533, 1101, 421, 58, 2532, 102, 337, 2534, 3081, 1, 16, 1167, 4307, 446]\n"
          ],
          "name": "stdout"
        }
      ]
    },
    {
      "cell_type": "code",
      "metadata": {
        "id": "w0nb-zfAs6DO",
        "colab_type": "code",
        "colab": {}
      },
      "source": [
        "#CBOW_MODEL\n",
        "context_word = []\n",
        "target_word = []\n",
        "\n",
        "\n",
        "\n",
        "window_size = 1\n",
        "\n",
        "for sentence in padded_train:\n",
        "  for i,word in enumerate(sentence):\n",
        "    \n",
        "\n",
        "    if i- window_size >= 0 and i+ window_size < len(sentence):\n",
        "      # w = np.zeros((vocab_size+1,1))\n",
        "      # w[word] = 1\n",
        "      target_word.append(word)\n",
        "      context = []\n",
        "\n",
        "      for j in range(i-window_size ,i+window_size +1):\n",
        "        if j!= i: \n",
        "          # w = np.zeros((vocab_size+1,1))\n",
        "          # w[sentence[j]] = 1\n",
        "          context.append(sentence[j])\n",
        "\n",
        "      context_word.append(context)\n",
        "\n",
        "    "
      ],
      "execution_count": 0,
      "outputs": []
    },
    {
      "cell_type": "code",
      "metadata": {
        "id": "_nyn2oChGhW7",
        "colab_type": "code",
        "colab": {}
      },
      "source": [
        "test_context_word = []\n",
        "test_target_word = []\n",
        "\n",
        "window_size = 2\n",
        "\n",
        "for sentence in padded_test:\n",
        "  for i,word in enumerate(sentence):\n",
        "    # w = np.zeros((vocab_size+1,1))\n",
        "    # w[word] = 1\n",
        "    test_target_word.append(word)\n",
        "    test_context = []\n",
        "\n",
        "    if i- window_size >= 0 and i+ window_size < len(sentence):\n",
        "\n",
        "      for j in range(i-window_size ,i+window_size +1):\n",
        "        if j!= i: \n",
        "\n",
        "          # w = np.zeros((vocab_size+1,1))\n",
        "          # w[sentence[j]] = 1\n",
        "          test_context.append(sentence[j])\n",
        "\n",
        "      test_context_word.append(context)"
      ],
      "execution_count": 0,
      "outputs": []
    },
    {
      "cell_type": "code",
      "metadata": {
        "id": "ZRhR_Id2J8ip",
        "colab_type": "code",
        "colab": {
          "base_uri": "https://localhost:8080/",
          "height": 35
        },
        "outputId": "66d90214-ccd3-4f82-cf9a-f07adf20f572"
      },
      "source": [
        "len(test_context_word)"
      ],
      "execution_count": 89,
      "outputs": [
        {
          "output_type": "execute_result",
          "data": {
            "text/plain": [
              "196000"
            ]
          },
          "metadata": {
            "tags": []
          },
          "execution_count": 89
        }
      ]
    },
    {
      "cell_type": "code",
      "metadata": {
        "id": "Ap_6ombATq7x",
        "colab_type": "code",
        "colab": {
          "base_uri": "https://localhost:8080/",
          "height": 35
        },
        "outputId": "cdf23431-88fe-41f7-9525-047e28ce946e"
      },
      "source": [
        "type(test_target_word[0])"
      ],
      "execution_count": 90,
      "outputs": [
        {
          "output_type": "execute_result",
          "data": {
            "text/plain": [
              "numpy.int32"
            ]
          },
          "metadata": {
            "tags": []
          },
          "execution_count": 90
        }
      ]
    },
    {
      "cell_type": "code",
      "metadata": {
        "id": "1O-YL_P3vSpm",
        "colab_type": "code",
        "colab": {
          "base_uri": "https://localhost:8080/",
          "height": 269
        },
        "outputId": "89375feb-ae94-4ac7-83f3-9d2915cbd875"
      },
      "source": [
        "import tensorflow as tf\n",
        "from keras.models import Sequential\n",
        "from keras.layers import Embedding , Dense\n",
        "from keras.losses import SparseCategoricalCrossentropy\n",
        "embedding_dim = 32\n",
        "max_length = 2\n",
        "model = tf.keras.Sequential([\n",
        "         tf.keras.layers.Embedding(vocab_size, embedding_dim, input_length=max_length),\n",
        "         tf.keras.layers.Flatten(),     \n",
        "         tf.keras.layers.Dense(vocab_size, activation='softmax')\n",
        "         ])\n",
        "\n",
        "model.compile(loss=\"SparseCategoricalCrossentropy\",optimizer='adam',metrics=['accuracy'])\n",
        "model.summary()"
      ],
      "execution_count": 94,
      "outputs": [
        {
          "output_type": "stream",
          "text": [
            "Model: \"sequential_6\"\n",
            "_________________________________________________________________\n",
            "Layer (type)                 Output Shape              Param #   \n",
            "=================================================================\n",
            "embedding_6 (Embedding)      (None, 2, 32)             320000    \n",
            "_________________________________________________________________\n",
            "flatten_6 (Flatten)          (None, 64)                0         \n",
            "_________________________________________________________________\n",
            "dense_6 (Dense)              (None, 10000)             650000    \n",
            "=================================================================\n",
            "Total params: 970,000\n",
            "Trainable params: 970,000\n",
            "Non-trainable params: 0\n",
            "_________________________________________________________________\n"
          ],
          "name": "stdout"
        }
      ]
    },
    {
      "cell_type": "code",
      "metadata": {
        "id": "CA6byd3_-neu",
        "colab_type": "code",
        "colab": {}
      },
      "source": [
        "context_word = np.array(context_word)\n",
        "target_word = np.array(target_word)\n",
        "test_context_word = np.array(test_context_word)\n",
        "test_target_word = np.array(test_target_word)"
      ],
      "execution_count": 0,
      "outputs": []
    },
    {
      "cell_type": "code",
      "metadata": {
        "id": "qRWaJ-K87b9J",
        "colab_type": "code",
        "colab": {
          "base_uri": "https://localhost:8080/",
          "height": 376
        },
        "outputId": "fc4a04cc-6095-482b-c033-f5b9d2e2a3d0"
      },
      "source": [
        "num_epochs = 5\n",
        "MODEL = model.fit(context_word , target_word , epochs=num_epochs)"
      ],
      "execution_count": 99,
      "outputs": [
        {
          "output_type": "stream",
          "text": [
            "Epoch 1/5\n",
            "  565/18563 [..............................] - ETA: 4:12 - loss: 3.2542 - accuracy: 0.5338"
          ],
          "name": "stdout"
        },
        {
          "output_type": "error",
          "ename": "KeyboardInterrupt",
          "evalue": "ignored",
          "traceback": [
            "\u001b[0;31m---------------------------------------------------------------------------\u001b[0m",
            "\u001b[0;31mKeyboardInterrupt\u001b[0m                         Traceback (most recent call last)",
            "\u001b[0;32m<ipython-input-99-d264351e912f>\u001b[0m in \u001b[0;36m<module>\u001b[0;34m()\u001b[0m\n\u001b[1;32m      1\u001b[0m \u001b[0mnum_epochs\u001b[0m \u001b[0;34m=\u001b[0m \u001b[0;36m5\u001b[0m\u001b[0;34m\u001b[0m\u001b[0;34m\u001b[0m\u001b[0m\n\u001b[0;32m----> 2\u001b[0;31m \u001b[0mMODEL\u001b[0m \u001b[0;34m=\u001b[0m \u001b[0mmodel\u001b[0m\u001b[0;34m.\u001b[0m\u001b[0mfit\u001b[0m\u001b[0;34m(\u001b[0m\u001b[0mcontext_word\u001b[0m \u001b[0;34m,\u001b[0m \u001b[0mtarget_word\u001b[0m \u001b[0;34m,\u001b[0m \u001b[0mepochs\u001b[0m\u001b[0;34m=\u001b[0m\u001b[0mnum_epochs\u001b[0m\u001b[0;34m)\u001b[0m\u001b[0;34m\u001b[0m\u001b[0;34m\u001b[0m\u001b[0m\n\u001b[0m",
            "\u001b[0;32m/usr/local/lib/python3.6/dist-packages/tensorflow/python/keras/engine/training.py\u001b[0m in \u001b[0;36m_method_wrapper\u001b[0;34m(self, *args, **kwargs)\u001b[0m\n\u001b[1;32m     64\u001b[0m   \u001b[0;32mdef\u001b[0m \u001b[0m_method_wrapper\u001b[0m\u001b[0;34m(\u001b[0m\u001b[0mself\u001b[0m\u001b[0;34m,\u001b[0m \u001b[0;34m*\u001b[0m\u001b[0margs\u001b[0m\u001b[0;34m,\u001b[0m \u001b[0;34m**\u001b[0m\u001b[0mkwargs\u001b[0m\u001b[0;34m)\u001b[0m\u001b[0;34m:\u001b[0m\u001b[0;34m\u001b[0m\u001b[0;34m\u001b[0m\u001b[0m\n\u001b[1;32m     65\u001b[0m     \u001b[0;32mif\u001b[0m \u001b[0;32mnot\u001b[0m \u001b[0mself\u001b[0m\u001b[0;34m.\u001b[0m\u001b[0m_in_multi_worker_mode\u001b[0m\u001b[0;34m(\u001b[0m\u001b[0;34m)\u001b[0m\u001b[0;34m:\u001b[0m  \u001b[0;31m# pylint: disable=protected-access\u001b[0m\u001b[0;34m\u001b[0m\u001b[0;34m\u001b[0m\u001b[0m\n\u001b[0;32m---> 66\u001b[0;31m       \u001b[0;32mreturn\u001b[0m \u001b[0mmethod\u001b[0m\u001b[0;34m(\u001b[0m\u001b[0mself\u001b[0m\u001b[0;34m,\u001b[0m \u001b[0;34m*\u001b[0m\u001b[0margs\u001b[0m\u001b[0;34m,\u001b[0m \u001b[0;34m**\u001b[0m\u001b[0mkwargs\u001b[0m\u001b[0;34m)\u001b[0m\u001b[0;34m\u001b[0m\u001b[0;34m\u001b[0m\u001b[0m\n\u001b[0m\u001b[1;32m     67\u001b[0m \u001b[0;34m\u001b[0m\u001b[0m\n\u001b[1;32m     68\u001b[0m     \u001b[0;31m# Running inside `run_distribute_coordinator` already.\u001b[0m\u001b[0;34m\u001b[0m\u001b[0;34m\u001b[0m\u001b[0;34m\u001b[0m\u001b[0m\n",
            "\u001b[0;32m/usr/local/lib/python3.6/dist-packages/tensorflow/python/keras/engine/training.py\u001b[0m in \u001b[0;36mfit\u001b[0;34m(self, x, y, batch_size, epochs, verbose, callbacks, validation_split, validation_data, shuffle, class_weight, sample_weight, initial_epoch, steps_per_epoch, validation_steps, validation_batch_size, validation_freq, max_queue_size, workers, use_multiprocessing)\u001b[0m\n\u001b[1;32m    846\u001b[0m                 batch_size=batch_size):\n\u001b[1;32m    847\u001b[0m               \u001b[0mcallbacks\u001b[0m\u001b[0;34m.\u001b[0m\u001b[0mon_train_batch_begin\u001b[0m\u001b[0;34m(\u001b[0m\u001b[0mstep\u001b[0m\u001b[0;34m)\u001b[0m\u001b[0;34m\u001b[0m\u001b[0;34m\u001b[0m\u001b[0m\n\u001b[0;32m--> 848\u001b[0;31m               \u001b[0mtmp_logs\u001b[0m \u001b[0;34m=\u001b[0m \u001b[0mtrain_function\u001b[0m\u001b[0;34m(\u001b[0m\u001b[0miterator\u001b[0m\u001b[0;34m)\u001b[0m\u001b[0;34m\u001b[0m\u001b[0;34m\u001b[0m\u001b[0m\n\u001b[0m\u001b[1;32m    849\u001b[0m               \u001b[0;31m# Catch OutOfRangeError for Datasets of unknown size.\u001b[0m\u001b[0;34m\u001b[0m\u001b[0;34m\u001b[0m\u001b[0;34m\u001b[0m\u001b[0m\n\u001b[1;32m    850\u001b[0m               \u001b[0;31m# This blocks until the batch has finished executing.\u001b[0m\u001b[0;34m\u001b[0m\u001b[0;34m\u001b[0m\u001b[0;34m\u001b[0m\u001b[0m\n",
            "\u001b[0;32m/usr/local/lib/python3.6/dist-packages/tensorflow/python/eager/def_function.py\u001b[0m in \u001b[0;36m__call__\u001b[0;34m(self, *args, **kwds)\u001b[0m\n\u001b[1;32m    578\u001b[0m         \u001b[0mxla_context\u001b[0m\u001b[0;34m.\u001b[0m\u001b[0mExit\u001b[0m\u001b[0;34m(\u001b[0m\u001b[0;34m)\u001b[0m\u001b[0;34m\u001b[0m\u001b[0;34m\u001b[0m\u001b[0m\n\u001b[1;32m    579\u001b[0m     \u001b[0;32melse\u001b[0m\u001b[0;34m:\u001b[0m\u001b[0;34m\u001b[0m\u001b[0;34m\u001b[0m\u001b[0m\n\u001b[0;32m--> 580\u001b[0;31m       \u001b[0mresult\u001b[0m \u001b[0;34m=\u001b[0m \u001b[0mself\u001b[0m\u001b[0;34m.\u001b[0m\u001b[0m_call\u001b[0m\u001b[0;34m(\u001b[0m\u001b[0;34m*\u001b[0m\u001b[0margs\u001b[0m\u001b[0;34m,\u001b[0m \u001b[0;34m**\u001b[0m\u001b[0mkwds\u001b[0m\u001b[0;34m)\u001b[0m\u001b[0;34m\u001b[0m\u001b[0;34m\u001b[0m\u001b[0m\n\u001b[0m\u001b[1;32m    581\u001b[0m \u001b[0;34m\u001b[0m\u001b[0m\n\u001b[1;32m    582\u001b[0m     \u001b[0;32mif\u001b[0m \u001b[0mtracing_count\u001b[0m \u001b[0;34m==\u001b[0m \u001b[0mself\u001b[0m\u001b[0;34m.\u001b[0m\u001b[0m_get_tracing_count\u001b[0m\u001b[0;34m(\u001b[0m\u001b[0;34m)\u001b[0m\u001b[0;34m:\u001b[0m\u001b[0;34m\u001b[0m\u001b[0;34m\u001b[0m\u001b[0m\n",
            "\u001b[0;32m/usr/local/lib/python3.6/dist-packages/tensorflow/python/eager/def_function.py\u001b[0m in \u001b[0;36m_call\u001b[0;34m(self, *args, **kwds)\u001b[0m\n\u001b[1;32m    609\u001b[0m       \u001b[0;31m# In this case we have created variables on the first call, so we run the\u001b[0m\u001b[0;34m\u001b[0m\u001b[0;34m\u001b[0m\u001b[0;34m\u001b[0m\u001b[0m\n\u001b[1;32m    610\u001b[0m       \u001b[0;31m# defunned version which is guaranteed to never create variables.\u001b[0m\u001b[0;34m\u001b[0m\u001b[0;34m\u001b[0m\u001b[0;34m\u001b[0m\u001b[0m\n\u001b[0;32m--> 611\u001b[0;31m       \u001b[0;32mreturn\u001b[0m \u001b[0mself\u001b[0m\u001b[0;34m.\u001b[0m\u001b[0m_stateless_fn\u001b[0m\u001b[0;34m(\u001b[0m\u001b[0;34m*\u001b[0m\u001b[0margs\u001b[0m\u001b[0;34m,\u001b[0m \u001b[0;34m**\u001b[0m\u001b[0mkwds\u001b[0m\u001b[0;34m)\u001b[0m  \u001b[0;31m# pylint: disable=not-callable\u001b[0m\u001b[0;34m\u001b[0m\u001b[0;34m\u001b[0m\u001b[0m\n\u001b[0m\u001b[1;32m    612\u001b[0m     \u001b[0;32melif\u001b[0m \u001b[0mself\u001b[0m\u001b[0;34m.\u001b[0m\u001b[0m_stateful_fn\u001b[0m \u001b[0;32mis\u001b[0m \u001b[0;32mnot\u001b[0m \u001b[0;32mNone\u001b[0m\u001b[0;34m:\u001b[0m\u001b[0;34m\u001b[0m\u001b[0;34m\u001b[0m\u001b[0m\n\u001b[1;32m    613\u001b[0m       \u001b[0;31m# Release the lock early so that multiple threads can perform the call\u001b[0m\u001b[0;34m\u001b[0m\u001b[0;34m\u001b[0m\u001b[0;34m\u001b[0m\u001b[0m\n",
            "\u001b[0;32m/usr/local/lib/python3.6/dist-packages/tensorflow/python/eager/function.py\u001b[0m in \u001b[0;36m__call__\u001b[0;34m(self, *args, **kwargs)\u001b[0m\n\u001b[1;32m   2418\u001b[0m     \u001b[0;32mwith\u001b[0m \u001b[0mself\u001b[0m\u001b[0;34m.\u001b[0m\u001b[0m_lock\u001b[0m\u001b[0;34m:\u001b[0m\u001b[0;34m\u001b[0m\u001b[0;34m\u001b[0m\u001b[0m\n\u001b[1;32m   2419\u001b[0m       \u001b[0mgraph_function\u001b[0m\u001b[0;34m,\u001b[0m \u001b[0margs\u001b[0m\u001b[0;34m,\u001b[0m \u001b[0mkwargs\u001b[0m \u001b[0;34m=\u001b[0m \u001b[0mself\u001b[0m\u001b[0;34m.\u001b[0m\u001b[0m_maybe_define_function\u001b[0m\u001b[0;34m(\u001b[0m\u001b[0margs\u001b[0m\u001b[0;34m,\u001b[0m \u001b[0mkwargs\u001b[0m\u001b[0;34m)\u001b[0m\u001b[0;34m\u001b[0m\u001b[0;34m\u001b[0m\u001b[0m\n\u001b[0;32m-> 2420\u001b[0;31m     \u001b[0;32mreturn\u001b[0m \u001b[0mgraph_function\u001b[0m\u001b[0;34m.\u001b[0m\u001b[0m_filtered_call\u001b[0m\u001b[0;34m(\u001b[0m\u001b[0margs\u001b[0m\u001b[0;34m,\u001b[0m \u001b[0mkwargs\u001b[0m\u001b[0;34m)\u001b[0m  \u001b[0;31m# pylint: disable=protected-access\u001b[0m\u001b[0;34m\u001b[0m\u001b[0;34m\u001b[0m\u001b[0m\n\u001b[0m\u001b[1;32m   2421\u001b[0m \u001b[0;34m\u001b[0m\u001b[0m\n\u001b[1;32m   2422\u001b[0m   \u001b[0;34m@\u001b[0m\u001b[0mproperty\u001b[0m\u001b[0;34m\u001b[0m\u001b[0;34m\u001b[0m\u001b[0m\n",
            "\u001b[0;32m/usr/local/lib/python3.6/dist-packages/tensorflow/python/eager/function.py\u001b[0m in \u001b[0;36m_filtered_call\u001b[0;34m(self, args, kwargs)\u001b[0m\n\u001b[1;32m   1663\u001b[0m          if isinstance(t, (ops.Tensor,\n\u001b[1;32m   1664\u001b[0m                            resource_variable_ops.BaseResourceVariable))),\n\u001b[0;32m-> 1665\u001b[0;31m         self.captured_inputs)\n\u001b[0m\u001b[1;32m   1666\u001b[0m \u001b[0;34m\u001b[0m\u001b[0m\n\u001b[1;32m   1667\u001b[0m   \u001b[0;32mdef\u001b[0m \u001b[0m_call_flat\u001b[0m\u001b[0;34m(\u001b[0m\u001b[0mself\u001b[0m\u001b[0;34m,\u001b[0m \u001b[0margs\u001b[0m\u001b[0;34m,\u001b[0m \u001b[0mcaptured_inputs\u001b[0m\u001b[0;34m,\u001b[0m \u001b[0mcancellation_manager\u001b[0m\u001b[0;34m=\u001b[0m\u001b[0;32mNone\u001b[0m\u001b[0;34m)\u001b[0m\u001b[0;34m:\u001b[0m\u001b[0;34m\u001b[0m\u001b[0;34m\u001b[0m\u001b[0m\n",
            "\u001b[0;32m/usr/local/lib/python3.6/dist-packages/tensorflow/python/eager/function.py\u001b[0m in \u001b[0;36m_call_flat\u001b[0;34m(self, args, captured_inputs, cancellation_manager)\u001b[0m\n\u001b[1;32m   1744\u001b[0m       \u001b[0;31m# No tape is watching; skip to running the function.\u001b[0m\u001b[0;34m\u001b[0m\u001b[0;34m\u001b[0m\u001b[0;34m\u001b[0m\u001b[0m\n\u001b[1;32m   1745\u001b[0m       return self._build_call_outputs(self._inference_function.call(\n\u001b[0;32m-> 1746\u001b[0;31m           ctx, args, cancellation_manager=cancellation_manager))\n\u001b[0m\u001b[1;32m   1747\u001b[0m     forward_backward = self._select_forward_and_backward_functions(\n\u001b[1;32m   1748\u001b[0m         \u001b[0margs\u001b[0m\u001b[0;34m,\u001b[0m\u001b[0;34m\u001b[0m\u001b[0;34m\u001b[0m\u001b[0m\n",
            "\u001b[0;32m/usr/local/lib/python3.6/dist-packages/tensorflow/python/eager/function.py\u001b[0m in \u001b[0;36mcall\u001b[0;34m(self, ctx, args, cancellation_manager)\u001b[0m\n\u001b[1;32m    596\u001b[0m               \u001b[0minputs\u001b[0m\u001b[0;34m=\u001b[0m\u001b[0margs\u001b[0m\u001b[0;34m,\u001b[0m\u001b[0;34m\u001b[0m\u001b[0;34m\u001b[0m\u001b[0m\n\u001b[1;32m    597\u001b[0m               \u001b[0mattrs\u001b[0m\u001b[0;34m=\u001b[0m\u001b[0mattrs\u001b[0m\u001b[0;34m,\u001b[0m\u001b[0;34m\u001b[0m\u001b[0;34m\u001b[0m\u001b[0m\n\u001b[0;32m--> 598\u001b[0;31m               ctx=ctx)\n\u001b[0m\u001b[1;32m    599\u001b[0m         \u001b[0;32melse\u001b[0m\u001b[0;34m:\u001b[0m\u001b[0;34m\u001b[0m\u001b[0;34m\u001b[0m\u001b[0m\n\u001b[1;32m    600\u001b[0m           outputs = execute.execute_with_cancellation(\n",
            "\u001b[0;32m/usr/local/lib/python3.6/dist-packages/tensorflow/python/eager/execute.py\u001b[0m in \u001b[0;36mquick_execute\u001b[0;34m(op_name, num_outputs, inputs, attrs, ctx, name)\u001b[0m\n\u001b[1;32m     58\u001b[0m     \u001b[0mctx\u001b[0m\u001b[0;34m.\u001b[0m\u001b[0mensure_initialized\u001b[0m\u001b[0;34m(\u001b[0m\u001b[0;34m)\u001b[0m\u001b[0;34m\u001b[0m\u001b[0;34m\u001b[0m\u001b[0m\n\u001b[1;32m     59\u001b[0m     tensors = pywrap_tfe.TFE_Py_Execute(ctx._handle, device_name, op_name,\n\u001b[0;32m---> 60\u001b[0;31m                                         inputs, attrs, num_outputs)\n\u001b[0m\u001b[1;32m     61\u001b[0m   \u001b[0;32mexcept\u001b[0m \u001b[0mcore\u001b[0m\u001b[0;34m.\u001b[0m\u001b[0m_NotOkStatusException\u001b[0m \u001b[0;32mas\u001b[0m \u001b[0me\u001b[0m\u001b[0;34m:\u001b[0m\u001b[0;34m\u001b[0m\u001b[0;34m\u001b[0m\u001b[0m\n\u001b[1;32m     62\u001b[0m     \u001b[0;32mif\u001b[0m \u001b[0mname\u001b[0m \u001b[0;32mis\u001b[0m \u001b[0;32mnot\u001b[0m \u001b[0;32mNone\u001b[0m\u001b[0;34m:\u001b[0m\u001b[0;34m\u001b[0m\u001b[0;34m\u001b[0m\u001b[0m\n",
            "\u001b[0;31mKeyboardInterrupt\u001b[0m: "
          ]
        }
      ]
    },
    {
      "cell_type": "code",
      "metadata": {
        "id": "HRIYBGNXCVHe",
        "colab_type": "code",
        "colab": {
          "base_uri": "https://localhost:8080/",
          "height": 313
        },
        "outputId": "2d847971-c10a-4c55-f0dd-953f2fb25464"
      },
      "source": [
        "import matplotlib.pyplot as plt\n",
        "\n",
        "plt.xlabel(\"EPOCHS\")\n",
        "plt.ylabel(\"ACCURACY\")\n",
        "plt.plot(MODEL.history[\"accuracy\"])\n",
        "# plt.plot(MODEL.history[\"val_accuracy\"])\n",
        "# plt.legend(['accuracy','val_accuracy'])\n",
        "plt.title(\"accuray vs epochs\")\n"
      ],
      "execution_count": 100,
      "outputs": [
        {
          "output_type": "execute_result",
          "data": {
            "text/plain": [
              "Text(0.5, 1.0, 'accuray vs epochs')"
            ]
          },
          "metadata": {
            "tags": []
          },
          "execution_count": 100
        },
        {
          "output_type": "display_data",
          "data": {
            "image/png": "[encoded data removed]",
            "text/plain": [
              "<Figure size 432x288 with 1 Axes>"
            ]
          },
          "metadata": {
            "tags": [],
            "needs_background": "light"
          }
        }
      ]
    },
    {
      "cell_type": "code",
      "metadata": {
        "id": "J9JtujY9XGSe",
        "colab_type": "code",
        "colab": {
          "base_uri": "https://localhost:8080/",
          "height": 313
        },
        "outputId": "cb68faab-7a1d-49b3-b795-1a1fefe71da0"
      },
      "source": [
        "\n",
        "plt.xlabel(\"EPOCHS\")\n",
        "plt.ylabel(\"LOSS\")\n",
        "plt.plot(MODEL.history[\"loss\"])\n",
        "# plt.plot(MODEL.history[\"val_loss\"])\n",
        "# plt.legend([\"loss\",\"val_loss\"])\n",
        "plt.title(\"loss  vs epochs\")"
      ],
      "execution_count": 101,
      "outputs": [
        {
          "output_type": "execute_result",
          "data": {
            "text/plain": [
              "Text(0.5, 1.0, 'loss  vs epochs')"
            ]
          },
          "metadata": {
            "tags": []
          },
          "execution_count": 101
        },
        {
          "output_type": "display_data",
          "data": {
            "image/png": "[encoded data removed]",
            "text/plain": [
              "<Figure size 432x288 with 1 Axes>"
            ]
          },
          "metadata": {
            "tags": [],
            "needs_background": "light"
          }
        }
      ]
    },
    {
      "cell_type": "code",
      "metadata": {
        "id": "myO4mCgEhPcG",
        "colab_type": "code",
        "colab": {}
      },
      "source": [
        "reverse_word_index = dict([(value, key) for (key, value) in word_index.items()])"
      ],
      "execution_count": 0,
      "outputs": []
    },
    {
      "cell_type": "code",
      "metadata": {
        "id": "XVKefJDOwqPY",
        "colab_type": "code",
        "colab": {
          "base_uri": "https://localhost:8080/",
          "height": 35
        },
        "outputId": "30163e8e-bf6c-464a-baab-fae32b5dff24"
      },
      "source": [
        "e = model.layers[0]\n",
        "weights = e.get_weights()[0]\n",
        "print(weights.shape)"
      ],
      "execution_count": 103,
      "outputs": [
        {
          "output_type": "stream",
          "text": [
            "(10000, 32)\n"
          ],
          "name": "stdout"
        }
      ]
    },
    {
      "cell_type": "code",
      "metadata": {
        "id": "VHIThrxYwwgU",
        "colab_type": "code",
        "colab": {}
      },
      "source": [
        "import io\n",
        "\n",
        "out_v = io.open('vecs.tsv', 'w', encoding='utf-8')\n",
        "out_m = io.open('meta.tsv', 'w', encoding='utf-8')\n",
        "for word_num in range(1, vocab_size):\n",
        "  word = reverse_word_index[word_num]\n",
        "  embeddings = weights[word_num]\n",
        "  out_m.write(word + \"\\n\")\n",
        "  out_v.write('\\t'.join([str(x) for x in embeddings]) + \"\\n\")\n",
        "out_v.close()\n",
        "out_m.close()"
      ],
      "execution_count": 0,
      "outputs": []
    },
    {
      "cell_type": "code",
      "metadata": {
        "id": "gU0RjH62wzRj",
        "colab_type": "code",
        "colab": {}
      },
      "source": [
        "try:\n",
        "  from google.colab import files\n",
        "except ImportError:\n",
        "  pass\n",
        "else:\n",
        "  files.download('vecs.tsv')\n",
        "  files.download('meta.tsv')"
      ],
      "execution_count": 0,
      "outputs": []
    },
    {
      "cell_type": "code",
      "metadata": {
        "id": "C0paj6fgw1eK",
        "colab_type": "code",
        "colab": {}
      },
      "source": [
        "def cosine_similarity(u, v): \n",
        "    distance = 0.0\n",
        "    dot = np.dot(u,v.T)\n",
        "\n",
        "    norm_u = np.sqrt(np.dot(u,u.T))\n",
        "    norm_v = np.sqrt(np.dot(v,v.T))\n",
        "    cosine_similarity = dot/(norm_u*norm_v)\n",
        "    \n",
        "    return cosine_similarity"
      ],
      "execution_count": 0,
      "outputs": []
    },
    {
      "cell_type": "code",
      "metadata": {
        "id": "Pvt_4K9dx7o_",
        "colab_type": "code",
        "colab": {
          "base_uri": "https://localhost:8080/",
          "height": 71
        },
        "outputId": "c82285c2-5a13-4b9c-9361-80b3a8fecf55"
      },
      "source": [
        "father = weights[word_index[\"father\"],:]\n",
        "mother = weights[word_index[\"mother\"],:]\n",
        "ball = weights[word_index[\"ball\"],:]\n",
        "crocodile = weights[word_index[\"crocodile\"],:]\n",
        "france = weights[word_index[\"france\"],:]\n",
        "italy = weights[word_index[\"italy\"],:]\n",
        "paris = weights[word_index[\"paris\"],:]\n",
        "rome = weights[word_index[\"rome\"],:]\n",
        "\n",
        "print(\"cosine_similarity(father, mother) = \", cosine_similarity(father, mother))\n",
        "print(\"cosine_similarity(ball, crocodile) = \",cosine_similarity(ball, crocodile))\n",
        "print(\"cosine_similarity(france - paris, rome - italy) = \",cosine_similarity(france - paris, rome - italy))"
      ],
      "execution_count": 113,
      "outputs": [
        {
          "output_type": "stream",
          "text": [
            "cosine_similarity(father, mother) =  0.6104168\n",
            "cosine_similarity(ball, crocodile) =  0.40503135\n",
            "cosine_similarity(france - paris, rome - italy) =  -0.034147024\n"
          ],
          "name": "stdout"
        }
      ]
    },
    {
      "cell_type": "code",
      "metadata": {
        "id": "4kr_ma6tyeMW",
        "colab_type": "code",
        "colab": {}
      },
      "source": [
        "# GRADED FUNCTION: complete_analogy\n",
        "\n",
        "def complete_analogy(word_a, word_b, word_c, word_to_vec_map):\n",
        "    \"\"\"\n",
        "    Performs the word analogy task as explained above: a is to b as c is to ____. \n",
        "    \n",
        "    Arguments:\n",
        "    word_a -- a word, string\n",
        "    word_b -- a word, string\n",
        "    word_c -- a word, string\n",
        "    word_to_vec_map -- dictionary that maps words to their corresponding vectors. \n",
        "    \n",
        "    Returns:\n",
        "    best_word --  the word such that v_b - v_a is close to v_best_word - v_c, as measured by cosine similarity\n",
        "    \"\"\"\n",
        "    \n",
        "    # convert words to lowercase\n",
        "    word_a, word_b, word_c = word_a.lower(), word_b.lower(), word_c.lower()\n",
        "    \n",
        "    ### START CODE HERE ###\n",
        "    # Get the word embeddings e_a, e_b and e_c (≈1-3 lines)\n",
        "    e_a, e_b, e_c = weights[word_index[word_a],:] , weights[word_index[word_b],:] , weights[word_index[word_c],:]\n",
        "    ### END CODE HERE ###\n",
        "    \n",
        "    words = word_index.keys()\n",
        "    max_cosine_sim = -100              # Initialize max_cosine_sim to a large negative number\n",
        "    best_word = None                   # Initialize best_word with None, it will help keep track of the word to output\n",
        "\n",
        "    # to avoid best_word being one of the input words, skip the input words\n",
        "    # place the input words in a set for faster searching than a list\n",
        "    # We will re-use this set of input words inside the for-loop\n",
        "    input_words_set = set([word_a, word_b, word_c])\n",
        "    \n",
        "    # loop over the whole word vector set\n",
        "    for w in words:        \n",
        "        # to avoid best_word being one of the input words, skip the input words\n",
        "        if w in input_words_set:\n",
        "            continue\n",
        "        if word_index[w] >= 10000:\n",
        "          continue\n",
        "        \n",
        "        ### START CODE HERE ###\n",
        "        # Compute cosine similarity between the vector (e_b - e_a) and the vector ((w's vector representation) - e_c)  (≈1 line)\n",
        "        cosine_sim = cosine_similarity(e_b-e_a,weights[word_index[w],:]-e_c)\n",
        "        \n",
        "        # If the cosine_sim is more than the max_cosine_sim seen so far,\n",
        "            # then: set the new max_cosine_sim to the current cosine_sim and the best_word to the current word (≈3 lines)\n",
        "        if cosine_sim > max_cosine_sim:\n",
        "            max_cosine_sim = cosine_sim\n",
        "            best_word = w\n",
        "        ### END CODE HERE ###\n",
        "        \n",
        "    return best_word"
      ],
      "execution_count": 0,
      "outputs": []
    },
    {
      "cell_type": "code",
      "metadata": {
        "id": "9Bl06yDBzYW4",
        "colab_type": "code",
        "colab": {
          "base_uri": "https://localhost:8080/",
          "height": 89
        },
        "outputId": "25201a25-e091-40b4-f719-0c0cb1a93e83"
      },
      "source": [
        "triads_to_try = [('italy', 'italian', 'spain'), ('india', 'mumbai', 'japan'), ('man', 'woman', 'boy'), ('small', 'smaller', 'large')]\n",
        "for triad in triads_to_try:\n",
        "    print ('{} -> {} :: {} -> {}'.format( *triad, complete_analogy(*triad,word_index)))"
      ],
      "execution_count": 134,
      "outputs": [
        {
          "output_type": "stream",
          "text": [
            "italy -> italian :: spain -> silent\n",
            "india -> mumbai :: japan -> values\n",
            "man -> woman :: boy -> twists\n",
            "small -> smaller :: large -> there\n"
          ],
          "name": "stdout"
        }
      ]
    },
    {
      "cell_type": "code",
      "metadata": {
        "id": "9BCK7TubzzBi",
        "colab_type": "code",
        "colab": {}
      },
      "source": [
        ""
      ],
      "execution_count": 0,
      "outputs": []
    }
  ]
}