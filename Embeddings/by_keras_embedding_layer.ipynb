{
  "nbformat": 4,
  "nbformat_minor": 0,
  "metadata": {
    "colab": {
      "name": "by_keras_embedding_layer.ipynb",
      "provenance": []
    },
    "kernelspec": {
      "name": "python3",
      "display_name": "Python 3"
    }
  },
  "cells": [
    {
      "cell_type": "code",
      "metadata": {
        "id": "rzjm82ZMBxMv",
        "colab_type": "code",
        "colab": {
          "base_uri": "https://localhost:8080/",
          "height": 127
        },
        "outputId": "3799791d-9240-4d89-e29f-911478740dae"
      },
      "source": [
        "from google.colab import drive\n",
        "drive.mount('/content/gdrive')"
      ],
      "execution_count": 1,
      "outputs": [
        {
          "output_type": "stream",
          "text": [
            "Go to this URL in a browser: https://accounts.google.com/o/oauth2/auth?client_id=947318989803-6bn6qk8qdgf4n4g3pfee6491hc0brc4i.apps.googleusercontent.com&redirect_uri=urn%3aietf%3awg%3aoauth%3a2.0%3aoob&response_type=code&scope=email%20https%3a%2f%2fwww.googleapis.com%2fauth%2fdocs.test%20https%3a%2f%2fwww.googleapis.com%2fauth%2fdrive%20https%3a%2f%2fwww.googleapis.com%2fauth%2fdrive.photos.readonly%20https%3a%2f%2fwww.googleapis.com%2fauth%2fpeopleapi.readonly\n",
            "\n",
            "Enter your authorization code:\n",
            "··········\n",
            "Mounted at /content/gdrive\n"
          ],
          "name": "stdout"
        }
      ]
    },
    {
      "cell_type": "code",
      "metadata": {
        "id": "qMRQg0YhCGdW",
        "colab_type": "code",
        "colab": {}
      },
      "source": [
        "import csv\n",
        "import io\n",
        "import pandas as pd\n",
        "import numpy as np\n",
        "import matplotlib.pyplot as plt\n",
        "import re\n",
        "import nltk\n",
        "import spacy\n",
        "from bs4 import BeautifulSoup\n",
        "import time"
      ],
      "execution_count": 0,
      "outputs": []
    },
    {
      "cell_type": "code",
      "metadata": {
        "id": "segbydxUChTd",
        "colab_type": "code",
        "colab": {
          "base_uri": "https://localhost:8080/",
          "height": 53
        },
        "outputId": "e15d1e1b-d2d8-4a9d-88ba-3816bfe17eff"
      },
      "source": [
        "import tensorflow as tf\n",
        "print(tf.__version__)\n",
        "\n",
        "import numpy as np\n",
        "from keras.preprocessing import sequence\n",
        "from keras.models import Sequential, Model\n",
        "from keras.layers import Dense, Embedding , Activation, LSTM \n",
        "from keras.initializers import glorot_uniform\n",
        "from keras.utils import to_categorical\n",
        "from keras.optimizers import Adam\n",
        "from keras import backend as K\n",
        "from keras.layers import Input,Lambda,Reshape"
      ],
      "execution_count": 3,
      "outputs": [
        {
          "output_type": "stream",
          "text": [
            "2.2.0\n"
          ],
          "name": "stdout"
        },
        {
          "output_type": "stream",
          "text": [
            "Using TensorFlow backend.\n"
          ],
          "name": "stderr"
        }
      ]
    },
    {
      "cell_type": "code",
      "metadata": {
        "id": "FARvc_oRCjsM",
        "colab_type": "code",
        "colab": {
          "base_uri": "https://localhost:8080/",
          "height": 71
        },
        "outputId": "4819d46d-d6f7-47d6-9e55-8bc0e95ee3ca"
      },
      "source": [
        "file_1 = \"/content/gdrive/My Drive/data/data.csv\"\n",
        "nltk.download('stopwords')"
      ],
      "execution_count": 4,
      "outputs": [
        {
          "output_type": "stream",
          "text": [
            "[nltk_data] Downloading package stopwords to /root/nltk_data...\n",
            "[nltk_data]   Unzipping corpora/stopwords.zip.\n"
          ],
          "name": "stdout"
        },
        {
          "output_type": "execute_result",
          "data": {
            "text/plain": [
              "True"
            ]
          },
          "metadata": {
            "tags": []
          },
          "execution_count": 4
        }
      ]
    },
    {
      "cell_type": "code",
      "metadata": {
        "id": "NsWjlQIzCuGF",
        "colab_type": "code",
        "colab": {
          "base_uri": "https://localhost:8080/",
          "height": 55
        },
        "outputId": "c9e845c8-a6ce-47b3-c4f0-35c6eb5dcce2"
      },
      "source": [
        "from nltk.corpus import stopwords\n",
        "stopWords = set(stopwords.words('english'))\n",
        "print(stopWords)\n",
        "\n",
        "also_remove = ['  ' , '.' , '..' , '...' , '[' , ']', '}', '{', '(' , ')' ,',']"
      ],
      "execution_count": 5,
      "outputs": [
        {
          "output_type": "stream",
          "text": [
            "{'here', 'nor', 'mustn', 'yourself', 'yours', 'hers', 'have', \"shouldn't\", 'against', 'don', 'am', \"hasn't\", \"you've\", 'they', 'same', \"that'll\", \"couldn't\", 'for', 'too', 'out', 'we', 'her', 'under', 'until', 'this', 'ma', 'few', 'are', 'theirs', 'couldn', \"you'd\", 'about', \"wasn't\", 'and', \"isn't\", \"won't\", 'before', 'it', 'if', 'while', 'all', 'he', 'ain', \"it's\", 'm', 'their', 'those', \"aren't\", 'so', 'will', 'when', 'over', 'isn', 'on', 'some', \"doesn't\", 'why', 'weren', 'more', 'd', 'is', 'own', 'me', 'can', 're', 'haven', 'as', 'll', 'had', \"wouldn't\", 'whom', 'she', 'your', 'hadn', \"needn't\", 'was', 'any', 'during', 'been', 'what', 'being', 'again', \"weren't\", 'most', 'wouldn', 'above', 'them', 'shan', \"mightn't\", 'hasn', \"you're\", 'him', 'each', 'of', 'off', 'didn', 'at', 'myself', \"mustn't\", 'a', 'an', 'but', 've', 'between', \"hadn't\", 'after', 'with', \"didn't\", 'its', 'further', 'or', 'o', 'were', 'herself', 'ours', 'i', \"she's\", 'themselves', 'once', 'who', 'that', 'not', \"should've\", 'these', 'itself', 'from', 'to', 'where', 'because', 'y', 'does', 's', 'very', 'no', 'needn', 'down', 'shouldn', 'ourselves', 'just', 'you', 'our', 'then', 'aren', 'how', 'yourselves', 'than', 'doesn', 'through', 'below', 'won', 'should', 'my', 'both', 'do', 'now', 'other', 'did', \"haven't\", 'which', \"don't\", 'in', 't', \"shan't\", 'by', 'up', 'the', 'be', 'such', 'wasn', 'mightn', 'into', 'only', \"you'll\", 'his', 'having', 'doing', 'himself', 'there', 'has'}\n"
          ],
          "name": "stdout"
        }
      ]
    },
    {
      "cell_type": "code",
      "metadata": {
        "id": "pblwKrOOCx7p",
        "colab_type": "code",
        "colab": {
          "base_uri": "https://localhost:8080/",
          "height": 35
        },
        "outputId": "5be8ff47-0805-452a-96e3-457e0668bdee"
      },
      "source": [
        "reviews = []\n",
        "labels = []\n",
        "\n",
        "start_time = time.time()\n",
        "\n",
        "with open(file_1 , 'r') as csvfile:\n",
        "  reader = csv.reader(csvfile , delimiter = ',')\n",
        "  next(reader)\n",
        "  for row in reader:\n",
        "    if row[1] == \"positive\": labels.append(1)\n",
        "    if row[1] == \"negative\" : labels.append(0)\n",
        "    # labels.append(row[1])\n",
        "    review = row[0].lower()\n",
        "    BeautifulSoup(review, \"lxml\")                                               #remove html tags\n",
        "    review = review.replace('[^\\w\\s]','')                                       #remove puntuations\n",
        "    review = review.replace(\"<br /><br />\",\" \")                                 #remove particular tags\n",
        "    review = \"\".join([i for i in review if not i.isdigit()])                    #remove_digits\n",
        "    for word in stopWords:                                                      #remove stopwords\n",
        "      stopword = \" \" + word + \" \"\n",
        "      review = review.replace(stopword , \" \")\n",
        "    for i in also_remove:\n",
        "      review = review.replace(i,\"\")\n",
        "    reviews.append(review)\n",
        "\n",
        "print(f'Time taken : {(time.time() - start_time) / 60:.2f} mins')"
      ],
      "execution_count": 6,
      "outputs": [
        {
          "output_type": "stream",
          "text": [
            "Time taken : 0.75 mins\n"
          ],
          "name": "stdout"
        }
      ]
    },
    {
      "cell_type": "code",
      "metadata": {
        "id": "G3f9YbtxC0XX",
        "colab_type": "code",
        "colab": {
          "base_uri": "https://localhost:8080/",
          "height": 35
        },
        "outputId": "cdaa1098-73dc-4cc8-aa6c-fae98b0506ac"
      },
      "source": [
        "reviews = np.array(reviews)\n",
        "labels = np.array(labels)\n",
        "\n",
        "print('len', type(labels[0]))\n",
        "training_sentences = reviews[:40000]\n",
        "testing_sentences = np.array(reviews[40000:])\n",
        "\n",
        "training_labels_final = np.array(labels[:40000])\n",
        "testing_labels_final = np.array(labels[40000:])"
      ],
      "execution_count": 8,
      "outputs": [
        {
          "output_type": "stream",
          "text": [
            "len <class 'numpy.int64'>\n"
          ],
          "name": "stdout"
        }
      ]
    },
    {
      "cell_type": "code",
      "metadata": {
        "id": "Fver6OGbDAg5",
        "colab_type": "code",
        "colab": {
          "base_uri": "https://localhost:8080/",
          "height": 665
        },
        "outputId": "41e3b02c-daeb-483a-9f43-fb90bfe666c7"
      },
      "source": [
        "vocab_size = 10000\n",
        "embedding_dim = 16\n",
        "max_length = 120\n",
        "trunc_type='post'\n",
        "oov_tok = \"<OOV>\"\n",
        "\n",
        "\n",
        "from tensorflow.keras.preprocessing.text import Tokenizer\n",
        "from tensorflow.keras.preprocessing.sequence import pad_sequences\n",
        "\n",
        "tokenizer = Tokenizer(num_words = vocab_size, oov_token=oov_tok)\n",
        "tokenizer.fit_on_texts(training_sentences)\n",
        "word_index = tokenizer.word_index\n",
        "sequences = tokenizer.texts_to_sequences(training_sentences)\n",
        "padded = pad_sequences(sequences,maxlen=max_length, truncating=trunc_type)\n",
        "\n",
        "testing_sequences = tokenizer.texts_to_sequences(testing_sentences)\n",
        "testing_padded = pad_sequences(testing_sequences,maxlen=max_length)\n",
        "model = tf.keras.Sequential([\n",
        "    tf.keras.layers.Embedding(vocab_size, embedding_dim, input_length=max_length),\n",
        "    tf.keras.layers.Flatten(),\n",
        "    # tf.keras.layers.LSTM(units = 128,return_sequences = True),\n",
        "    # tf.keras.layers.Dropout(rate=0.5),\n",
        "    # tf.keras.layers.LSTM(units =128 ,return_sequences = True),\n",
        "    # tf.keras.layers.Dropout(rate = 0.5),\n",
        "    tf.keras.layers.Dense(6, activation='relu'),\n",
        "    tf.keras.layers.Dense(1, activation='sigmoid')\n",
        "])\n",
        "model.compile(loss='binary_crossentropy',optimizer='adam',metrics=['accuracy'])\n",
        "model.summary()\n",
        "\n",
        "num_epochs = 10\n",
        "MODEL = model.fit(padded, training_labels_final, epochs=num_epochs, validation_data=(testing_padded, testing_labels_final))"
      ],
      "execution_count": 9,
      "outputs": [
        {
          "output_type": "stream",
          "text": [
            "Model: \"sequential\"\n",
            "_________________________________________________________________\n",
            "Layer (type)                 Output Shape              Param #   \n",
            "=================================================================\n",
            "embedding (Embedding)        (None, 120, 16)           160000    \n",
            "_________________________________________________________________\n",
            "flatten (Flatten)            (None, 1920)              0         \n",
            "_________________________________________________________________\n",
            "dense (Dense)                (None, 6)                 11526     \n",
            "_________________________________________________________________\n",
            "dense_1 (Dense)              (None, 1)                 7         \n",
            "=================================================================\n",
            "Total params: 171,533\n",
            "Trainable params: 171,533\n",
            "Non-trainable params: 0\n",
            "_________________________________________________________________\n",
            "Epoch 1/10\n",
            "1250/1250 [==============================] - 5s 4ms/step - loss: 0.3946 - accuracy: 0.8081 - val_loss: 0.2833 - val_accuracy: 0.8810\n",
            "Epoch 2/10\n",
            "1250/1250 [==============================] - 5s 4ms/step - loss: 0.2007 - accuracy: 0.9238 - val_loss: 0.3027 - val_accuracy: 0.8751\n",
            "Epoch 3/10\n",
            "1250/1250 [==============================] - 5s 4ms/step - loss: 0.0774 - accuracy: 0.9773 - val_loss: 0.3937 - val_accuracy: 0.8650\n",
            "Epoch 4/10\n",
            "1250/1250 [==============================] - 5s 4ms/step - loss: 0.0172 - accuracy: 0.9971 - val_loss: 0.4884 - val_accuracy: 0.8648\n",
            "Epoch 5/10\n",
            "1250/1250 [==============================] - 5s 4ms/step - loss: 0.0030 - accuracy: 0.9998 - val_loss: 0.5691 - val_accuracy: 0.8645\n",
            "Epoch 6/10\n",
            "1250/1250 [==============================] - 5s 4ms/step - loss: 7.2954e-04 - accuracy: 1.0000 - val_loss: 0.6223 - val_accuracy: 0.8662\n",
            "Epoch 7/10\n",
            "1250/1250 [==============================] - 5s 4ms/step - loss: 2.9929e-04 - accuracy: 1.0000 - val_loss: 0.6735 - val_accuracy: 0.8685\n",
            "Epoch 8/10\n",
            "1250/1250 [==============================] - 5s 4ms/step - loss: 1.3019e-04 - accuracy: 1.0000 - val_loss: 0.7238 - val_accuracy: 0.8671\n",
            "Epoch 9/10\n",
            "1250/1250 [==============================] - 5s 4ms/step - loss: 6.2115e-05 - accuracy: 1.0000 - val_loss: 0.7717 - val_accuracy: 0.8672\n",
            "Epoch 10/10\n",
            "1250/1250 [==============================] - 5s 4ms/step - loss: 2.9419e-05 - accuracy: 1.0000 - val_loss: 0.8211 - val_accuracy: 0.8676\n"
          ],
          "name": "stdout"
        }
      ]
    },
    {
      "cell_type": "code",
      "metadata": {
        "id": "bumLUHoUDV72",
        "colab_type": "code",
        "colab": {
          "base_uri": "https://localhost:8080/",
          "height": 313
        },
        "outputId": "f67ed8b5-c6da-4c8c-cd4d-3ee7a5ded758"
      },
      "source": [
        "import matplotlib.pyplot as plt\n",
        "\n",
        "plt.xlabel(\"EPOCHS\")\n",
        "plt.ylabel(\"ACCURACY\")\n",
        "plt.plot(MODEL.history[\"accuracy\"])\n",
        "plt.plot(MODEL.history[\"val_accuracy\"])\n",
        "plt.legend(['accuracy','val_accuracy'])\n",
        "plt.title(\"accuray vs epochs\")\n"
      ],
      "execution_count": 10,
      "outputs": [
        {
          "output_type": "execute_result",
          "data": {
            "text/plain": [
              "Text(0.5, 1.0, 'accuray vs epochs')"
            ]
          },
          "metadata": {
            "tags": []
          },
          "execution_count": 10
        },
        {
          "output_type": "display_data",
          "data": {
            "image/png": "[encoded data removed]",
            "text/plain": [
              "<Figure size 432x288 with 1 Axes>"
            ]
          },
          "metadata": {
            "tags": [],
            "needs_background": "light"
          }
        }
      ]
    },
    {
      "cell_type": "code",
      "metadata": {
        "id": "aEH5G38VDRVx",
        "colab_type": "code",
        "colab": {
          "base_uri": "https://localhost:8080/",
          "height": 313
        },
        "outputId": "beb534fe-af23-4a07-b149-aeb4e3adc0ff"
      },
      "source": [
        "plt.xlabel(\"EPOCHS\")\n",
        "plt.ylabel(\"LOSS\")\n",
        "plt.plot(MODEL.history[\"loss\"])\n",
        "plt.plot(MODEL.history[\"val_loss\"])\n",
        "plt.legend([\"loss\",\"val_loss\"])\n",
        "plt.title(\"loss  vs epochs\")"
      ],
      "execution_count": 12,
      "outputs": [
        {
          "output_type": "execute_result",
          "data": {
            "text/plain": [
              "Text(0.5, 1.0, 'loss  vs epochs')"
            ]
          },
          "metadata": {
            "tags": []
          },
          "execution_count": 12
        },
        {
          "output_type": "display_data",
          "data": {
            "image/png": "[encoded data removed]",
            "text/plain": [
              "<Figure size 432x288 with 1 Axes>"
            ]
          },
          "metadata": {
            "tags": [],
            "needs_background": "light"
          }
        }
      ]
    },
    {
      "cell_type": "code",
      "metadata": {
        "id": "s7aTDtbiDWiQ",
        "colab_type": "code",
        "colab": {}
      },
      "source": [
        ""
      ],
      "execution_count": 0,
      "outputs": []
    }
  ]
}