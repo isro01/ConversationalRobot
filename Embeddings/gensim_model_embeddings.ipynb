{
  "nbformat": 4,
  "nbformat_minor": 0,
  "metadata": {
    "colab": {
      "name": "gensim_model_embeddings.ipynb",
      "provenance": [],
      "collapsed_sections": []
    },
    "kernelspec": {
      "name": "python3",
      "display_name": "Python 3"
    }
  },
  "cells": [
    {
      "cell_type": "code",
      "metadata": {
        "id": "Gbz4p7mhEK00",
        "colab_type": "code",
        "colab": {
          "base_uri": "https://localhost:8080/",
          "height": 127
        },
        "outputId": "db0c460c-49a7-4be3-e90f-5b9d66523e06"
      },
      "source": [
        "from google.colab import drive\n",
        "drive.mount('/content/gdrive')"
      ],
      "execution_count": 1,
      "outputs": [
        {
          "output_type": "stream",
          "text": [
            "Go to this URL in a browser: https://accounts.google.com/o/oauth2/auth?client_id=947318989803-6bn6qk8qdgf4n4g3pfee6491hc0brc4i.apps.googleusercontent.com&redirect_uri=urn%3aietf%3awg%3aoauth%3a2.0%3aoob&response_type=code&scope=email%20https%3a%2f%2fwww.googleapis.com%2fauth%2fdocs.test%20https%3a%2f%2fwww.googleapis.com%2fauth%2fdrive%20https%3a%2f%2fwww.googleapis.com%2fauth%2fdrive.photos.readonly%20https%3a%2f%2fwww.googleapis.com%2fauth%2fpeopleapi.readonly\n",
            "\n",
            "Enter your authorization code:\n",
            "··········\n",
            "Mounted at /content/gdrive\n"
          ],
          "name": "stdout"
        }
      ]
    },
    {
      "cell_type": "code",
      "metadata": {
        "id": "K7yTrC7vET8d",
        "colab_type": "code",
        "colab": {
          "base_uri": "https://localhost:8080/",
          "height": 53
        },
        "outputId": "aa496f44-c61c-4eda-b62a-3ed70d1b17da"
      },
      "source": [
        "import csv\n",
        "import io\n",
        "import pandas as pd\n",
        "import numpy as np\n",
        "import matplotlib.pyplot as plt\n",
        "import re\n",
        "import nltk\n",
        "import spacy\n",
        "from bs4 import BeautifulSoup\n",
        "import time\n",
        "\n",
        "import tensorflow as tf\n",
        "print(tf.__version__)\n",
        "\n",
        "import numpy as np\n",
        "from keras.preprocessing import sequence\n",
        "from keras.models import Sequential, Model\n",
        "from keras.layers import Dense, Embedding , Activation, LSTM \n",
        "from keras.initializers import glorot_uniform\n",
        "from keras.utils import to_categorical\n",
        "from keras.optimizers import Adam\n",
        "from keras import backend as K\n",
        "from keras.layers import Input,Lambda,Reshape"
      ],
      "execution_count": 2,
      "outputs": [
        {
          "output_type": "stream",
          "text": [
            "2.2.0\n"
          ],
          "name": "stdout"
        },
        {
          "output_type": "stream",
          "text": [
            "Using TensorFlow backend.\n"
          ],
          "name": "stderr"
        }
      ]
    },
    {
      "cell_type": "code",
      "metadata": {
        "id": "tb8ZzwsBElhL",
        "colab_type": "code",
        "colab": {
          "base_uri": "https://localhost:8080/",
          "height": 71
        },
        "outputId": "4342d21a-ec30-4058-aa3b-95c8767a9013"
      },
      "source": [
        "file_1 = \"/content/gdrive/My Drive/data/data.csv\"\n",
        "file_2 = \"/content/gdrive/My Drive/data/people_wiki.csv\"\n",
        "nltk.download('stopwords')"
      ],
      "execution_count": 9,
      "outputs": [
        {
          "output_type": "stream",
          "text": [
            "[nltk_data] Downloading package stopwords to /root/nltk_data...\n",
            "[nltk_data]   Package stopwords is already up-to-date!\n"
          ],
          "name": "stdout"
        },
        {
          "output_type": "execute_result",
          "data": {
            "text/plain": [
              "True"
            ]
          },
          "metadata": {
            "tags": []
          },
          "execution_count": 9
        }
      ]
    },
    {
      "cell_type": "code",
      "metadata": {
        "id": "XiMyp-YNEofW",
        "colab_type": "code",
        "colab": {
          "base_uri": "https://localhost:8080/",
          "height": 55
        },
        "outputId": "1987b5a5-bb7a-4a78-f1e6-7b875c977db1"
      },
      "source": [
        "from nltk.corpus import stopwords\n",
        "stopWords = set(stopwords.words('english'))\n",
        "print(stopWords)\n",
        "\n",
        "also_remove = ['  ' , '.' , '..' , '...' , '[' , ']', '}', '{', '(' , ')' ,',']"
      ],
      "execution_count": 10,
      "outputs": [
        {
          "output_type": "stream",
          "text": [
            "{'of', 'he', 'him', 'again', \"won't\", 'having', 'doesn', 'at', \"weren't\", 'did', 'should', \"needn't\", 'being', 'and', 'where', 'then', 'were', 'ma', 'as', 'some', 'very', 'same', 'above', 're', 'itself', \"couldn't\", 'their', 'is', 'but', 'after', 'for', \"don't\", \"haven't\", 'o', \"you're\", 'whom', 'ours', 'most', 'can', 'own', 'more', 'it', 'them', 'below', 'yourself', 'before', 'once', 'why', 'was', 'have', 'will', 'weren', 'while', \"mustn't\", 'a', 'just', 'y', 'out', 'has', 'down', 'nor', 'mustn', 'with', 'she', 'further', 't', 'about', 'who', 'doing', 'on', 'shan', \"hasn't\", 'couldn', \"you'll\", 'hadn', 'm', 'hasn', 'any', 'needn', 'her', 'himself', 'if', 'theirs', 'there', 'how', 'than', 'that', 'between', 'its', \"shan't\", \"shouldn't\", 'aren', 'your', 'i', 'an', \"mightn't\", \"doesn't\", 'these', \"that'll\", \"aren't\", 'into', 'ourselves', 'now', 'such', 'other', 'didn', 'too', \"should've\", \"wouldn't\", \"she's\", \"hadn't\", 'hers', 'themselves', 'won', 'we', 'which', 'to', 'yourselves', 'in', 'haven', 'wasn', 'herself', 'through', 'over', 'don', \"it's\", 'not', 'been', 'under', 'my', 'his', 'isn', 'you', 'until', 'll', 'wouldn', \"didn't\", 'our', 'what', 'all', 'so', 've', 'here', 'or', 'each', 'do', 'yours', \"you'd\", 'when', 'against', 'from', 'few', 'both', 'mightn', 'ain', \"isn't\", 's', 'this', 'because', 'during', \"you've\", 'by', 'are', 'd', 'those', 'am', 'off', \"wasn't\", 'myself', 'they', 'be', 'does', 'shouldn', 'only', 'no', 'up', 'me', 'the', 'had'}\n"
          ],
          "name": "stdout"
        }
      ]
    },
    {
      "cell_type": "code",
      "metadata": {
        "id": "4WlARaxgErwr",
        "colab_type": "code",
        "colab": {
          "base_uri": "https://localhost:8080/",
          "height": 35
        },
        "outputId": "a4cb0e06-3607-42dd-fe7c-b6c7b0fcf6bb"
      },
      "source": [
        "reviews = []\n",
        "labels = []\n",
        "\n",
        "start_time = time.time()\n",
        "\n",
        "with open(file_1 , 'r') as csvfile:\n",
        "  reader = csv.reader(csvfile , delimiter = ',')\n",
        "  next(reader)\n",
        "  for row in reader:\n",
        "    if row[1] == \"positive\": labels.append(1)\n",
        "    if row[1] == \"negative\" : labels.append(0)\n",
        "    # labels.append(row[1])\n",
        "    review = row[0].lower()\n",
        "    BeautifulSoup(review, \"lxml\")                                               #remove html tags\n",
        "    review = review.replace('[^\\w\\s]','')                                       #remove puntuations\n",
        "    review = review.replace(\"<br /><br />\",\" \")                                 #remove particular tags\n",
        "    review = \"\".join([i for i in review if not i.isdigit()])                    #remove_digits\n",
        "    for word in stopWords:                                                      #remove stopwords\n",
        "      stopword = \" \" + word + \" \"\n",
        "      review = review.replace(stopword , \" \")\n",
        "    for i in also_remove:\n",
        "      review = review.replace(i,\"\")\n",
        "    reviews.append(review)\n",
        "with open(file_2 , 'r') as csvfile:\n",
        "  reader = csv.reader(csvfile , delimiter = ',')\n",
        "  next(reader)\n",
        "  for row in reader:\n",
        "    review = row[2].lower()\n",
        "    BeautifulSoup(review, \"lxml\")                 #remove html tags\n",
        "    review =review.replace('[^\\w\\s]','')          #remove puntuations\n",
        "    review= review.replace(\"<br /><br />\",\" \")\n",
        "    for word in stopWords:                        #remove stopwords\n",
        "      stopword = \" \" + word + \" \"\n",
        "      review = review.replace(stopword , \" \")\n",
        "    reviews.append(review)\n",
        "\n",
        "\n",
        "print(f'Time taken : {(time.time() - start_time) / 60:.2f} mins')"
      ],
      "execution_count": 11,
      "outputs": [
        {
          "output_type": "stream",
          "text": [
            "Time taken : 1.37 mins\n"
          ],
          "name": "stdout"
        }
      ]
    },
    {
      "cell_type": "code",
      "metadata": {
        "id": "R6itscTsE8ty",
        "colab_type": "code",
        "colab": {
          "base_uri": "https://localhost:8080/",
          "height": 127
        },
        "outputId": "8ae164b8-df2b-4727-b753-474c565ad3b5"
      },
      "source": [
        "print(\"reviews: \" ,len(reviews))\n",
        "print(reviews[0])\n",
        "nltk.download('punkt')"
      ],
      "execution_count": 12,
      "outputs": [
        {
          "output_type": "stream",
          "text": [
            "reviews:  92786\n",
            "one reviewers mentioned watchingoz episode hooked right exactly happened me first thing struck oz brutality unflinching scenes violence set right word go trust me show faint hearted timid show pulls punches regards drugs sex violence hardcore classic use word called oz nickname given oswald maximum security state penitentary focuses mainly emerald city experimental section prison cells glass fronts face inwards privacy high agenda em city home manyaryans muslims gangstas latinos christians italians irish moreso scuffles death stares dodgy dealings shady agreements never far away would say main appeal show due fact goes shows dare forget pretty pictures painted mainstream audiences forget charm forget romanceoz mess around first episode ever saw struck nasty surreal say ready it watched more developed taste oz got accustomed high levels graphic violence violence injustice crooked guards who'll sold nickel inmates who'll kill order get away it well mannered middle class inmates turned prison bitches due lack street skills prison experience watching oz may become comfortable uncomfortable viewingthats get touch darker side\n",
            "[nltk_data] Downloading package punkt to /root/nltk_data...\n",
            "[nltk_data]   Package punkt is already up-to-date!\n"
          ],
          "name": "stdout"
        },
        {
          "output_type": "execute_result",
          "data": {
            "text/plain": [
              "True"
            ]
          },
          "metadata": {
            "tags": []
          },
          "execution_count": 12
        }
      ]
    },
    {
      "cell_type": "code",
      "metadata": {
        "id": "gH86ZuQJFrKM",
        "colab_type": "code",
        "colab": {}
      },
      "source": [
        "  ## now remove some comman words also\n",
        "\n",
        "# from collections import Counter\n",
        "# cnt = Counter()\n",
        "\n",
        "# for sentence in reviews :\n",
        "#   for word in sentence.split() :\n",
        "#     cnt[word] += 1\n",
        "\n",
        "# print(cnt.most_common(10))\n",
        "\n",
        "\n",
        "# freq = set([W for (W ,Wc) in cnt.most_common(10)])\n",
        "# for review in reviews:\n",
        "#   for word in freq:\n",
        "#     frequent = \" \" + word + \" \"\n",
        "#     review =review.replace(frequent , \" \")\n",
        "\n",
        "# print(\"review: \" ,len(reviews[0]))\n",
        "# print(reviews[0])\n",
        "\n",
        "# stemming and lemmatization\n",
        "\n",
        "# from nltk.corpus import wordnet\n",
        "# from nltk.stem import WordNetLemmatizer\n",
        "\n",
        "# nltk.download('wordnet')\n",
        "# nltk.download('averaged_perceptron_tagger')\n",
        "\n",
        "# lemmatizer = WordNetLemmatizer()\n",
        "\n",
        "# wordnet_map = {\"N\":wordnet.NOUN, \"V\":wordnet.VERB, \"J\":wordnet.ADJ, \"R\":wordnet.ADV} # Pos tag, used Noun, Verb, Adjective and Adverb\n",
        "\n",
        "# for review in reviews:\n",
        "#   pos_tagged_text = nltk.pos_tag(review.split())\n",
        "#   review = \" \".join([lemmatizer.lemmatize(word, wordnet_map.get(pos[0], wordnet.NOUN)) for word, pos in pos_tagged_text])"
      ],
      "execution_count": 0,
      "outputs": []
    },
    {
      "cell_type": "code",
      "metadata": {
        "id": "rifRC0_1FAkQ",
        "colab_type": "code",
        "colab": {
          "base_uri": "https://localhost:8080/",
          "height": 35
        },
        "outputId": "82fe6ff1-c6b7-4634-a06b-770623fc7b5c"
      },
      "source": [
        "import gensim\n",
        "import nltk\n",
        "import time\n",
        "from gensim import corpora , models, similarities\n",
        "\n",
        "start_time = time.time()\n",
        "tok_corp =[nltk.word_tokenize(sent) for sent in reviews]\n",
        "\n",
        "\n",
        "model = gensim.models.Word2Vec(tok_corp, min_count =5 , size = 32 )\n",
        "\n",
        "print(f'Time taken : {(time.time() - start_time) / 60:.2f} mins')"
      ],
      "execution_count": 7,
      "outputs": [
        {
          "output_type": "stream",
          "text": [
            "Time taken : 1.53 mins\n"
          ],
          "name": "stdout"
        }
      ]
    },
    {
      "cell_type": "code",
      "metadata": {
        "id": "NR0A5cl2FEof",
        "colab_type": "code",
        "colab": {
          "base_uri": "https://localhost:8080/",
          "height": 35
        },
        "outputId": "f508c56a-10c9-4d84-bf95-0e9242861979"
      },
      "source": [
        "len(model.wv.vocab)"
      ],
      "execution_count": 20,
      "outputs": [
        {
          "output_type": "execute_result",
          "data": {
            "text/plain": [
              "42196"
            ]
          },
          "metadata": {
            "tags": []
          },
          "execution_count": 20
        }
      ]
    },
    {
      "cell_type": "code",
      "metadata": {
        "id": "q9d5QZciFIl5",
        "colab_type": "code",
        "colab": {
          "base_uri": "https://localhost:8080/",
          "height": 253
        },
        "outputId": "c8ef1df7-c609-4e4d-9e90-f3354fe7ed80"
      },
      "source": [
        "model.wv.most_similar('cool')"
      ],
      "execution_count": 21,
      "outputs": [
        {
          "output_type": "stream",
          "text": [
            "/usr/local/lib/python3.6/dist-packages/gensim/matutils.py:737: FutureWarning: Conversion of the second argument of issubdtype from `int` to `np.signedinteger` is deprecated. In future, it will be treated as `np.int64 == np.dtype(int).type`.\n",
            "  if np.issubdtype(vec.dtype, np.int):\n"
          ],
          "name": "stderr"
        },
        {
          "output_type": "execute_result",
          "data": {
            "text/plain": [
              "[('nice', 0.7845525741577148),\n",
              " ('alright', 0.7602502107620239),\n",
              " ('neat', 0.7570016980171204),\n",
              " ('awesome', 0.7449935078620911),\n",
              " ('weird', 0.741073727607727),\n",
              " ('ok', 0.7268145680427551),\n",
              " ('good', 0.7219468355178833),\n",
              " ('scary', 0.7168458700180054),\n",
              " ('okay', 0.7051831483840942),\n",
              " ('goofy', 0.7043986320495605)]"
            ]
          },
          "metadata": {
            "tags": []
          },
          "execution_count": 21
        }
      ]
    },
    {
      "cell_type": "code",
      "metadata": {
        "id": "bVTn8bA4FNs6",
        "colab_type": "code",
        "colab": {
          "base_uri": "https://localhost:8080/",
          "height": 71
        },
        "outputId": "a4a396e8-96f5-4a9d-b484-a1e59db61c3d"
      },
      "source": [
        "len(model['work'])"
      ],
      "execution_count": 22,
      "outputs": [
        {
          "output_type": "stream",
          "text": [
            "/usr/local/lib/python3.6/dist-packages/ipykernel_launcher.py:1: DeprecationWarning: Call to deprecated `__getitem__` (Method will be removed in 4.0.0, use self.wv.__getitem__() instead).\n",
            "  \"\"\"Entry point for launching an IPython kernel.\n"
          ],
          "name": "stderr"
        },
        {
          "output_type": "execute_result",
          "data": {
            "text/plain": [
              "32"
            ]
          },
          "metadata": {
            "tags": []
          },
          "execution_count": 22
        }
      ]
    },
    {
      "cell_type": "code",
      "metadata": {
        "id": "LwHWhv5EFQ2M",
        "colab_type": "code",
        "colab": {
          "base_uri": "https://localhost:8080/",
          "height": 89
        },
        "outputId": "fa45e524-38fc-4054-a2d9-593a7476483f"
      },
      "source": [
        "word_to_index = {}\n",
        "index_to_word ={}\n",
        "\n",
        "embedding_matrix = np.zeros(((len(model.wv.vocab)),len(model['work'])))\n",
        "\n",
        "i = 0\n",
        "\n",
        "for word in model.wv.vocab:\n",
        "  word_to_index[word] = i\n",
        "  index_to_word[i] = word\n",
        "  embedding_matrix[i] = model[word]\n",
        "\n",
        "  i +=1\n",
        "\n",
        "embedding_matrix = embedding_matrix.T"
      ],
      "execution_count": 23,
      "outputs": [
        {
          "output_type": "stream",
          "text": [
            "/usr/local/lib/python3.6/dist-packages/ipykernel_launcher.py:4: DeprecationWarning: Call to deprecated `__getitem__` (Method will be removed in 4.0.0, use self.wv.__getitem__() instead).\n",
            "  after removing the cwd from sys.path.\n",
            "/usr/local/lib/python3.6/dist-packages/ipykernel_launcher.py:11: DeprecationWarning: Call to deprecated `__getitem__` (Method will be removed in 4.0.0, use self.wv.__getitem__() instead).\n",
            "  # This is added back by InteractiveShellApp.init_path()\n"
          ],
          "name": "stderr"
        }
      ]
    },
    {
      "cell_type": "code",
      "metadata": {
        "id": "_cHi8NNAFVR_",
        "colab_type": "code",
        "colab": {
          "base_uri": "https://localhost:8080/",
          "height": 35
        },
        "outputId": "26d962cd-0ba0-4972-bbf4-a652a9986678"
      },
      "source": [
        "len(word_to_index.keys())"
      ],
      "execution_count": 24,
      "outputs": [
        {
          "output_type": "execute_result",
          "data": {
            "text/plain": [
              "42196"
            ]
          },
          "metadata": {
            "tags": []
          },
          "execution_count": 24
        }
      ]
    },
    {
      "cell_type": "code",
      "metadata": {
        "id": "WqIKA79dFXRm",
        "colab_type": "code",
        "colab": {
          "base_uri": "https://localhost:8080/",
          "height": 35
        },
        "outputId": "7d097243-1089-42d4-cdf9-f75559d7e9b8"
      },
      "source": [
        "len(model.wv.vocab)"
      ],
      "execution_count": 25,
      "outputs": [
        {
          "output_type": "execute_result",
          "data": {
            "text/plain": [
              "42196"
            ]
          },
          "metadata": {
            "tags": []
          },
          "execution_count": 25
        }
      ]
    },
    {
      "cell_type": "code",
      "metadata": {
        "id": "E2nfgHr9FZLk",
        "colab_type": "code",
        "colab": {
          "base_uri": "https://localhost:8080/",
          "height": 71
        },
        "outputId": "349a1e2c-60f2-4fbd-e2c5-c5395d99fabc"
      },
      "source": [
        "type(model['positive'])"
      ],
      "execution_count": 26,
      "outputs": [
        {
          "output_type": "stream",
          "text": [
            "/usr/local/lib/python3.6/dist-packages/ipykernel_launcher.py:1: DeprecationWarning: Call to deprecated `__getitem__` (Method will be removed in 4.0.0, use self.wv.__getitem__() instead).\n",
            "  \"\"\"Entry point for launching an IPython kernel.\n"
          ],
          "name": "stderr"
        },
        {
          "output_type": "execute_result",
          "data": {
            "text/plain": [
              "numpy.ndarray"
            ]
          },
          "metadata": {
            "tags": []
          },
          "execution_count": 26
        }
      ]
    },
    {
      "cell_type": "code",
      "metadata": {
        "id": "5t-gXtbvFbIc",
        "colab_type": "code",
        "colab": {
          "base_uri": "https://localhost:8080/",
          "height": 53
        },
        "outputId": "f7434660-7da8-4009-ea96-29999585e0dc"
      },
      "source": [
        "from sklearn.decomposition import PCA\n",
        "from sklearn.manifold import TSNE\n",
        "import matplotlib.pyplot as plt\n",
        "\n",
        "start_time = time.time()\n",
        "\n",
        "pca = PCA(n_components=16)\n",
        "X_16 = pca.fit_transform(embedding_matrix.T[:500,:])\n",
        "\n",
        "model_tsne = TSNE(n_components=2, random_state=0)\n",
        "Y = model_tsne.fit_transform(X_16)\n",
        "\n",
        "print (\"shape of Y :\",Y.shape)\n",
        "\n",
        "print(f'Time taken : {(time.time() - start_time) / 60:.2f} mins')"
      ],
      "execution_count": 27,
      "outputs": [
        {
          "output_type": "stream",
          "text": [
            "shape of Y : (500, 2)\n",
            "Time taken : 0.06 mins\n"
          ],
          "name": "stdout"
        }
      ]
    },
    {
      "cell_type": "code",
      "metadata": {
        "id": "51ztF-1HFdmQ",
        "colab_type": "code",
        "colab": {
          "base_uri": "https://localhost:8080/",
          "height": 283
        },
        "outputId": "87cbe5a1-f98b-4548-e1e6-21affb8cfade"
      },
      "source": [
        "## 2d vizualization of some of the emmbeddings\n",
        "plt.scatter(Y[:,0],Y[:,1] )"
      ],
      "execution_count": 28,
      "outputs": [
        {
          "output_type": "execute_result",
          "data": {
            "text/plain": [
              "<matplotlib.collections.PathCollection at 0x7fee602d10f0>"
            ]
          },
          "metadata": {
            "tags": []
          },
          "execution_count": 28
        },
        {
          "output_type": "display_data",
          "data": {
            "image/png": "[encoded data removed]",
            "text/plain": [
              "<Figure size 432x288 with 1 Axes>"
            ]
          },
          "metadata": {
            "tags": [],
            "needs_background": "light"
          }
        }
      ]
    },
    {
      "cell_type": "code",
      "metadata": {
        "id": "DH5VCuDYFflf",
        "colab_type": "code",
        "colab": {
          "base_uri": "https://localhost:8080/",
          "height": 53
        },
        "outputId": "9825c24c-402f-4ddf-dc2e-a343fb49a108"
      },
      "source": [
        "## download files for vizualization in embedding projector \n",
        "\n",
        "import io \n",
        "\n",
        "out_v = io.open('vecs.tsv', 'w', encoding='utf-8')\n",
        "out_m = io.open('meta.tsv', 'w', encoding='utf-8')\n",
        "for word_num in range(0, len(model.wv.vocab)):\n",
        "  word = index_to_word[word_num]\n",
        "  embeddings = model['word']\n",
        "  out_m.write(word + \"\\n\")\n",
        "  out_v.write('\\t'.join([str(x) for x in embeddings]) + \"\\n\")\n",
        "out_v.close()\n",
        "out_m.close()\n",
        "\n",
        "try:\n",
        "  from google.colab import files\n",
        "except ImportError:\n",
        "  pass\n",
        "else:\n",
        "  files.download('vecs.tsv')\n",
        "  files.download('meta.tsv')"
      ],
      "execution_count": 29,
      "outputs": [
        {
          "output_type": "stream",
          "text": [
            "/usr/local/lib/python3.6/dist-packages/ipykernel_launcher.py:9: DeprecationWarning: Call to deprecated `__getitem__` (Method will be removed in 4.0.0, use self.wv.__getitem__() instead).\n",
            "  if __name__ == '__main__':\n"
          ],
          "name": "stderr"
        }
      ]
    },
    {
      "cell_type": "code",
      "metadata": {
        "id": "hNPr9yESF7Xr",
        "colab_type": "code",
        "colab": {}
      },
      "source": [
        ""
      ],
      "execution_count": 0,
      "outputs": []
    }
  ]
}